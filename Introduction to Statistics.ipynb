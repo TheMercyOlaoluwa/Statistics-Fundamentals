{
 "cells": [
  {
   "cell_type": "code",
   "execution_count": 1,
   "id": "aa83cf50-e356-4a11-bdbb-90c00569e756",
   "metadata": {},
   "outputs": [],
   "source": [
    "import pandas as pd\n",
    "import numpy as np\n",
    "import matplotlib.pyplot as plt"
   ]
  },
  {
   "cell_type": "code",
   "execution_count": 2,
   "id": "a35d1e44-3161-4927-b399-fdde43d5d818",
   "metadata": {},
   "outputs": [
    {
     "data": {
      "text/html": [
       "<div>\n",
       "<style scoped>\n",
       "    .dataframe tbody tr th:only-of-type {\n",
       "        vertical-align: middle;\n",
       "    }\n",
       "\n",
       "    .dataframe tbody tr th {\n",
       "        vertical-align: top;\n",
       "    }\n",
       "\n",
       "    .dataframe thead th {\n",
       "        text-align: right;\n",
       "    }\n",
       "</style>\n",
       "<table border=\"1\" class=\"dataframe\">\n",
       "  <thead>\n",
       "    <tr style=\"text-align: right;\">\n",
       "      <th></th>\n",
       "      <th>Unnamed: 0</th>\n",
       "      <th>product</th>\n",
       "      <th>client</th>\n",
       "      <th>status</th>\n",
       "      <th>amount</th>\n",
       "      <th>num_users</th>\n",
       "    </tr>\n",
       "  </thead>\n",
       "  <tbody>\n",
       "    <tr>\n",
       "      <th>0</th>\n",
       "      <td>1</td>\n",
       "      <td>Product F</td>\n",
       "      <td>Current</td>\n",
       "      <td>Won</td>\n",
       "      <td>7389.52</td>\n",
       "      <td>19</td>\n",
       "    </tr>\n",
       "    <tr>\n",
       "      <th>1</th>\n",
       "      <td>2</td>\n",
       "      <td>Product C</td>\n",
       "      <td>New</td>\n",
       "      <td>Won</td>\n",
       "      <td>4493.01</td>\n",
       "      <td>43</td>\n",
       "    </tr>\n",
       "    <tr>\n",
       "      <th>2</th>\n",
       "      <td>3</td>\n",
       "      <td>Product B</td>\n",
       "      <td>New</td>\n",
       "      <td>Won</td>\n",
       "      <td>5738.09</td>\n",
       "      <td>87</td>\n",
       "    </tr>\n",
       "    <tr>\n",
       "      <th>3</th>\n",
       "      <td>4</td>\n",
       "      <td>Product I</td>\n",
       "      <td>Current</td>\n",
       "      <td>Won</td>\n",
       "      <td>2591.24</td>\n",
       "      <td>83</td>\n",
       "    </tr>\n",
       "    <tr>\n",
       "      <th>4</th>\n",
       "      <td>5</td>\n",
       "      <td>Product E</td>\n",
       "      <td>Current</td>\n",
       "      <td>Won</td>\n",
       "      <td>6622.97</td>\n",
       "      <td>17</td>\n",
       "    </tr>\n",
       "    <tr>\n",
       "      <th>...</th>\n",
       "      <td>...</td>\n",
       "      <td>...</td>\n",
       "      <td>...</td>\n",
       "      <td>...</td>\n",
       "      <td>...</td>\n",
       "      <td>...</td>\n",
       "    </tr>\n",
       "    <tr>\n",
       "      <th>173</th>\n",
       "      <td>174</td>\n",
       "      <td>Product A</td>\n",
       "      <td>Current</td>\n",
       "      <td>Lost</td>\n",
       "      <td>5835.32</td>\n",
       "      <td>23</td>\n",
       "    </tr>\n",
       "    <tr>\n",
       "      <th>174</th>\n",
       "      <td>175</td>\n",
       "      <td>Product D</td>\n",
       "      <td>Current</td>\n",
       "      <td>Won</td>\n",
       "      <td>6377.50</td>\n",
       "      <td>12</td>\n",
       "    </tr>\n",
       "    <tr>\n",
       "      <th>175</th>\n",
       "      <td>176</td>\n",
       "      <td>Product D</td>\n",
       "      <td>Current</td>\n",
       "      <td>Won</td>\n",
       "      <td>3537.61</td>\n",
       "      <td>28</td>\n",
       "    </tr>\n",
       "    <tr>\n",
       "      <th>176</th>\n",
       "      <td>177</td>\n",
       "      <td>Product A</td>\n",
       "      <td>Current</td>\n",
       "      <td>Won</td>\n",
       "      <td>6448.07</td>\n",
       "      <td>34</td>\n",
       "    </tr>\n",
       "    <tr>\n",
       "      <th>177</th>\n",
       "      <td>178</td>\n",
       "      <td>Product D</td>\n",
       "      <td>New</td>\n",
       "      <td>Lost</td>\n",
       "      <td>7320.05</td>\n",
       "      <td>72</td>\n",
       "    </tr>\n",
       "  </tbody>\n",
       "</table>\n",
       "<p>178 rows × 6 columns</p>\n",
       "</div>"
      ],
      "text/plain": [
       "     Unnamed: 0    product   client status   amount  num_users\n",
       "0             1  Product F  Current    Won  7389.52         19\n",
       "1             2  Product C      New    Won  4493.01         43\n",
       "2             3  Product B      New    Won  5738.09         87\n",
       "3             4  Product I  Current    Won  2591.24         83\n",
       "4             5  Product E  Current    Won  6622.97         17\n",
       "..          ...        ...      ...    ...      ...        ...\n",
       "173         174  Product A  Current   Lost  5835.32         23\n",
       "174         175  Product D  Current    Won  6377.50         12\n",
       "175         176  Product D  Current    Won  3537.61         28\n",
       "176         177  Product A  Current    Won  6448.07         34\n",
       "177         178  Product D      New   Lost  7320.05         72\n",
       "\n",
       "[178 rows x 6 columns]"
      ]
     },
     "execution_count": 2,
     "metadata": {},
     "output_type": "execute_result"
    }
   ],
   "source": [
    "amir_deals = pd.read_csv(r\"C:\\Users\\PC\\Desktop\\Oluwatobi\\Python\\Statistics in Python\\Introduction to Statistics\\amir_deals.csv\")\n",
    "amir_deals"
   ]
  },
  {
   "cell_type": "code",
   "execution_count": 3,
   "id": "98347243-879d-488a-8c12-fa650b8cbc91",
   "metadata": {},
   "outputs": [
    {
     "data": {
      "text/html": [
       "<div>\n",
       "<style scoped>\n",
       "    .dataframe tbody tr th:only-of-type {\n",
       "        vertical-align: middle;\n",
       "    }\n",
       "\n",
       "    .dataframe tbody tr th {\n",
       "        vertical-align: top;\n",
       "    }\n",
       "\n",
       "    .dataframe thead th {\n",
       "        text-align: right;\n",
       "    }\n",
       "</style>\n",
       "<table border=\"1\" class=\"dataframe\">\n",
       "  <thead>\n",
       "    <tr style=\"text-align: right;\">\n",
       "      <th></th>\n",
       "      <th>Unnamed: 0</th>\n",
       "      <th>country</th>\n",
       "      <th>food_category</th>\n",
       "      <th>consumption</th>\n",
       "      <th>co2_emission</th>\n",
       "    </tr>\n",
       "  </thead>\n",
       "  <tbody>\n",
       "    <tr>\n",
       "      <th>0</th>\n",
       "      <td>1</td>\n",
       "      <td>Argentina</td>\n",
       "      <td>pork</td>\n",
       "      <td>10.51</td>\n",
       "      <td>37.20</td>\n",
       "    </tr>\n",
       "    <tr>\n",
       "      <th>1</th>\n",
       "      <td>2</td>\n",
       "      <td>Argentina</td>\n",
       "      <td>poultry</td>\n",
       "      <td>38.66</td>\n",
       "      <td>41.53</td>\n",
       "    </tr>\n",
       "    <tr>\n",
       "      <th>2</th>\n",
       "      <td>3</td>\n",
       "      <td>Argentina</td>\n",
       "      <td>beef</td>\n",
       "      <td>55.48</td>\n",
       "      <td>1712.00</td>\n",
       "    </tr>\n",
       "    <tr>\n",
       "      <th>3</th>\n",
       "      <td>4</td>\n",
       "      <td>Argentina</td>\n",
       "      <td>lamb_goat</td>\n",
       "      <td>1.56</td>\n",
       "      <td>54.63</td>\n",
       "    </tr>\n",
       "    <tr>\n",
       "      <th>4</th>\n",
       "      <td>5</td>\n",
       "      <td>Argentina</td>\n",
       "      <td>fish</td>\n",
       "      <td>4.36</td>\n",
       "      <td>6.96</td>\n",
       "    </tr>\n",
       "    <tr>\n",
       "      <th>...</th>\n",
       "      <td>...</td>\n",
       "      <td>...</td>\n",
       "      <td>...</td>\n",
       "      <td>...</td>\n",
       "      <td>...</td>\n",
       "    </tr>\n",
       "    <tr>\n",
       "      <th>1425</th>\n",
       "      <td>1426</td>\n",
       "      <td>Bangladesh</td>\n",
       "      <td>dairy</td>\n",
       "      <td>21.91</td>\n",
       "      <td>31.21</td>\n",
       "    </tr>\n",
       "    <tr>\n",
       "      <th>1426</th>\n",
       "      <td>1427</td>\n",
       "      <td>Bangladesh</td>\n",
       "      <td>wheat</td>\n",
       "      <td>17.47</td>\n",
       "      <td>3.33</td>\n",
       "    </tr>\n",
       "    <tr>\n",
       "      <th>1427</th>\n",
       "      <td>1428</td>\n",
       "      <td>Bangladesh</td>\n",
       "      <td>rice</td>\n",
       "      <td>171.73</td>\n",
       "      <td>219.76</td>\n",
       "    </tr>\n",
       "    <tr>\n",
       "      <th>1428</th>\n",
       "      <td>1429</td>\n",
       "      <td>Bangladesh</td>\n",
       "      <td>soybeans</td>\n",
       "      <td>0.61</td>\n",
       "      <td>0.27</td>\n",
       "    </tr>\n",
       "    <tr>\n",
       "      <th>1429</th>\n",
       "      <td>1430</td>\n",
       "      <td>Bangladesh</td>\n",
       "      <td>nuts</td>\n",
       "      <td>0.72</td>\n",
       "      <td>1.27</td>\n",
       "    </tr>\n",
       "  </tbody>\n",
       "</table>\n",
       "<p>1430 rows × 5 columns</p>\n",
       "</div>"
      ],
      "text/plain": [
       "      Unnamed: 0     country food_category  consumption  co2_emission\n",
       "0              1   Argentina          pork        10.51         37.20\n",
       "1              2   Argentina       poultry        38.66         41.53\n",
       "2              3   Argentina          beef        55.48       1712.00\n",
       "3              4   Argentina     lamb_goat         1.56         54.63\n",
       "4              5   Argentina          fish         4.36          6.96\n",
       "...          ...         ...           ...          ...           ...\n",
       "1425        1426  Bangladesh         dairy        21.91         31.21\n",
       "1426        1427  Bangladesh         wheat        17.47          3.33\n",
       "1427        1428  Bangladesh          rice       171.73        219.76\n",
       "1428        1429  Bangladesh      soybeans         0.61          0.27\n",
       "1429        1430  Bangladesh          nuts         0.72          1.27\n",
       "\n",
       "[1430 rows x 5 columns]"
      ]
     },
     "execution_count": 3,
     "metadata": {},
     "output_type": "execute_result"
    }
   ],
   "source": [
    "food_consumption = pd.read_csv(r\"C:\\Users\\PC\\Desktop\\Oluwatobi\\Python\\Statistics in Python\\Introduction to Statistics\\food_consumption.csv\")\n",
    "food_consumption"
   ]
  },
  {
   "cell_type": "code",
   "execution_count": 90,
   "id": "bc2b1d1a-4ca1-4877-bd05-23486c039337",
   "metadata": {},
   "outputs": [
    {
     "data": {
      "text/html": [
       "<div>\n",
       "<style scoped>\n",
       "    .dataframe tbody tr th:only-of-type {\n",
       "        vertical-align: middle;\n",
       "    }\n",
       "\n",
       "    .dataframe tbody tr th {\n",
       "        vertical-align: top;\n",
       "    }\n",
       "\n",
       "    .dataframe thead th {\n",
       "        text-align: right;\n",
       "    }\n",
       "</style>\n",
       "<table border=\"1\" class=\"dataframe\">\n",
       "  <thead>\n",
       "    <tr style=\"text-align: right;\">\n",
       "      <th></th>\n",
       "      <th>Unnamed: 0</th>\n",
       "      <th>country</th>\n",
       "      <th>social_support</th>\n",
       "      <th>freedom</th>\n",
       "      <th>corruption</th>\n",
       "      <th>generosity</th>\n",
       "      <th>gdp_per_cap</th>\n",
       "      <th>life_exp</th>\n",
       "      <th>happiness_score</th>\n",
       "    </tr>\n",
       "  </thead>\n",
       "  <tbody>\n",
       "    <tr>\n",
       "      <th>0</th>\n",
       "      <td>1</td>\n",
       "      <td>Finland</td>\n",
       "      <td>2.0</td>\n",
       "      <td>5.0</td>\n",
       "      <td>4.0</td>\n",
       "      <td>47.0</td>\n",
       "      <td>42400</td>\n",
       "      <td>81.8</td>\n",
       "      <td>155</td>\n",
       "    </tr>\n",
       "    <tr>\n",
       "      <th>1</th>\n",
       "      <td>2</td>\n",
       "      <td>Denmark</td>\n",
       "      <td>4.0</td>\n",
       "      <td>6.0</td>\n",
       "      <td>3.0</td>\n",
       "      <td>22.0</td>\n",
       "      <td>48300</td>\n",
       "      <td>81.0</td>\n",
       "      <td>154</td>\n",
       "    </tr>\n",
       "    <tr>\n",
       "      <th>2</th>\n",
       "      <td>3</td>\n",
       "      <td>Norway</td>\n",
       "      <td>3.0</td>\n",
       "      <td>3.0</td>\n",
       "      <td>8.0</td>\n",
       "      <td>11.0</td>\n",
       "      <td>66300</td>\n",
       "      <td>82.6</td>\n",
       "      <td>153</td>\n",
       "    </tr>\n",
       "    <tr>\n",
       "      <th>3</th>\n",
       "      <td>4</td>\n",
       "      <td>Iceland</td>\n",
       "      <td>1.0</td>\n",
       "      <td>7.0</td>\n",
       "      <td>45.0</td>\n",
       "      <td>3.0</td>\n",
       "      <td>47900</td>\n",
       "      <td>83.0</td>\n",
       "      <td>152</td>\n",
       "    </tr>\n",
       "    <tr>\n",
       "      <th>4</th>\n",
       "      <td>5</td>\n",
       "      <td>Netherlands</td>\n",
       "      <td>15.0</td>\n",
       "      <td>19.0</td>\n",
       "      <td>12.0</td>\n",
       "      <td>7.0</td>\n",
       "      <td>50500</td>\n",
       "      <td>81.8</td>\n",
       "      <td>151</td>\n",
       "    </tr>\n",
       "    <tr>\n",
       "      <th>...</th>\n",
       "      <td>...</td>\n",
       "      <td>...</td>\n",
       "      <td>...</td>\n",
       "      <td>...</td>\n",
       "      <td>...</td>\n",
       "      <td>...</td>\n",
       "      <td>...</td>\n",
       "      <td>...</td>\n",
       "      <td>...</td>\n",
       "    </tr>\n",
       "    <tr>\n",
       "      <th>138</th>\n",
       "      <td>139</td>\n",
       "      <td>Rwanda</td>\n",
       "      <td>144.0</td>\n",
       "      <td>21.0</td>\n",
       "      <td>2.0</td>\n",
       "      <td>90.0</td>\n",
       "      <td>2110</td>\n",
       "      <td>69.1</td>\n",
       "      <td>4</td>\n",
       "    </tr>\n",
       "    <tr>\n",
       "      <th>139</th>\n",
       "      <td>140</td>\n",
       "      <td>Tanzania</td>\n",
       "      <td>131.0</td>\n",
       "      <td>78.0</td>\n",
       "      <td>34.0</td>\n",
       "      <td>49.0</td>\n",
       "      <td>2980</td>\n",
       "      <td>67.7</td>\n",
       "      <td>3</td>\n",
       "    </tr>\n",
       "    <tr>\n",
       "      <th>140</th>\n",
       "      <td>141</td>\n",
       "      <td>Afghanistan</td>\n",
       "      <td>151.0</td>\n",
       "      <td>155.0</td>\n",
       "      <td>136.0</td>\n",
       "      <td>137.0</td>\n",
       "      <td>1760</td>\n",
       "      <td>64.1</td>\n",
       "      <td>2</td>\n",
       "    </tr>\n",
       "    <tr>\n",
       "      <th>141</th>\n",
       "      <td>142</td>\n",
       "      <td>Central African Republic</td>\n",
       "      <td>155.0</td>\n",
       "      <td>133.0</td>\n",
       "      <td>122.0</td>\n",
       "      <td>113.0</td>\n",
       "      <td>794</td>\n",
       "      <td>52.9</td>\n",
       "      <td>1</td>\n",
       "    </tr>\n",
       "    <tr>\n",
       "      <th>142</th>\n",
       "      <td>143</td>\n",
       "      <td>South Sudan</td>\n",
       "      <td>148.0</td>\n",
       "      <td>154.0</td>\n",
       "      <td>61.0</td>\n",
       "      <td>85.0</td>\n",
       "      <td>1860</td>\n",
       "      <td>59.7</td>\n",
       "      <td>0</td>\n",
       "    </tr>\n",
       "  </tbody>\n",
       "</table>\n",
       "<p>143 rows × 9 columns</p>\n",
       "</div>"
      ],
      "text/plain": [
       "     Unnamed: 0                   country  social_support  freedom  \\\n",
       "0             1                   Finland             2.0      5.0   \n",
       "1             2                   Denmark             4.0      6.0   \n",
       "2             3                    Norway             3.0      3.0   \n",
       "3             4                   Iceland             1.0      7.0   \n",
       "4             5               Netherlands            15.0     19.0   \n",
       "..          ...                       ...             ...      ...   \n",
       "138         139                    Rwanda           144.0     21.0   \n",
       "139         140                  Tanzania           131.0     78.0   \n",
       "140         141               Afghanistan           151.0    155.0   \n",
       "141         142  Central African Republic           155.0    133.0   \n",
       "142         143               South Sudan           148.0    154.0   \n",
       "\n",
       "     corruption  generosity  gdp_per_cap  life_exp  happiness_score  \n",
       "0           4.0        47.0        42400      81.8              155  \n",
       "1           3.0        22.0        48300      81.0              154  \n",
       "2           8.0        11.0        66300      82.6              153  \n",
       "3          45.0         3.0        47900      83.0              152  \n",
       "4          12.0         7.0        50500      81.8              151  \n",
       "..          ...         ...          ...       ...              ...  \n",
       "138         2.0        90.0         2110      69.1                4  \n",
       "139        34.0        49.0         2980      67.7                3  \n",
       "140       136.0       137.0         1760      64.1                2  \n",
       "141       122.0       113.0          794      52.9                1  \n",
       "142        61.0        85.0         1860      59.7                0  \n",
       "\n",
       "[143 rows x 9 columns]"
      ]
     },
     "execution_count": 90,
     "metadata": {},
     "output_type": "execute_result"
    }
   ],
   "source": [
    "world_happiness = pd.read_csv(r\"C:\\Users\\PC\\Desktop\\Oluwatobi\\Python\\Statistics in Python\\Introduction to Statistics\\world_happiness.csv\")\n",
    "world_happiness"
   ]
  },
  {
   "cell_type": "code",
   "execution_count": 5,
   "id": "654251d1-15ab-4fda-acef-6d3c04160991",
   "metadata": {},
   "outputs": [
    {
     "data": {
      "text/html": [
       "<div>\n",
       "<style scoped>\n",
       "    .dataframe tbody tr th:only-of-type {\n",
       "        vertical-align: middle;\n",
       "    }\n",
       "\n",
       "    .dataframe tbody tr th {\n",
       "        vertical-align: top;\n",
       "    }\n",
       "\n",
       "    .dataframe thead th {\n",
       "        text-align: right;\n",
       "    }\n",
       "</style>\n",
       "<table border=\"1\" class=\"dataframe\">\n",
       "  <thead>\n",
       "    <tr style=\"text-align: right;\">\n",
       "      <th></th>\n",
       "      <th>Unnamed: 0</th>\n",
       "      <th>country</th>\n",
       "      <th>food_category</th>\n",
       "      <th>consumption</th>\n",
       "      <th>co2_emission</th>\n",
       "    </tr>\n",
       "  </thead>\n",
       "  <tbody>\n",
       "    <tr>\n",
       "      <th>55</th>\n",
       "      <td>56</td>\n",
       "      <td>USA</td>\n",
       "      <td>pork</td>\n",
       "      <td>27.64</td>\n",
       "      <td>97.83</td>\n",
       "    </tr>\n",
       "    <tr>\n",
       "      <th>56</th>\n",
       "      <td>57</td>\n",
       "      <td>USA</td>\n",
       "      <td>poultry</td>\n",
       "      <td>50.01</td>\n",
       "      <td>53.72</td>\n",
       "    </tr>\n",
       "    <tr>\n",
       "      <th>57</th>\n",
       "      <td>58</td>\n",
       "      <td>USA</td>\n",
       "      <td>beef</td>\n",
       "      <td>36.24</td>\n",
       "      <td>1118.29</td>\n",
       "    </tr>\n",
       "    <tr>\n",
       "      <th>58</th>\n",
       "      <td>59</td>\n",
       "      <td>USA</td>\n",
       "      <td>lamb_goat</td>\n",
       "      <td>0.43</td>\n",
       "      <td>15.06</td>\n",
       "    </tr>\n",
       "    <tr>\n",
       "      <th>59</th>\n",
       "      <td>60</td>\n",
       "      <td>USA</td>\n",
       "      <td>fish</td>\n",
       "      <td>12.35</td>\n",
       "      <td>19.72</td>\n",
       "    </tr>\n",
       "    <tr>\n",
       "      <th>60</th>\n",
       "      <td>61</td>\n",
       "      <td>USA</td>\n",
       "      <td>eggs</td>\n",
       "      <td>14.58</td>\n",
       "      <td>13.39</td>\n",
       "    </tr>\n",
       "    <tr>\n",
       "      <th>61</th>\n",
       "      <td>62</td>\n",
       "      <td>USA</td>\n",
       "      <td>dairy</td>\n",
       "      <td>254.69</td>\n",
       "      <td>362.78</td>\n",
       "    </tr>\n",
       "    <tr>\n",
       "      <th>62</th>\n",
       "      <td>63</td>\n",
       "      <td>USA</td>\n",
       "      <td>wheat</td>\n",
       "      <td>80.43</td>\n",
       "      <td>15.34</td>\n",
       "    </tr>\n",
       "    <tr>\n",
       "      <th>63</th>\n",
       "      <td>64</td>\n",
       "      <td>USA</td>\n",
       "      <td>rice</td>\n",
       "      <td>6.88</td>\n",
       "      <td>8.80</td>\n",
       "    </tr>\n",
       "    <tr>\n",
       "      <th>64</th>\n",
       "      <td>65</td>\n",
       "      <td>USA</td>\n",
       "      <td>soybeans</td>\n",
       "      <td>0.04</td>\n",
       "      <td>0.02</td>\n",
       "    </tr>\n",
       "    <tr>\n",
       "      <th>65</th>\n",
       "      <td>66</td>\n",
       "      <td>USA</td>\n",
       "      <td>nuts</td>\n",
       "      <td>7.86</td>\n",
       "      <td>13.91</td>\n",
       "    </tr>\n",
       "  </tbody>\n",
       "</table>\n",
       "</div>"
      ],
      "text/plain": [
       "    Unnamed: 0 country food_category  consumption  co2_emission\n",
       "55          56     USA          pork        27.64         97.83\n",
       "56          57     USA       poultry        50.01         53.72\n",
       "57          58     USA          beef        36.24       1118.29\n",
       "58          59     USA     lamb_goat         0.43         15.06\n",
       "59          60     USA          fish        12.35         19.72\n",
       "60          61     USA          eggs        14.58         13.39\n",
       "61          62     USA         dairy       254.69        362.78\n",
       "62          63     USA         wheat        80.43         15.34\n",
       "63          64     USA          rice         6.88          8.80\n",
       "64          65     USA      soybeans         0.04          0.02\n",
       "65          66     USA          nuts         7.86         13.91"
      ]
     },
     "execution_count": 5,
     "metadata": {},
     "output_type": "execute_result"
    }
   ],
   "source": [
    "usa_consumption = food_consumption[food_consumption['country'] == 'USA']\n",
    "usa_consumption"
   ]
  },
  {
   "cell_type": "code",
   "execution_count": 6,
   "id": "2308edc7-5d2d-4707-ad85-18f27b2f4668",
   "metadata": {},
   "outputs": [
    {
     "data": {
      "text/plain": [
       "44.650000000000006"
      ]
     },
     "execution_count": 6,
     "metadata": {},
     "output_type": "execute_result"
    }
   ],
   "source": [
    "np.mean(usa_consumption['consumption'])"
   ]
  },
  {
   "cell_type": "code",
   "execution_count": 7,
   "id": "49e5cb1a-d48c-457c-962f-e71f294aa6cb",
   "metadata": {},
   "outputs": [
    {
     "data": {
      "text/plain": [
       "14.58"
      ]
     },
     "execution_count": 7,
     "metadata": {},
     "output_type": "execute_result"
    }
   ],
   "source": [
    "np.median(usa_consumption['consumption'])"
   ]
  },
  {
   "cell_type": "code",
   "execution_count": 8,
   "id": "839fb57a-0266-4e0d-ac53-81c3a89baf0f",
   "metadata": {},
   "outputs": [
    {
     "data": {
      "image/png": "[encoded data removed]",
      "text/plain": [
       "<Figure size 640x480 with 1 Axes>"
      ]
     },
     "metadata": {},
     "output_type": "display_data"
    }
   ],
   "source": [
    "food_consumption['consumption'].hist()\n",
    "plt.show()"
   ]
  },
  {
   "cell_type": "code",
   "execution_count": 9,
   "id": "b0242367-c752-475a-afd4-e9cc1a22ac28",
   "metadata": {},
   "outputs": [
    {
     "data": {
      "text/plain": [
       "<Axes: >"
      ]
     },
     "execution_count": 9,
     "metadata": {},
     "output_type": "execute_result"
    },
    {
     "data": {
      "image/png": "[encoded data removed]",
      "text/plain": [
       "<Figure size 640x480 with 1 Axes>"
      ]
     },
     "metadata": {},
     "output_type": "display_data"
    }
   ],
   "source": [
    "rice = food_consumption[food_consumption['food_category'] == 'rice']\n",
    "rice['consumption'].hist()"
   ]
  },
  {
   "cell_type": "code",
   "execution_count": 10,
   "id": "18ab09ba-5bfe-4830-bdc3-96f6dee22114",
   "metadata": {},
   "outputs": [
    {
     "data": {
      "text/plain": [
       "mean      29.375154\n",
       "median    11.875000\n",
       "Name: consumption, dtype: float64"
      ]
     },
     "execution_count": 10,
     "metadata": {},
     "output_type": "execute_result"
    }
   ],
   "source": [
    "rice['consumption'].agg(['mean', 'median'])"
   ]
  },
  {
   "cell_type": "code",
   "execution_count": 11,
   "id": "7ead5680-261a-4eba-bbdb-b692460f166b",
   "metadata": {},
   "outputs": [
    {
     "name": "stderr",
     "output_type": "stream",
     "text": [
      "C:\\Users\\PC\\AppData\\Local\\Temp\\ipykernel_6380\\1947528528.py:1: FutureWarning: The provided callable <function mean at 0x0000028BD87E3A60> is currently using Series.mean. In a future version of pandas, the provided callable will be used directly. To keep current behavior pass the string \"mean\" instead.\n",
      "  rice['co2_emission'].agg([np.mean, np.median])\n",
      "C:\\Users\\PC\\AppData\\Local\\Temp\\ipykernel_6380\\1947528528.py:1: FutureWarning: The provided callable <function median at 0x0000028BD891A700> is currently using Series.median. In a future version of pandas, the provided callable will be used directly. To keep current behavior pass the string \"median\" instead.\n",
      "  rice['co2_emission'].agg([np.mean, np.median])\n"
     ]
    },
    {
     "data": {
      "text/plain": [
       "mean      37.591615\n",
       "median    15.200000\n",
       "Name: co2_emission, dtype: float64"
      ]
     },
     "execution_count": 11,
     "metadata": {},
     "output_type": "execute_result"
    }
   ],
   "source": [
    "rice['co2_emission'].agg([np.mean, np.median])\n"
   ]
  },
  {
   "cell_type": "code",
   "execution_count": 12,
   "id": "85f8bda1-e7e9-4f29-af44-3eec9c3ce50f",
   "metadata": {},
   "outputs": [
    {
     "data": {
      "text/plain": [
       "food_category\n",
       "beef          12.123385\n",
       "dairy        125.774692\n",
       "eggs           8.163769\n",
       "fish          17.287077\n",
       "lamb_goat      2.600154\n",
       "nuts           4.137231\n",
       "pork          16.123692\n",
       "poultry       21.219231\n",
       "rice          29.375154\n",
       "soybeans       0.860538\n",
       "wheat         71.549538\n",
       "Name: consumption, dtype: float64"
      ]
     },
     "execution_count": 12,
     "metadata": {},
     "output_type": "execute_result"
    }
   ],
   "source": [
    "food_consumption.groupby('food_category')['consumption'].mean()"
   ]
  },
  {
   "cell_type": "raw",
   "id": "08126cd6-56b4-4e14-9ed2-c02bf1a9d012",
   "metadata": {},
   "source": [
    "food_consumption.groupby('food_category').agg({\n",
    "'co2_emission': 'var'\n",
    "}\n",
    ")"
   ]
  },
  {
   "cell_type": "code",
   "execution_count": 13,
   "id": "c9baf86a-05e4-4b48-a034-263d5e35cb6d",
   "metadata": {},
   "outputs": [
    {
     "data": {
      "text/html": [
       "<div>\n",
       "<style scoped>\n",
       "    .dataframe tbody tr th:only-of-type {\n",
       "        vertical-align: middle;\n",
       "    }\n",
       "\n",
       "    .dataframe tbody tr th {\n",
       "        vertical-align: top;\n",
       "    }\n",
       "\n",
       "    .dataframe thead th {\n",
       "        text-align: right;\n",
       "    }\n",
       "</style>\n",
       "<table border=\"1\" class=\"dataframe\">\n",
       "  <thead>\n",
       "    <tr style=\"text-align: right;\">\n",
       "      <th></th>\n",
       "      <th>co2_emission</th>\n",
       "      <th>consumption</th>\n",
       "    </tr>\n",
       "    <tr>\n",
       "      <th>food_category</th>\n",
       "      <th></th>\n",
       "      <th></th>\n",
       "    </tr>\n",
       "  </thead>\n",
       "  <tbody>\n",
       "    <tr>\n",
       "      <th>beef</th>\n",
       "      <td>88748.408132</td>\n",
       "      <td>9.654140</td>\n",
       "    </tr>\n",
       "    <tr>\n",
       "      <th>dairy</th>\n",
       "      <td>17671.891985</td>\n",
       "      <td>93.327721</td>\n",
       "    </tr>\n",
       "    <tr>\n",
       "      <th>eggs</th>\n",
       "      <td>21.371819</td>\n",
       "      <td>5.032582</td>\n",
       "    </tr>\n",
       "    <tr>\n",
       "      <th>fish</th>\n",
       "      <td>921.637349</td>\n",
       "      <td>19.013508</td>\n",
       "    </tr>\n",
       "    <tr>\n",
       "      <th>lamb_goat</th>\n",
       "      <td>16475.518363</td>\n",
       "      <td>3.665252</td>\n",
       "    </tr>\n",
       "    <tr>\n",
       "      <th>nuts</th>\n",
       "      <td>35.639652</td>\n",
       "      <td>3.372817</td>\n",
       "    </tr>\n",
       "    <tr>\n",
       "      <th>pork</th>\n",
       "      <td>3094.963537</td>\n",
       "      <td>15.717646</td>\n",
       "    </tr>\n",
       "    <tr>\n",
       "      <th>poultry</th>\n",
       "      <td>245.026801</td>\n",
       "      <td>14.571980</td>\n",
       "    </tr>\n",
       "    <tr>\n",
       "      <th>rice</th>\n",
       "      <td>2281.376243</td>\n",
       "      <td>37.324471</td>\n",
       "    </tr>\n",
       "    <tr>\n",
       "      <th>soybeans</th>\n",
       "      <td>0.879882</td>\n",
       "      <td>2.083336</td>\n",
       "    </tr>\n",
       "    <tr>\n",
       "      <th>wheat</th>\n",
       "      <td>71.023937</td>\n",
       "      <td>44.191318</td>\n",
       "    </tr>\n",
       "  </tbody>\n",
       "</table>\n",
       "</div>"
      ],
      "text/plain": [
       "               co2_emission  consumption\n",
       "food_category                           \n",
       "beef           88748.408132     9.654140\n",
       "dairy          17671.891985    93.327721\n",
       "eggs              21.371819     5.032582\n",
       "fish             921.637349    19.013508\n",
       "lamb_goat      16475.518363     3.665252\n",
       "nuts              35.639652     3.372817\n",
       "pork            3094.963537    15.717646\n",
       "poultry          245.026801    14.571980\n",
       "rice            2281.376243    37.324471\n",
       "soybeans           0.879882     2.083336\n",
       "wheat             71.023937    44.191318"
      ]
     },
     "execution_count": 13,
     "metadata": {},
     "output_type": "execute_result"
    }
   ],
   "source": [
    "food_consumption.groupby('food_category').agg({\n",
    "    'co2_emission': 'var',\n",
    "    'consumption': 'std'\n",
    "})"
   ]
  },
  {
   "cell_type": "code",
   "execution_count": 14,
   "id": "5460e08f-5869-440a-bc54-9c942d5ec689",
   "metadata": {},
   "outputs": [
    {
     "data": {
      "text/html": [
       "<div>\n",
       "<style scoped>\n",
       "    .dataframe tbody tr th:only-of-type {\n",
       "        vertical-align: middle;\n",
       "    }\n",
       "\n",
       "    .dataframe tbody tr th {\n",
       "        vertical-align: top;\n",
       "    }\n",
       "\n",
       "    .dataframe thead th {\n",
       "        text-align: right;\n",
       "    }\n",
       "</style>\n",
       "<table border=\"1\" class=\"dataframe\">\n",
       "  <thead>\n",
       "    <tr style=\"text-align: right;\">\n",
       "      <th></th>\n",
       "      <th>var</th>\n",
       "      <th>std</th>\n",
       "    </tr>\n",
       "    <tr>\n",
       "      <th>food_category</th>\n",
       "      <th></th>\n",
       "      <th></th>\n",
       "    </tr>\n",
       "  </thead>\n",
       "  <tbody>\n",
       "    <tr>\n",
       "      <th>beef</th>\n",
       "      <td>88748.408132</td>\n",
       "      <td>297.906710</td>\n",
       "    </tr>\n",
       "    <tr>\n",
       "      <th>dairy</th>\n",
       "      <td>17671.891985</td>\n",
       "      <td>132.935669</td>\n",
       "    </tr>\n",
       "    <tr>\n",
       "      <th>eggs</th>\n",
       "      <td>21.371819</td>\n",
       "      <td>4.622966</td>\n",
       "    </tr>\n",
       "    <tr>\n",
       "      <th>fish</th>\n",
       "      <td>921.637349</td>\n",
       "      <td>30.358481</td>\n",
       "    </tr>\n",
       "    <tr>\n",
       "      <th>lamb_goat</th>\n",
       "      <td>16475.518363</td>\n",
       "      <td>128.356996</td>\n",
       "    </tr>\n",
       "    <tr>\n",
       "      <th>nuts</th>\n",
       "      <td>35.639652</td>\n",
       "      <td>5.969895</td>\n",
       "    </tr>\n",
       "    <tr>\n",
       "      <th>pork</th>\n",
       "      <td>3094.963537</td>\n",
       "      <td>55.632396</td>\n",
       "    </tr>\n",
       "    <tr>\n",
       "      <th>poultry</th>\n",
       "      <td>245.026801</td>\n",
       "      <td>15.653332</td>\n",
       "    </tr>\n",
       "    <tr>\n",
       "      <th>rice</th>\n",
       "      <td>2281.376243</td>\n",
       "      <td>47.763754</td>\n",
       "    </tr>\n",
       "    <tr>\n",
       "      <th>soybeans</th>\n",
       "      <td>0.879882</td>\n",
       "      <td>0.938020</td>\n",
       "    </tr>\n",
       "    <tr>\n",
       "      <th>wheat</th>\n",
       "      <td>71.023937</td>\n",
       "      <td>8.427570</td>\n",
       "    </tr>\n",
       "  </tbody>\n",
       "</table>\n",
       "</div>"
      ],
      "text/plain": [
       "                        var         std\n",
       "food_category                          \n",
       "beef           88748.408132  297.906710\n",
       "dairy          17671.891985  132.935669\n",
       "eggs              21.371819    4.622966\n",
       "fish             921.637349   30.358481\n",
       "lamb_goat      16475.518363  128.356996\n",
       "nuts              35.639652    5.969895\n",
       "pork            3094.963537   55.632396\n",
       "poultry          245.026801   15.653332\n",
       "rice            2281.376243   47.763754\n",
       "soybeans           0.879882    0.938020\n",
       "wheat             71.023937    8.427570"
      ]
     },
     "execution_count": 14,
     "metadata": {},
     "output_type": "execute_result"
    }
   ],
   "source": [
    "food_consumption.groupby('food_category')['co2_emission'].agg(['var','std'])"
   ]
  },
  {
   "cell_type": "code",
   "execution_count": 15,
   "id": "c9386ff6-b318-4876-aba6-c9c169c03860",
   "metadata": {},
   "outputs": [
    {
     "data": {
      "text/plain": [
       "<Axes: >"
      ]
     },
     "execution_count": 15,
     "metadata": {},
     "output_type": "execute_result"
    },
    {
     "data": {
      "image/png": "[encoded data removed]",
      "text/plain": [
       "<Figure size 640x480 with 1 Axes>"
      ]
     },
     "metadata": {},
     "output_type": "display_data"
    }
   ],
   "source": [
    "food_consumption[food_consumption['food_category'] == 'beef']['co2_emission'].hist()"
   ]
  },
  {
   "cell_type": "code",
   "execution_count": 16,
   "id": "c6bedea7-fcd5-4e8e-97eb-382fe43211c8",
   "metadata": {},
   "outputs": [
    {
     "data": {
      "text/plain": [
       "<Axes: >"
      ]
     },
     "execution_count": 16,
     "metadata": {},
     "output_type": "execute_result"
    },
    {
     "data": {
      "image/png": "[encoded data removed]",
      "text/plain": [
       "<Figure size 640x480 with 1 Axes>"
      ]
     },
     "metadata": {},
     "output_type": "display_data"
    }
   ],
   "source": [
    "food_consumption[food_consumption['food_category'] == 'eggs']['co2_emission'].hist()"
   ]
  },
  {
   "cell_type": "code",
   "execution_count": 17,
   "id": "7d601ada-dacb-4feb-a80d-7f1be16cc603",
   "metadata": {},
   "outputs": [
    {
     "data": {
      "text/plain": [
       "Index(['Unnamed: 0', 'country', 'food_category', 'consumption',\n",
       "       'co2_emission'],\n",
       "      dtype='object')"
      ]
     },
     "execution_count": 17,
     "metadata": {},
     "output_type": "execute_result"
    }
   ],
   "source": [
    "food_consumption.columns"
   ]
  },
  {
   "cell_type": "code",
   "execution_count": 18,
   "id": "4a83c5e9-317d-4356-b2e2-d89b6e89deb8",
   "metadata": {},
   "outputs": [
    {
     "data": {
      "text/plain": [
       "0         37.20\n",
       "1         41.53\n",
       "2       1712.00\n",
       "3         54.63\n",
       "4          6.96\n",
       "         ...   \n",
       "1425      31.21\n",
       "1426       3.33\n",
       "1427     219.76\n",
       "1428       0.27\n",
       "1429       1.27\n",
       "Name: co2_emission, Length: 1430, dtype: float64"
      ]
     },
     "execution_count": 18,
     "metadata": {},
     "output_type": "execute_result"
    }
   ],
   "source": [
    "food_consumption['co2_emission']"
   ]
  },
  {
   "cell_type": "code",
   "execution_count": 19,
   "id": "aedac1a9-03ed-4e71-a6c4-e64487eb12f6",
   "metadata": {},
   "outputs": [
    {
     "data": {
      "text/plain": [
       "array([   5.21  ,   16.53  ,   62.5975, 1712.    ])"
      ]
     },
     "execution_count": 19,
     "metadata": {},
     "output_type": "execute_result"
    }
   ],
   "source": [
    "np.quantile(food_consumption['co2_emission'], [0.25, 0.5, 0.75, 1])"
   ]
  },
  {
   "cell_type": "code",
   "execution_count": 20,
   "id": "27583c85-1087-44e2-bd0f-3fb5a987e133",
   "metadata": {},
   "outputs": [
    {
     "data": {
      "text/plain": [
       "array([   0.    ,    5.21  ,   16.53  ,   62.5975, 1712.    ])"
      ]
     },
     "execution_count": 20,
     "metadata": {},
     "output_type": "execute_result"
    }
   ],
   "source": [
    "np.quantile(food_consumption['co2_emission'], [0, 0.25, 0.5, 0.75, 1])"
   ]
  },
  {
   "cell_type": "code",
   "execution_count": 21,
   "id": "c2d30b06-6246-433d-82da-3252862ca9de",
   "metadata": {},
   "outputs": [
    {
     "data": {
      "text/plain": [
       "array([   0.   ,    3.54 ,   11.026,   25.59 ,   99.978, 1712.   ])"
      ]
     },
     "execution_count": 21,
     "metadata": {},
     "output_type": "execute_result"
    }
   ],
   "source": [
    "np.quantile(food_consumption['co2_emission'], np.linspace(0,1,6))"
   ]
  },
  {
   "cell_type": "code",
   "execution_count": 22,
   "id": "98b3fadf-43b0-479f-a23a-f3d6254f4ed1",
   "metadata": {},
   "outputs": [
    {
     "data": {
      "text/plain": [
       "country\n",
       "Albania      1777.85\n",
       "Algeria       707.88\n",
       "Angola        412.99\n",
       "Argentina    2172.40\n",
       "Armenia      1109.93\n",
       "              ...   \n",
       "Uruguay      1634.91\n",
       "Venezuela    1104.10\n",
       "Vietnam       641.51\n",
       "Zambia        225.30\n",
       "Zimbabwe      350.33\n",
       "Name: co2_emission, Length: 130, dtype: float64"
      ]
     },
     "execution_count": 22,
     "metadata": {},
     "output_type": "execute_result"
    }
   ],
   "source": [
    "emissions_by_country = food_consumption.groupby('country')['co2_emission'].sum()\n",
    "emissions_by_country"
   ]
  },
  {
   "cell_type": "code",
   "execution_count": 23,
   "id": "f170af9d-d0aa-489b-ab9c-da397dce1228",
   "metadata": {},
   "outputs": [
    {
     "data": {
      "text/plain": [
       "446.66"
      ]
     },
     "execution_count": 23,
     "metadata": {},
     "output_type": "execute_result"
    }
   ],
   "source": [
    "np.quantile(emissions_by_country, 0.25)"
   ]
  },
  {
   "cell_type": "code",
   "execution_count": 24,
   "id": "c6783c8b-32dd-412e-8b79-891f8d5ce5a8",
   "metadata": {},
   "outputs": [],
   "source": [
    "q1 = np.quantile(emissions_by_country, 0.25)\n",
    "q3 = np.quantile(emissions_by_country, 0.75)\n",
    "iqr = q3 - q1"
   ]
  },
  {
   "cell_type": "code",
   "execution_count": 25,
   "id": "0ec1530e-568f-4643-8ad9-f55bd788b042",
   "metadata": {},
   "outputs": [
    {
     "name": "stdout",
     "output_type": "stream",
     "text": [
      "446.66\n",
      "1111.1525000000001\n",
      "664.4925000000001\n"
     ]
    }
   ],
   "source": [
    "print(q1)\n",
    "print(q3)\n",
    "print(q3 - q1)"
   ]
  },
  {
   "cell_type": "code",
   "execution_count": 26,
   "id": "954f16af-fd2a-4993-9693-6300a7121100",
   "metadata": {},
   "outputs": [],
   "source": [
    "lower = q1 - 1.5 * iqr\n",
    "upper = q3 + 1.5 * iqr"
   ]
  },
  {
   "cell_type": "code",
   "execution_count": 27,
   "id": "2bce649e-61ad-4108-bbd7-ef62dfe677a2",
   "metadata": {},
   "outputs": [
    {
     "name": "stdout",
     "output_type": "stream",
     "text": [
      "-550.0787500000001\n",
      "2107.89125\n"
     ]
    }
   ],
   "source": [
    "print(lower)\n",
    "print(upper)"
   ]
  },
  {
   "cell_type": "code",
   "execution_count": 28,
   "id": "9ff8634c-34a1-49da-bce6-878974284417",
   "metadata": {},
   "outputs": [
    {
     "data": {
      "text/plain": [
       "country\n",
       "Argentina    2172.4\n",
       "Name: co2_emission, dtype: float64"
      ]
     },
     "execution_count": 28,
     "metadata": {},
     "output_type": "execute_result"
    }
   ],
   "source": [
    "emissions_by_country[(emissions_by_country < lower ) | (emissions_by_country > upper )   ]"
   ]
  },
  {
   "cell_type": "code",
   "execution_count": 29,
   "id": "badb490a-e64f-4176-8f40-81020fc6507b",
   "metadata": {},
   "outputs": [
    {
     "data": {
      "text/html": [
       "<div>\n",
       "<style scoped>\n",
       "    .dataframe tbody tr th:only-of-type {\n",
       "        vertical-align: middle;\n",
       "    }\n",
       "\n",
       "    .dataframe tbody tr th {\n",
       "        vertical-align: top;\n",
       "    }\n",
       "\n",
       "    .dataframe thead th {\n",
       "        text-align: right;\n",
       "    }\n",
       "</style>\n",
       "<table border=\"1\" class=\"dataframe\">\n",
       "  <thead>\n",
       "    <tr style=\"text-align: right;\">\n",
       "      <th></th>\n",
       "      <th>Unnamed: 0</th>\n",
       "      <th>product</th>\n",
       "      <th>client</th>\n",
       "      <th>status</th>\n",
       "      <th>amount</th>\n",
       "      <th>num_users</th>\n",
       "    </tr>\n",
       "  </thead>\n",
       "  <tbody>\n",
       "    <tr>\n",
       "      <th>0</th>\n",
       "      <td>1</td>\n",
       "      <td>Product F</td>\n",
       "      <td>Current</td>\n",
       "      <td>Won</td>\n",
       "      <td>7389.52</td>\n",
       "      <td>19</td>\n",
       "    </tr>\n",
       "    <tr>\n",
       "      <th>1</th>\n",
       "      <td>2</td>\n",
       "      <td>Product C</td>\n",
       "      <td>New</td>\n",
       "      <td>Won</td>\n",
       "      <td>4493.01</td>\n",
       "      <td>43</td>\n",
       "    </tr>\n",
       "    <tr>\n",
       "      <th>2</th>\n",
       "      <td>3</td>\n",
       "      <td>Product B</td>\n",
       "      <td>New</td>\n",
       "      <td>Won</td>\n",
       "      <td>5738.09</td>\n",
       "      <td>87</td>\n",
       "    </tr>\n",
       "    <tr>\n",
       "      <th>3</th>\n",
       "      <td>4</td>\n",
       "      <td>Product I</td>\n",
       "      <td>Current</td>\n",
       "      <td>Won</td>\n",
       "      <td>2591.24</td>\n",
       "      <td>83</td>\n",
       "    </tr>\n",
       "    <tr>\n",
       "      <th>4</th>\n",
       "      <td>5</td>\n",
       "      <td>Product E</td>\n",
       "      <td>Current</td>\n",
       "      <td>Won</td>\n",
       "      <td>6622.97</td>\n",
       "      <td>17</td>\n",
       "    </tr>\n",
       "    <tr>\n",
       "      <th>...</th>\n",
       "      <td>...</td>\n",
       "      <td>...</td>\n",
       "      <td>...</td>\n",
       "      <td>...</td>\n",
       "      <td>...</td>\n",
       "      <td>...</td>\n",
       "    </tr>\n",
       "    <tr>\n",
       "      <th>173</th>\n",
       "      <td>174</td>\n",
       "      <td>Product A</td>\n",
       "      <td>Current</td>\n",
       "      <td>Lost</td>\n",
       "      <td>5835.32</td>\n",
       "      <td>23</td>\n",
       "    </tr>\n",
       "    <tr>\n",
       "      <th>174</th>\n",
       "      <td>175</td>\n",
       "      <td>Product D</td>\n",
       "      <td>Current</td>\n",
       "      <td>Won</td>\n",
       "      <td>6377.50</td>\n",
       "      <td>12</td>\n",
       "    </tr>\n",
       "    <tr>\n",
       "      <th>175</th>\n",
       "      <td>176</td>\n",
       "      <td>Product D</td>\n",
       "      <td>Current</td>\n",
       "      <td>Won</td>\n",
       "      <td>3537.61</td>\n",
       "      <td>28</td>\n",
       "    </tr>\n",
       "    <tr>\n",
       "      <th>176</th>\n",
       "      <td>177</td>\n",
       "      <td>Product A</td>\n",
       "      <td>Current</td>\n",
       "      <td>Won</td>\n",
       "      <td>6448.07</td>\n",
       "      <td>34</td>\n",
       "    </tr>\n",
       "    <tr>\n",
       "      <th>177</th>\n",
       "      <td>178</td>\n",
       "      <td>Product D</td>\n",
       "      <td>New</td>\n",
       "      <td>Lost</td>\n",
       "      <td>7320.05</td>\n",
       "      <td>72</td>\n",
       "    </tr>\n",
       "  </tbody>\n",
       "</table>\n",
       "<p>178 rows × 6 columns</p>\n",
       "</div>"
      ],
      "text/plain": [
       "     Unnamed: 0    product   client status   amount  num_users\n",
       "0             1  Product F  Current    Won  7389.52         19\n",
       "1             2  Product C      New    Won  4493.01         43\n",
       "2             3  Product B      New    Won  5738.09         87\n",
       "3             4  Product I  Current    Won  2591.24         83\n",
       "4             5  Product E  Current    Won  6622.97         17\n",
       "..          ...        ...      ...    ...      ...        ...\n",
       "173         174  Product A  Current   Lost  5835.32         23\n",
       "174         175  Product D  Current    Won  6377.50         12\n",
       "175         176  Product D  Current    Won  3537.61         28\n",
       "176         177  Product A  Current    Won  6448.07         34\n",
       "177         178  Product D      New   Lost  7320.05         72\n",
       "\n",
       "[178 rows x 6 columns]"
      ]
     },
     "execution_count": 29,
     "metadata": {},
     "output_type": "execute_result"
    }
   ],
   "source": [
    "amir_deals"
   ]
  },
  {
   "cell_type": "code",
   "execution_count": 30,
   "id": "232d6430-80c7-420d-8ef7-91ec66daf528",
   "metadata": {},
   "outputs": [
    {
     "data": {
      "text/plain": [
       "product\n",
       "Product B    62\n",
       "Product D    40\n",
       "Product A    23\n",
       "Product C    15\n",
       "Product F    11\n",
       "Product H     8\n",
       "Product I     7\n",
       "Product E     5\n",
       "Product N     3\n",
       "Product G     2\n",
       "Product J     2\n",
       "Name: count, dtype: int64"
      ]
     },
     "execution_count": 30,
     "metadata": {},
     "output_type": "execute_result"
    }
   ],
   "source": [
    "amir_deals['product'].value_counts()"
   ]
  },
  {
   "cell_type": "code",
   "execution_count": 31,
   "id": "5b3d9c7d-bd6c-42fa-ab87-27e8cb4ea644",
   "metadata": {},
   "outputs": [
    {
     "data": {
      "text/plain": [
       "178"
      ]
     },
     "execution_count": 31,
     "metadata": {},
     "output_type": "execute_result"
    }
   ],
   "source": [
    "amir_deals['product'].count()"
   ]
  },
  {
   "cell_type": "code",
   "execution_count": 32,
   "id": "ca169ac9-35bd-40cc-8dc0-708ca89e44f0",
   "metadata": {},
   "outputs": [
    {
     "data": {
      "text/html": [
       "<div>\n",
       "<style scoped>\n",
       "    .dataframe tbody tr th:only-of-type {\n",
       "        vertical-align: middle;\n",
       "    }\n",
       "\n",
       "    .dataframe tbody tr th {\n",
       "        vertical-align: top;\n",
       "    }\n",
       "\n",
       "    .dataframe thead th {\n",
       "        text-align: right;\n",
       "    }\n",
       "</style>\n",
       "<table border=\"1\" class=\"dataframe\">\n",
       "  <thead>\n",
       "    <tr style=\"text-align: right;\">\n",
       "      <th></th>\n",
       "      <th>Unnamed: 0</th>\n",
       "      <th>product</th>\n",
       "      <th>client</th>\n",
       "      <th>status</th>\n",
       "      <th>amount</th>\n",
       "      <th>num_users</th>\n",
       "    </tr>\n",
       "  </thead>\n",
       "  <tbody>\n",
       "    <tr>\n",
       "      <th>127</th>\n",
       "      <td>128</td>\n",
       "      <td>Product B</td>\n",
       "      <td>Current</td>\n",
       "      <td>Won</td>\n",
       "      <td>2070.25</td>\n",
       "      <td>7</td>\n",
       "    </tr>\n",
       "    <tr>\n",
       "      <th>148</th>\n",
       "      <td>149</td>\n",
       "      <td>Product D</td>\n",
       "      <td>Current</td>\n",
       "      <td>Won</td>\n",
       "      <td>3485.48</td>\n",
       "      <td>52</td>\n",
       "    </tr>\n",
       "    <tr>\n",
       "      <th>77</th>\n",
       "      <td>78</td>\n",
       "      <td>Product B</td>\n",
       "      <td>Current</td>\n",
       "      <td>Won</td>\n",
       "      <td>6252.30</td>\n",
       "      <td>27</td>\n",
       "    </tr>\n",
       "    <tr>\n",
       "      <th>104</th>\n",
       "      <td>105</td>\n",
       "      <td>Product D</td>\n",
       "      <td>Current</td>\n",
       "      <td>Won</td>\n",
       "      <td>4110.98</td>\n",
       "      <td>39</td>\n",
       "    </tr>\n",
       "    <tr>\n",
       "      <th>166</th>\n",
       "      <td>167</td>\n",
       "      <td>Product C</td>\n",
       "      <td>New</td>\n",
       "      <td>Lost</td>\n",
       "      <td>3779.86</td>\n",
       "      <td>11</td>\n",
       "    </tr>\n",
       "  </tbody>\n",
       "</table>\n",
       "</div>"
      ],
      "text/plain": [
       "     Unnamed: 0    product   client status   amount  num_users\n",
       "127         128  Product B  Current    Won  2070.25          7\n",
       "148         149  Product D  Current    Won  3485.48         52\n",
       "77           78  Product B  Current    Won  6252.30         27\n",
       "104         105  Product D  Current    Won  4110.98         39\n",
       "166         167  Product C      New   Lost  3779.86         11"
      ]
     },
     "execution_count": 32,
     "metadata": {},
     "output_type": "execute_result"
    }
   ],
   "source": [
    "np.random.seed(24)\n",
    "amir_deals.sample(5)"
   ]
  },
  {
   "cell_type": "code",
   "execution_count": 33,
   "id": "b38714bc-497b-497f-9854-df23f6e9dae9",
   "metadata": {},
   "outputs": [
    {
     "data": {
      "text/html": [
       "<div>\n",
       "<style scoped>\n",
       "    .dataframe tbody tr th:only-of-type {\n",
       "        vertical-align: middle;\n",
       "    }\n",
       "\n",
       "    .dataframe tbody tr th {\n",
       "        vertical-align: top;\n",
       "    }\n",
       "\n",
       "    .dataframe thead th {\n",
       "        text-align: right;\n",
       "    }\n",
       "</style>\n",
       "<table border=\"1\" class=\"dataframe\">\n",
       "  <thead>\n",
       "    <tr style=\"text-align: right;\">\n",
       "      <th></th>\n",
       "      <th>Unnamed: 0</th>\n",
       "      <th>product</th>\n",
       "      <th>client</th>\n",
       "      <th>status</th>\n",
       "      <th>amount</th>\n",
       "      <th>num_users</th>\n",
       "    </tr>\n",
       "  </thead>\n",
       "  <tbody>\n",
       "    <tr>\n",
       "      <th>162</th>\n",
       "      <td>163</td>\n",
       "      <td>Product D</td>\n",
       "      <td>Current</td>\n",
       "      <td>Won</td>\n",
       "      <td>6755.66</td>\n",
       "      <td>59</td>\n",
       "    </tr>\n",
       "    <tr>\n",
       "      <th>131</th>\n",
       "      <td>132</td>\n",
       "      <td>Product B</td>\n",
       "      <td>Current</td>\n",
       "      <td>Won</td>\n",
       "      <td>6872.29</td>\n",
       "      <td>25</td>\n",
       "    </tr>\n",
       "    <tr>\n",
       "      <th>87</th>\n",
       "      <td>88</td>\n",
       "      <td>Product C</td>\n",
       "      <td>Current</td>\n",
       "      <td>Won</td>\n",
       "      <td>3579.63</td>\n",
       "      <td>3</td>\n",
       "    </tr>\n",
       "    <tr>\n",
       "      <th>145</th>\n",
       "      <td>146</td>\n",
       "      <td>Product A</td>\n",
       "      <td>Current</td>\n",
       "      <td>Won</td>\n",
       "      <td>4682.94</td>\n",
       "      <td>63</td>\n",
       "    </tr>\n",
       "    <tr>\n",
       "      <th>145</th>\n",
       "      <td>146</td>\n",
       "      <td>Product A</td>\n",
       "      <td>Current</td>\n",
       "      <td>Won</td>\n",
       "      <td>4682.94</td>\n",
       "      <td>63</td>\n",
       "    </tr>\n",
       "  </tbody>\n",
       "</table>\n",
       "</div>"
      ],
      "text/plain": [
       "     Unnamed: 0    product   client status   amount  num_users\n",
       "162         163  Product D  Current    Won  6755.66         59\n",
       "131         132  Product B  Current    Won  6872.29         25\n",
       "87           88  Product C  Current    Won  3579.63          3\n",
       "145         146  Product A  Current    Won  4682.94         63\n",
       "145         146  Product A  Current    Won  4682.94         63"
      ]
     },
     "execution_count": 33,
     "metadata": {},
     "output_type": "execute_result"
    }
   ],
   "source": [
    "np.random.seed(24)\n",
    "amir_deals.sample(5, replace = True)"
   ]
  },
  {
   "cell_type": "code",
   "execution_count": 34,
   "id": "bd0404f4-6a55-4dd8-8a84-926108fbba86",
   "metadata": {},
   "outputs": [
    {
     "name": "stdout",
     "output_type": "stream",
     "text": [
      "  group_id  group_size\n",
      "0        A           2\n",
      "1        B           4\n",
      "2        C           6\n",
      "3        D           2\n",
      "4        E           2\n",
      "5        F           2\n",
      "6        G           3\n",
      "7        H           2\n",
      "8        I           4\n",
      "9        J           2\n"
     ]
    }
   ],
   "source": [
    "import pandas as pd\n",
    "\n",
    "# Define the data as a dictionary\n",
    "data = {\n",
    "    'group_id': ['A', 'B', 'C', 'D', 'E', 'F', 'G', 'H', 'I', 'J'],\n",
    "    'group_size': [2, 4, 6, 2, 2, 2, 3, 2, 4, 2]\n",
    "}\n",
    "\n",
    "# Create the DataFrame from the dictionary\n",
    "restaurant_groups = pd.DataFrame(data)\n",
    "\n",
    "# Display the DataFrame\n",
    "print(restaurant_groups)"
   ]
  },
  {
   "cell_type": "code",
   "execution_count": 35,
   "id": "05caa15c-4213-4f38-9f3a-be8958a0ff37",
   "metadata": {},
   "outputs": [
    {
     "data": {
      "image/png": "[encoded data removed]",
      "text/plain": [
       "<Figure size 640x480 with 1 Axes>"
      ]
     },
     "metadata": {},
     "output_type": "display_data"
    }
   ],
   "source": [
    "restaurant_groups['group_size'].hist(bins=np.linspace(2,6,5))\n",
    "plt.show()"
   ]
  },
  {
   "cell_type": "code",
   "execution_count": 36,
   "id": "647c4d73-3d06-4948-a0cb-fc7455e920ec",
   "metadata": {},
   "outputs": [],
   "source": [
    "size_dist = restaurant_groups['group_size'].value_counts()/len(restaurant_groups)"
   ]
  },
  {
   "cell_type": "code",
   "execution_count": 37,
   "id": "4c42d8fe-0b15-45b9-b287-c05981f5ad0f",
   "metadata": {},
   "outputs": [
    {
     "data": {
      "text/plain": [
       "group_size\n",
       "2    0.6\n",
       "4    0.2\n",
       "6    0.1\n",
       "3    0.1\n",
       "Name: count, dtype: float64"
      ]
     },
     "execution_count": 37,
     "metadata": {},
     "output_type": "execute_result"
    }
   ],
   "source": [
    "size_dist"
   ]
  },
  {
   "cell_type": "code",
   "execution_count": 38,
   "id": "5b7891df-5d7c-41db-bf68-b0579930290d",
   "metadata": {},
   "outputs": [],
   "source": [
    "size_dist = size_dist.reset_index()\n",
    "size_dist.columns = ['group_size', 'prob']"
   ]
  },
  {
   "cell_type": "code",
   "execution_count": 39,
   "id": "10844f75-9145-4847-8116-b85931ee8bad",
   "metadata": {},
   "outputs": [
    {
     "data": {
      "text/html": [
       "<div>\n",
       "<style scoped>\n",
       "    .dataframe tbody tr th:only-of-type {\n",
       "        vertical-align: middle;\n",
       "    }\n",
       "\n",
       "    .dataframe tbody tr th {\n",
       "        vertical-align: top;\n",
       "    }\n",
       "\n",
       "    .dataframe thead th {\n",
       "        text-align: right;\n",
       "    }\n",
       "</style>\n",
       "<table border=\"1\" class=\"dataframe\">\n",
       "  <thead>\n",
       "    <tr style=\"text-align: right;\">\n",
       "      <th></th>\n",
       "      <th>group_size</th>\n",
       "      <th>prob</th>\n",
       "    </tr>\n",
       "  </thead>\n",
       "  <tbody>\n",
       "    <tr>\n",
       "      <th>0</th>\n",
       "      <td>2</td>\n",
       "      <td>0.6</td>\n",
       "    </tr>\n",
       "    <tr>\n",
       "      <th>1</th>\n",
       "      <td>4</td>\n",
       "      <td>0.2</td>\n",
       "    </tr>\n",
       "    <tr>\n",
       "      <th>2</th>\n",
       "      <td>6</td>\n",
       "      <td>0.1</td>\n",
       "    </tr>\n",
       "    <tr>\n",
       "      <th>3</th>\n",
       "      <td>3</td>\n",
       "      <td>0.1</td>\n",
       "    </tr>\n",
       "  </tbody>\n",
       "</table>\n",
       "</div>"
      ],
      "text/plain": [
       "   group_size  prob\n",
       "0           2   0.6\n",
       "1           4   0.2\n",
       "2           6   0.1\n",
       "3           3   0.1"
      ]
     },
     "execution_count": 39,
     "metadata": {},
     "output_type": "execute_result"
    }
   ],
   "source": [
    "size_dist"
   ]
  },
  {
   "cell_type": "code",
   "execution_count": 40,
   "id": "10800279-10f0-4e27-9d55-f83ab851c159",
   "metadata": {},
   "outputs": [
    {
     "data": {
      "text/plain": [
       "2.9000000000000004"
      ]
     },
     "execution_count": 40,
     "metadata": {},
     "output_type": "execute_result"
    }
   ],
   "source": [
    "np.sum(size_dist['group_size'] * size_dist['prob'])"
   ]
  },
  {
   "cell_type": "code",
   "execution_count": 41,
   "id": "e9e462b8-f69c-4d46-b4de-adf130981d22",
   "metadata": {},
   "outputs": [
    {
     "data": {
      "text/html": [
       "<div>\n",
       "<style scoped>\n",
       "    .dataframe tbody tr th:only-of-type {\n",
       "        vertical-align: middle;\n",
       "    }\n",
       "\n",
       "    .dataframe tbody tr th {\n",
       "        vertical-align: top;\n",
       "    }\n",
       "\n",
       "    .dataframe thead th {\n",
       "        text-align: right;\n",
       "    }\n",
       "</style>\n",
       "<table border=\"1\" class=\"dataframe\">\n",
       "  <thead>\n",
       "    <tr style=\"text-align: right;\">\n",
       "      <th></th>\n",
       "      <th>group_size</th>\n",
       "      <th>prob</th>\n",
       "    </tr>\n",
       "  </thead>\n",
       "  <tbody>\n",
       "    <tr>\n",
       "      <th>1</th>\n",
       "      <td>4</td>\n",
       "      <td>0.2</td>\n",
       "    </tr>\n",
       "    <tr>\n",
       "      <th>2</th>\n",
       "      <td>6</td>\n",
       "      <td>0.1</td>\n",
       "    </tr>\n",
       "  </tbody>\n",
       "</table>\n",
       "</div>"
      ],
      "text/plain": [
       "   group_size  prob\n",
       "1           4   0.2\n",
       "2           6   0.1"
      ]
     },
     "execution_count": 41,
     "metadata": {},
     "output_type": "execute_result"
    }
   ],
   "source": [
    "groups_4_or_more = size_dist[size_dist['group_size'] >= 4]\n",
    "groups_4_or_more"
   ]
  },
  {
   "cell_type": "code",
   "execution_count": 42,
   "id": "f68a9cca-0466-4fcc-8753-c9f59dad20b6",
   "metadata": {},
   "outputs": [
    {
     "data": {
      "text/plain": [
       "0.30000000000000004"
      ]
     },
     "execution_count": 42,
     "metadata": {},
     "output_type": "execute_result"
    }
   ],
   "source": [
    "np.sum(groups_4_or_more['prob'])"
   ]
  },
  {
   "cell_type": "code",
   "execution_count": 43,
   "id": "9d693240-9087-48c2-b72c-6232673821ef",
   "metadata": {},
   "outputs": [],
   "source": [
    "from scipy.stats import uniform"
   ]
  },
  {
   "cell_type": "code",
   "execution_count": 44,
   "id": "e6169626-0474-4159-8f54-b1b6f5026c13",
   "metadata": {},
   "outputs": [
    {
     "data": {
      "text/plain": [
       "0.16666666666666666"
      ]
     },
     "execution_count": 44,
     "metadata": {},
     "output_type": "execute_result"
    }
   ],
   "source": [
    "uniform.cdf(5,0,30)"
   ]
  },
  {
   "cell_type": "code",
   "execution_count": 45,
   "id": "3634402c-674a-4bbb-932c-afb7aa62d0d7",
   "metadata": {},
   "outputs": [],
   "source": [
    "# Calculate probability of waiting more than 5 mins\n",
    "prob_greater_than_5 = 1 - uniform.cdf(5,0,30)"
   ]
  },
  {
   "cell_type": "code",
   "execution_count": 46,
   "id": "bc197bb1-32b4-4dcf-9f59-4fe1cdbf96e2",
   "metadata": {},
   "outputs": [
    {
     "data": {
      "text/plain": [
       "0.3333333333333333"
      ]
     },
     "execution_count": 46,
     "metadata": {},
     "output_type": "execute_result"
    }
   ],
   "source": [
    "uniform.cdf(20,0,30) - uniform.cdf(10,0,30)"
   ]
  },
  {
   "cell_type": "code",
   "execution_count": 47,
   "id": "124d295a-65b5-4ef1-80d4-25f08a2ad27b",
   "metadata": {},
   "outputs": [
    {
     "data": {
      "text/plain": [
       "array([6.60201899e+00, 1.08316906e+01, 2.21952297e+01, 2.98936718e+01,\n",
       "       9.49040933e+00, 4.09633739e+00, 1.15194003e+01, 9.61557851e+00,\n",
       "       1.09924426e+01, 2.12895469e+01, 2.70042729e+01, 1.60234632e+01,\n",
       "       7.41881295e+00, 2.01541969e+01, 1.68518732e+01, 1.62767963e+01,\n",
       "       2.68034281e+01, 2.52833865e+01, 9.18037770e+00, 1.89350933e+01,\n",
       "       2.04071658e+01, 2.91128268e+01, 2.68070146e+01, 2.82727758e+01,\n",
       "       1.92667644e+01, 1.84394290e+01, 6.83049763e+00, 1.45809561e+01,\n",
       "       2.42165790e+01, 2.53266046e+01, 1.60404260e+01, 2.27339415e+01,\n",
       "       1.49903066e+01, 2.55098369e+01, 1.85909033e+01, 2.58484254e+01,\n",
       "       6.95091590e+00, 1.20665524e+01, 1.87312519e+01, 4.29110118e+00,\n",
       "       3.68395451e+00, 1.25048973e+01, 1.67064895e+01, 2.82425753e+01,\n",
       "       1.22777707e+01, 2.21025435e+01, 2.98635202e+01, 2.74999305e+01,\n",
       "       6.06981778e-02, 2.91399508e+01, 2.66714453e+01, 2.09846582e+01,\n",
       "       2.92574006e+00, 1.72028712e+01, 2.46011135e+01, 1.68267315e+01,\n",
       "       1.05228738e+01, 1.63049927e+01, 2.63876728e+01, 3.42289695e+00,\n",
       "       9.43164163e-01, 2.85843018e+01, 8.66230423e+00, 1.32584751e+01,\n",
       "       7.77064597e+00, 1.79067433e+01, 1.96585814e+01, 8.27086382e+00,\n",
       "       2.57391737e+01, 2.66617244e+01, 8.55181773e+00, 1.97868126e+01,\n",
       "       2.91636078e+01, 2.39062234e+01, 5.38393204e+00, 2.35401893e+01,\n",
       "       2.91038367e+01, 1.08843531e+01, 2.63658194e+00, 1.03150027e+01,\n",
       "       1.71332894e+01, 4.96538047e+00, 1.89484782e+01, 1.96696606e+00,\n",
       "       2.73862257e+01, 2.65961938e+00, 5.98163035e+00, 1.41585809e+01,\n",
       "       1.32299154e+01, 2.29665428e+01, 3.82306010e-01, 2.04198889e+01,\n",
       "       8.26807920e+00, 1.81193946e+01, 1.63791854e+01, 6.29369432e+00,\n",
       "       4.08368261e+00, 2.30748784e+01, 1.42375276e+01, 1.55733951e+01,\n",
       "       2.83257914e+01, 1.93057609e+01, 1.31475112e+01, 1.39136312e+01,\n",
       "       7.46494361e+00, 7.70278109e+00, 6.89821941e-01, 2.79721526e+01,\n",
       "       1.17677702e+01, 1.94486212e+01, 1.07021858e+01, 3.31321195e+00,\n",
       "       1.34567460e+01, 1.40677151e+01, 1.74437616e+00, 2.44981111e+01,\n",
       "       8.68023763e+00, 1.95327405e+01, 4.61116852e+00, 1.58481322e+01,\n",
       "       2.04644550e+01, 2.13539884e+01, 2.22785005e+01, 1.73620310e+01,\n",
       "       1.14149920e+01, 2.29514886e+01, 1.53708682e+00, 2.73700893e+01,\n",
       "       1.31112902e+01, 1.90785444e+01, 2.46426238e+01, 5.28630641e+00,\n",
       "       1.65537450e+01, 1.64521982e+01, 2.76098424e+01, 2.49986069e+01,\n",
       "       1.98005706e+01, 2.06909609e+01, 8.58737284e+00, 2.70560663e+01,\n",
       "       1.65671550e+00, 1.26328840e+01, 2.36068676e+01, 2.78185154e+01,\n",
       "       4.72322212e+00, 1.67575288e+01, 1.35351527e+01, 2.24695608e+01,\n",
       "       2.51776096e+01, 1.36723880e+00, 1.51692919e+01, 1.76644442e+01,\n",
       "       1.85304945e+00, 7.47669552e-01, 1.77776862e+01, 2.21813337e+01,\n",
       "       2.90518490e-01, 2.94687899e+01, 1.37680808e+00, 1.70041525e+01,\n",
       "       2.98356901e+00, 1.05101092e+01, 1.18339039e+01, 1.16184859e+01,\n",
       "       1.20809752e+01, 2.78974844e+01, 2.82641307e+01, 5.40721182e+00,\n",
       "       2.19153933e+01, 2.04054375e+01, 2.65169516e+01, 1.74262520e+01,\n",
       "       2.09632347e+01, 7.53854150e+00, 2.43875561e+01, 1.68872476e+01,\n",
       "       9.30814691e+00, 1.12390358e+01, 2.46544891e+01, 2.71610876e+01,\n",
       "       2.75471610e+01, 6.88351727e+00, 4.49039719e+00, 2.29403997e+01,\n",
       "       9.89832162e+00, 2.76567982e+01, 1.19927381e+01, 5.34043372e+00,\n",
       "       2.94115453e+00, 3.71066251e+00, 1.88597103e+01, 1.42697523e+01,\n",
       "       2.10686719e+01, 3.06788383e+00, 2.78031461e+00, 2.17511124e+01,\n",
       "       1.11343990e+01, 8.59183259e+00, 2.63828015e+01, 1.03789600e+00,\n",
       "       5.46155573e-01, 9.53146934e+00, 1.12538494e+01, 2.99073688e+01,\n",
       "       2.44515649e+01, 1.92451058e+01, 4.60772111e+00, 2.19917743e+01,\n",
       "       8.62179444e+00, 1.10739857e+01, 5.01952478e-01, 2.55895860e+01,\n",
       "       9.28472876e+00, 1.68878129e+01, 2.72797876e+00, 2.37780474e+01,\n",
       "       8.76284680e-01, 1.67180044e+00, 2.16104951e+01, 9.35086837e-01,\n",
       "       1.44780286e+01, 2.13458897e+01, 1.44151429e+01, 2.40304823e+01,\n",
       "       1.64662242e+01, 1.80871180e+01, 2.27783752e+01, 3.46860866e-01,\n",
       "       2.78639413e+01, 1.85552873e+01, 2.40279608e+01, 3.58581394e-01,\n",
       "       1.69012673e+01, 6.17314753e+00, 8.12223925e+00, 1.14337137e+01,\n",
       "       2.99745401e+01, 2.97037732e+01, 2.29156269e+01, 2.15500707e+00,\n",
       "       2.92208375e+01, 2.95659508e+01, 7.20582793e+00, 1.50305010e+01,\n",
       "       2.08691256e+01, 7.95562418e+00, 2.89631906e+01, 2.69578674e+01,\n",
       "       1.57645297e+01, 1.52256018e+01, 1.31589985e+01, 3.01923169e-01,\n",
       "       2.55646063e+01, 2.04368338e+01, 2.86542714e+01, 7.39265017e+00,\n",
       "       4.15898534e+00, 2.03215425e+01, 1.90651010e+01, 1.84053985e+01,\n",
       "       2.77422810e+01, 1.79391681e+00, 2.16541150e+01, 2.92122932e+01,\n",
       "       1.94827503e+00, 1.78188891e+01, 4.74946002e+00, 2.98401524e+01,\n",
       "       2.58354386e+01, 1.09506945e+01, 2.98518115e+01, 9.70708238e+00,\n",
       "       1.26077330e+01, 1.44861150e+00, 1.10208946e+01, 4.98799680e+00,\n",
       "       4.80134871e+00, 1.12867748e+01, 6.78785877e+00, 8.77660477e+00,\n",
       "       1.25581744e+01, 2.41755626e+01, 3.29842309e-01, 4.48831314e+00,\n",
       "       2.93481435e+01, 1.22851835e+00, 6.56117317e-03, 2.60492004e+01,\n",
       "       3.20185027e+00, 2.65516365e+01, 1.95802964e+01, 5.11833986e+00,\n",
       "       4.86768260e-01, 4.32710385e+00, 5.11830494e+00, 2.67857894e+01,\n",
       "       6.00070204e+00, 1.40148144e+01, 4.64766065e+00, 5.73385235e+00,\n",
       "       1.05931040e+01, 3.84353500e+00, 1.20826458e+01, 2.55256812e+01,\n",
       "       8.35837904e+00, 1.27471028e+01, 2.16739898e+01, 1.96892367e+01,\n",
       "       9.57835821e+00, 2.81266859e+00, 9.91084062e-01, 1.77391356e+01,\n",
       "       4.45084242e+00, 8.13940838e+00, 2.94742831e+01, 2.48572643e+01,\n",
       "       2.96727864e+01, 2.97919229e+01, 1.68854147e+01, 6.03028990e+00,\n",
       "       1.27879880e+01, 1.01612483e+01, 2.72864685e+01, 1.22583483e+01,\n",
       "       2.15041421e-01, 1.64266861e+01, 3.53194319e+00, 2.10112382e+01,\n",
       "       1.97823017e-01, 1.85383054e+01, 1.37266541e+01, 5.12598611e+00,\n",
       "       2.03778863e+01, 2.25653350e+00, 1.16453172e+01, 8.26460436e+00,\n",
       "       8.09134695e+00, 2.81601731e+01, 2.33559908e+01, 2.33846059e+01,\n",
       "       3.37021441e+00, 8.30932017e-01, 1.23294729e+01, 2.59427271e+01,\n",
       "       1.85162705e+01, 2.32631025e+01, 1.15902916e+01, 1.10836159e+01,\n",
       "       2.07651057e+01, 1.31116267e+00, 2.05787630e+01, 2.96005542e+01,\n",
       "       2.27121579e+00, 2.23029957e+01, 1.73378834e+01, 8.35046314e+00,\n",
       "       2.30749054e+01, 1.84306714e+01, 2.83096039e+01, 1.53928807e+01,\n",
       "       2.11380556e+01, 2.19043387e+01, 2.28371995e+00, 4.16094052e+00,\n",
       "       1.47748115e+01, 5.30883171e+00, 8.11179982e+00, 8.92124485e+00,\n",
       "       9.52683977e+00, 2.11149279e+01, 2.23912483e-01, 2.16303693e+01,\n",
       "       2.82824820e+01, 1.06649320e+01, 2.13969739e+01, 1.02509738e+01,\n",
       "       2.95684630e+01, 6.69748323e+00, 5.05811191e+00, 1.39926742e+01,\n",
       "       2.25002406e+01, 1.38256800e+01, 1.55747177e+01, 1.82361746e+01,\n",
       "       1.36838572e+01, 2.44397276e+01, 9.18712537e+00, 8.29200409e+00,\n",
       "       1.08564370e+01, 2.45528848e+01, 2.79112440e+01, 2.03467121e+01,\n",
       "       2.79612044e+01, 1.94742047e+01, 1.52701545e+01, 1.32204738e+01,\n",
       "       2.01787938e+00, 2.39667604e+01, 8.26002370e-01, 1.98371345e+01,\n",
       "       1.94013570e+01, 2.39709495e+01, 6.78251593e+00, 4.54843490e+00,\n",
       "       1.71247268e+01, 1.22932252e+01, 2.68060641e+01, 5.63502425e+00,\n",
       "       3.95595571e+00, 9.65152683e+00, 1.70920829e+01, 2.77989255e+01,\n",
       "       3.30634155e+00, 2.17933803e+00, 1.91446370e+01, 1.16232322e+01,\n",
       "       6.91292066e+00, 1.28195857e+01, 3.14937364e-01, 1.67959185e+01,\n",
       "       4.09671079e+00, 6.22064824e+00, 1.32414325e+01, 2.52701237e+01,\n",
       "       3.54999812e+00, 2.75727556e+01, 2.63233903e+01, 2.88496964e+01,\n",
       "       9.88274638e+00, 2.05931595e+01, 1.03738828e+01, 1.36456040e+01,\n",
       "       1.59282642e+01, 5.85762800e+00, 2.08555391e+00, 4.77034850e+00,\n",
       "       1.39851860e+01, 1.85825804e+01, 8.75698568e+00, 3.21550343e+00,\n",
       "       7.29905802e+00, 2.99021304e+01, 6.84970502e+00, 6.81179533e+00,\n",
       "       2.60853104e+01, 1.26049776e+01, 7.49978418e+00, 1.47028945e+01,\n",
       "       2.52344518e+01, 1.10777036e+01, 2.77265867e+01, 2.98407688e+01,\n",
       "       2.03725696e+01, 1.20391533e+01, 1.15391892e+01, 2.32992668e+01,\n",
       "       2.50870379e+01, 2.41472301e-01, 1.06810150e+01, 1.74439484e+01,\n",
       "       1.92978811e+01, 2.55860670e+01, 1.41004514e+01, 1.38167755e+01,\n",
       "       1.16315933e+01, 1.16285656e+01, 1.40809249e+01, 4.24820220e+00,\n",
       "       1.53596534e+01, 2.73371787e+01, 1.33107675e+01, 5.80249600e-01,\n",
       "       5.50361746e+00, 9.95335828e+00, 5.28514283e+00, 7.11144764e+00,\n",
       "       1.92261872e+01, 1.45523287e+01, 2.49890187e+01, 1.35770406e+01,\n",
       "       7.96508074e+00, 9.62142106e+00, 2.11521954e+01, 7.96199841e+00,\n",
       "       2.35574574e+01, 2.63715543e+01, 8.03423887e-01, 8.19094725e-01,\n",
       "       3.09401719e-01, 2.78253237e+01, 1.36466361e+00, 1.59076217e+01,\n",
       "       3.47188138e+00, 9.25285300e+00, 2.17185655e+01, 1.67233981e+01,\n",
       "       8.34912689e+00, 2.04924997e+01, 2.67916830e+01, 1.25189800e+01,\n",
       "       2.77513090e+01, 8.87314850e+00, 3.62217369e+00, 1.36172308e+01,\n",
       "       2.30681723e+01, 2.81448896e+01, 1.90639182e+01, 2.95763627e+01,\n",
       "       6.10872866e+00, 8.69075756e+00, 2.22739174e+01, 3.80715769e+00,\n",
       "       9.99791847e+00, 1.44695993e+01, 2.31065638e+01, 4.89684585e+00,\n",
       "       2.82114188e+01, 2.44525162e+01, 1.08540930e+01, 2.61583257e+01,\n",
       "       6.31778030e+00, 1.81569255e+01, 1.90642928e+01, 2.75080448e+01,\n",
       "       4.48202740e+00, 1.26610952e+01, 2.08704318e+01, 9.78099769e+00,\n",
       "       9.20682231e-01, 1.98655455e+01, 2.07679884e+00, 6.51571817e+00,\n",
       "       1.76406412e+01, 2.96696594e+00, 2.57550594e+01, 2.31881097e+01,\n",
       "       1.44058595e+01, 1.97376840e+00, 1.74333895e+01, 6.24856247e+00,\n",
       "       1.25271149e+01, 2.81628094e+01, 6.60650198e+00, 6.38397082e-01,\n",
       "       1.81745112e-01, 2.02172403e+01, 2.26081763e+01, 1.73489258e+01,\n",
       "       9.41919080e+00, 2.89279071e+01, 2.69492901e+01, 2.21039599e+01,\n",
       "       2.00896742e+01, 1.78321974e+01, 1.15006950e+01, 1.56047796e+01,\n",
       "       2.51685576e+01, 3.41477229e+00, 1.12572070e+01, 1.69798792e+01,\n",
       "       1.07646171e+01, 1.49101253e+01, 1.29510397e+01, 1.56734909e+01,\n",
       "       2.82305622e+01, 1.33238916e+01, 2.77521236e+01, 7.98050472e+00,\n",
       "       6.15028232e+00, 1.24638098e+01, 5.01238486e+00, 2.19351843e+01,\n",
       "       8.79517446e+00, 1.03705116e+01, 2.96977398e+01, 1.37070449e+01,\n",
       "       4.89787550e+00, 2.29441597e+01, 2.67981338e+01, 9.73881031e+00,\n",
       "       1.84300078e+01, 9.64659256e+00, 8.75594562e+00, 1.39171096e+01,\n",
       "       2.70402207e+01, 2.62125368e+01, 9.97329824e+00, 7.55548781e+00,\n",
       "       1.66050812e+01, 2.92358988e+01, 1.10843272e+01, 1.74923690e+01,\n",
       "       2.21459809e+01, 2.39853322e+01, 2.61856921e+01, 9.99014769e+00,\n",
       "       1.16826508e+01, 2.07828007e+01, 1.07332469e+01, 2.05780427e+00,\n",
       "       7.71177820e+00, 1.47115310e+01, 1.28067405e+01, 5.93300497e+00,\n",
       "       1.16603023e+01, 2.18907668e+01, 2.88176863e+01, 2.17937377e+01,\n",
       "       6.25889798e+00, 6.46210898e+00, 1.31858335e+01, 9.42820319e+00,\n",
       "       2.18108734e+00, 1.67129174e+01, 1.63436272e+00, 1.96845337e+01,\n",
       "       6.47439382e-02, 1.89728415e+01, 2.47005086e+01, 1.30907029e+01,\n",
       "       1.18769412e+01, 2.46386380e+01, 5.67410870e+00, 1.80265967e+01,\n",
       "       2.58406120e+01, 2.10224630e+00, 2.36820852e+01, 2.52153094e+01,\n",
       "       1.07632096e+01, 1.22548204e+01, 1.87914968e+01, 1.91751541e+01,\n",
       "       1.52071198e+00, 2.94660603e+01, 1.74305788e+01, 2.92715702e+01,\n",
       "       2.33231749e+01, 1.52003799e+01, 2.64746461e+01, 2.21049608e+01,\n",
       "       8.89425563e+00, 2.71680361e+01, 1.89789833e+01, 1.33858658e+01,\n",
       "       1.03519382e+01, 1.39445139e+01, 1.68335099e+01, 1.49791050e+01,\n",
       "       8.33225493e+00, 8.90352363e+00, 1.95234458e+01, 2.27721847e+01,\n",
       "       2.63298811e+00, 9.21342339e+00, 2.94569883e+01, 2.81198175e+01,\n",
       "       1.51367340e+01, 2.97873413e+01, 2.98855921e+01, 1.59180168e+01,\n",
       "       2.04051109e+01, 2.23094612e+01, 1.47861999e+01, 1.19634892e+01,\n",
       "       2.38495346e+01, 2.87993785e+01, 1.81087239e+01, 1.43168414e+00,\n",
       "       3.29268612e+00, 1.89247433e+01, 2.11576297e+01, 2.85665350e+01,\n",
       "       1.17063542e+01, 1.16739904e+01, 3.52092551e+00, 1.29267699e+01,\n",
       "       2.66687103e+01, 2.47747680e+01, 1.90675021e+01, 2.11874317e+01,\n",
       "       1.30090013e+01, 1.31760705e+01, 1.06507315e+01, 2.08685223e+01,\n",
       "       2.11613288e+01, 9.09969190e+00, 1.25371938e+01, 2.01054433e+01,\n",
       "       2.71062281e+01, 1.79955926e+01, 3.06921280e+00, 7.74963216e+00,\n",
       "       2.00088936e+01, 1.68640830e+01, 6.75887554e+00, 2.37831625e+01,\n",
       "       2.65101486e+00, 2.67553395e+01, 2.82072726e+01, 1.74454662e+01,\n",
       "       1.56628891e+01, 2.26932099e+01, 1.28189469e+01, 2.46651753e+01,\n",
       "       2.48474821e+01, 2.41674802e+01, 2.13134235e+01, 5.72986424e-01,\n",
       "       1.99835445e+01, 2.00469485e+01, 1.62180079e+00, 7.63652420e+00,\n",
       "       1.55585211e+01, 1.65001607e+01, 2.24369730e+01, 1.87960733e+01,\n",
       "       5.88050934e+00, 2.52913101e+01, 2.81191775e+01, 1.17785020e+01,\n",
       "       8.47772055e+00, 2.68777800e+01, 1.37178462e+01, 1.69368615e+01,\n",
       "       2.66878613e+01, 4.93385902e+00, 2.56124202e+01, 1.83358208e+01,\n",
       "       2.47919677e+01, 1.17125154e+01, 2.92072543e+01, 2.64454120e+01,\n",
       "       1.16548030e+01, 2.74050841e+01, 4.75273507e+00, 9.11625445e+00,\n",
       "       2.81442655e+01, 1.74328525e+01, 6.51141395e+00, 8.08159497e+00,\n",
       "       2.04997150e+01, 2.99891602e+01, 7.38575230e+00, 1.55611511e+01,\n",
       "       1.10172179e+01, 2.85592419e+01, 8.68374092e+00, 4.26116083e+00,\n",
       "       2.74456351e+01, 2.35051007e+01, 1.85184097e+01, 9.22538806e+00,\n",
       "       5.81664408e+00, 1.72196159e+01, 6.73644044e+00, 2.26791337e+00,\n",
       "       1.01022083e+01, 9.11095754e+00, 1.52461402e+01, 2.63085145e+01,\n",
       "       2.29178470e+01, 1.98242741e+01, 1.82010367e+01, 3.65389994e+00,\n",
       "       2.95887417e+01, 6.07034390e+00, 2.29134169e+01, 1.05271488e+01,\n",
       "       2.98296509e+01, 2.34906426e+01, 1.17688383e+01, 1.63180876e+01,\n",
       "       1.02827049e+01, 5.25524746e+00, 2.62311899e+01, 1.29874611e+01,\n",
       "       1.34876938e+01, 1.71502148e+01, 1.64357505e+01, 2.56357730e+01,\n",
       "       2.09522657e+01, 1.04002029e+01, 5.17047740e+00, 1.08499400e+01,\n",
       "       2.94025652e+01, 5.58782349e+00, 1.00190017e+01, 2.07418959e+01,\n",
       "       9.03056894e+00, 2.30313211e+01, 2.15549916e+01, 2.71543942e+01,\n",
       "       2.97794051e+01, 2.12951117e+01, 1.95994007e+01, 2.37571310e+01,\n",
       "       9.62884701e+00, 2.94012866e+01, 2.56799418e-01, 1.61628647e+01,\n",
       "       1.89066760e+00, 1.92440719e+01, 2.33089831e+01, 2.58626602e+01,\n",
       "       1.32661667e+01, 2.63180858e+01, 2.66122700e+01, 2.64817111e+01,\n",
       "       5.00673177e+00, 7.52232173e+00, 1.99842937e+01, 9.19998372e+00,\n",
       "       1.45361101e+01, 1.29184936e+01, 6.29051202e+00, 2.20215755e+01,\n",
       "       8.78426355e+00, 1.01823467e+01, 2.41766224e+01, 2.34279946e+01,\n",
       "       1.48300214e+01, 1.46406319e+01, 2.38236964e+01, 1.95800823e+01,\n",
       "       2.70698572e+01, 1.67320811e+01, 1.72953535e+01, 1.91099675e-01,\n",
       "       2.54440452e+01, 2.92457760e+01, 1.60459148e+01, 7.75865715e-02,\n",
       "       1.91552370e+01, 2.70005465e+01, 2.38134157e+01, 7.02564011e+00,\n",
       "       9.58100501e+00, 2.61878956e+01, 7.48549112e+00, 1.08764252e+01,\n",
       "       8.81701416e+00, 6.04555986e+00, 1.28915767e+01, 1.98376390e+01,\n",
       "       2.34998373e+01, 3.17949934e+00, 2.80062861e+01, 6.86109787e+00,\n",
       "       2.26587664e+01, 9.64031700e+00, 6.55377095e+00, 1.90448696e+00,\n",
       "       2.28474247e+01, 3.68618569e+00, 1.99757302e+01, 5.30125292e-01,\n",
       "       2.24615160e+01, 1.85016628e+01, 2.72622309e+01, 1.28921251e+01,\n",
       "       2.73536433e+01, 2.29661280e+01, 2.21967792e+01, 9.92535689e+00,\n",
       "       2.09942138e+01, 7.54303404e+00, 2.86334419e+01, 2.67961788e+01,\n",
       "       3.04930455e+00, 1.14745457e+01, 8.49462011e+00, 1.87624313e+00,\n",
       "       2.97377323e+01, 1.32784111e+01, 2.48016483e+01, 1.76598644e+01,\n",
       "       2.53584359e+01, 2.22654221e+01, 2.00756955e+01, 2.17119325e+00,\n",
       "       2.67173452e+01, 1.10044848e+01, 2.40763391e+00, 6.00557837e+00,\n",
       "       2.74255756e+01, 2.30172116e+01, 2.39046305e+01, 1.11029965e+01,\n",
       "       2.96282521e+01, 2.02135041e+01, 8.59271504e+00, 1.46487464e+01,\n",
       "       7.94328352e+00, 2.66381200e+01, 1.34955948e+01, 2.12204081e+00,\n",
       "       2.72460192e+00, 1.83388941e+01, 2.63335866e+01, 2.47034438e+00,\n",
       "       5.28276561e+00, 1.70364702e+01, 2.47346796e+01, 1.06006073e+01,\n",
       "       7.11866179e+00, 2.05520697e+01, 2.45904117e+01, 2.45560582e+01,\n",
       "       2.00771841e+01, 2.75114135e+01, 6.62326977e+00, 3.64970548e+00,\n",
       "       2.37990036e+00, 2.95380964e+01, 2.02510366e+01, 2.99795852e+01,\n",
       "       2.81435630e+01, 5.74212144e+00, 1.71516690e+01, 1.81996245e+01,\n",
       "       1.66194950e+01, 1.01567745e+01, 2.22090903e+01, 7.63140342e+00,\n",
       "       1.09929907e+01, 1.49318276e+00, 5.49792850e+00, 3.41586362e-01,\n",
       "       1.87750752e+01, 2.12318472e+01, 2.70575057e+01, 2.13294641e+01,\n",
       "       5.28436533e+00, 2.21227899e+01, 3.61729008e+00, 8.37080508e+00,\n",
       "       1.92785156e+01, 1.41962905e+01, 1.64048654e+01, 2.61536446e+01,\n",
       "       1.13093050e+01, 8.47838367e+00, 6.71562855e+00, 1.87892201e+01,\n",
       "       2.56951917e+01, 7.02046496e+00, 5.98592255e+00, 1.82026346e+01,\n",
       "       1.70465515e+01, 1.20722033e+01, 1.76619183e+01, 2.96349626e+01,\n",
       "       2.62186354e+01, 1.03812995e+01, 1.39732220e+01, 2.90277070e+01,\n",
       "       6.11922036e+00, 1.08437309e+01, 3.95932396e+00, 2.15965402e+01,\n",
       "       1.76343052e+01, 9.38835788e+00, 6.86188238e+00, 2.36555156e+01,\n",
       "       1.42381088e+01, 1.06332495e+01, 8.52947450e+00, 1.95992846e+01,\n",
       "       1.55857506e+01, 2.18666007e+01, 7.17135438e+00, 2.28570646e+01,\n",
       "       8.77989363e+00, 1.89513763e+01, 2.99378732e+01, 6.79328257e+00,\n",
       "       1.94807559e+00, 1.40820392e+01, 1.66663547e+00, 2.54700493e+01,\n",
       "       8.63293545e+00, 2.37205195e+01, 1.41802994e+01, 2.91649253e+01,\n",
       "       4.60810926e+00, 4.56991415e+00, 1.97546623e+01, 8.47445352e+00,\n",
       "       1.83689669e+01, 1.28724869e+01, 2.41115262e+00, 9.23106371e-01,\n",
       "       2.16411591e+00, 1.61127240e+01, 9.91525142e+00, 1.28145015e+01,\n",
       "       3.30497147e+00, 1.97639563e+01, 1.04733664e+01, 7.94057492e+00])"
      ]
     },
     "execution_count": 47,
     "metadata": {},
     "output_type": "execute_result"
    }
   ],
   "source": [
    "wait_times = uniform.rvs(0,30,1000)\n",
    "wait_times"
   ]
  },
  {
   "cell_type": "code",
   "execution_count": 48,
   "id": "cf99fa6f-9e57-4600-884a-180660d13e3b",
   "metadata": {},
   "outputs": [
    {
     "data": {
      "image/png": "[encoded data removed]",
      "text/plain": [
       "<Figure size 640x480 with 1 Axes>"
      ]
     },
     "metadata": {},
     "output_type": "display_data"
    }
   ],
   "source": [
    "plt.hist(wait_times)\n",
    "plt.show()"
   ]
  },
  {
   "cell_type": "code",
   "execution_count": 49,
   "id": "a7ba5d44-7233-4df1-8732-86754a5107e6",
   "metadata": {},
   "outputs": [],
   "source": [
    "# Import binom from scipy.stats\n",
    "from scipy.stats import binom\n",
    "\n",
    "# Set random seed to 10\n",
    "np.random.seed(10)"
   ]
  },
  {
   "cell_type": "code",
   "execution_count": 50,
   "id": "e89b8da8-5050-4220-846e-8a2b7724a131",
   "metadata": {},
   "outputs": [
    {
     "name": "stdout",
     "output_type": "stream",
     "text": [
      "[1]\n"
     ]
    }
   ],
   "source": [
    "print(binom.rvs(1, 0.3, size=1))"
   ]
  },
  {
   "cell_type": "code",
   "execution_count": 51,
   "id": "add90ea4-7060-4ca4-8865-3589447e6237",
   "metadata": {},
   "outputs": [
    {
     "name": "stdout",
     "output_type": "stream",
     "text": [
      "[0]\n"
     ]
    }
   ],
   "source": [
    "# Simulate 1 week of 3 deals\n",
    "print(binom.rvs(3, 0.3, size=1))"
   ]
  },
  {
   "cell_type": "code",
   "execution_count": 52,
   "id": "7b15ba6f-0ce2-41a1-a7a7-d72419a418a7",
   "metadata": {},
   "outputs": [],
   "source": [
    "deals = binom.rvs(3, 0.3, size=52)"
   ]
  },
  {
   "cell_type": "code",
   "execution_count": 53,
   "id": "3cd4a03d-59b8-48b4-bc72-e77a35e67fc5",
   "metadata": {},
   "outputs": [
    {
     "data": {
      "text/plain": [
       "0.8461538461538461"
      ]
     },
     "execution_count": 53,
     "metadata": {},
     "output_type": "execute_result"
    }
   ],
   "source": [
    "np.mean(deals)"
   ]
  },
  {
   "cell_type": "code",
   "execution_count": 54,
   "id": "362dcf16-abd1-4051-af30-d7b5282bc036",
   "metadata": {},
   "outputs": [
    {
     "data": {
      "text/plain": [
       "0.026999999999999996"
      ]
     },
     "execution_count": 54,
     "metadata": {},
     "output_type": "execute_result"
    }
   ],
   "source": [
    "binom.pmf(3,3,0.3)"
   ]
  },
  {
   "cell_type": "code",
   "execution_count": 55,
   "id": "b8c53b76-bf78-4409-8ff9-8dd2e3f7e05f",
   "metadata": {},
   "outputs": [
    {
     "data": {
      "text/plain": [
       "0.784"
      ]
     },
     "execution_count": 55,
     "metadata": {},
     "output_type": "execute_result"
    }
   ],
   "source": [
    " binom.cdf(1,3,0.3)"
   ]
  },
  {
   "cell_type": "code",
   "execution_count": 56,
   "id": "3cec4cbf-26ef-47a0-bb46-ac68f227eb20",
   "metadata": {},
   "outputs": [
    {
     "data": {
      "text/html": [
       "<div>\n",
       "<style scoped>\n",
       "    .dataframe tbody tr th:only-of-type {\n",
       "        vertical-align: middle;\n",
       "    }\n",
       "\n",
       "    .dataframe tbody tr th {\n",
       "        vertical-align: top;\n",
       "    }\n",
       "\n",
       "    .dataframe thead th {\n",
       "        text-align: right;\n",
       "    }\n",
       "</style>\n",
       "<table border=\"1\" class=\"dataframe\">\n",
       "  <thead>\n",
       "    <tr style=\"text-align: right;\">\n",
       "      <th></th>\n",
       "      <th>Unnamed: 0</th>\n",
       "      <th>product</th>\n",
       "      <th>client</th>\n",
       "      <th>status</th>\n",
       "      <th>amount</th>\n",
       "      <th>num_users</th>\n",
       "    </tr>\n",
       "  </thead>\n",
       "  <tbody>\n",
       "    <tr>\n",
       "      <th>0</th>\n",
       "      <td>1</td>\n",
       "      <td>Product F</td>\n",
       "      <td>Current</td>\n",
       "      <td>Won</td>\n",
       "      <td>7389.52</td>\n",
       "      <td>19</td>\n",
       "    </tr>\n",
       "    <tr>\n",
       "      <th>1</th>\n",
       "      <td>2</td>\n",
       "      <td>Product C</td>\n",
       "      <td>New</td>\n",
       "      <td>Won</td>\n",
       "      <td>4493.01</td>\n",
       "      <td>43</td>\n",
       "    </tr>\n",
       "    <tr>\n",
       "      <th>2</th>\n",
       "      <td>3</td>\n",
       "      <td>Product B</td>\n",
       "      <td>New</td>\n",
       "      <td>Won</td>\n",
       "      <td>5738.09</td>\n",
       "      <td>87</td>\n",
       "    </tr>\n",
       "    <tr>\n",
       "      <th>3</th>\n",
       "      <td>4</td>\n",
       "      <td>Product I</td>\n",
       "      <td>Current</td>\n",
       "      <td>Won</td>\n",
       "      <td>2591.24</td>\n",
       "      <td>83</td>\n",
       "    </tr>\n",
       "    <tr>\n",
       "      <th>4</th>\n",
       "      <td>5</td>\n",
       "      <td>Product E</td>\n",
       "      <td>Current</td>\n",
       "      <td>Won</td>\n",
       "      <td>6622.97</td>\n",
       "      <td>17</td>\n",
       "    </tr>\n",
       "    <tr>\n",
       "      <th>...</th>\n",
       "      <td>...</td>\n",
       "      <td>...</td>\n",
       "      <td>...</td>\n",
       "      <td>...</td>\n",
       "      <td>...</td>\n",
       "      <td>...</td>\n",
       "    </tr>\n",
       "    <tr>\n",
       "      <th>173</th>\n",
       "      <td>174</td>\n",
       "      <td>Product A</td>\n",
       "      <td>Current</td>\n",
       "      <td>Lost</td>\n",
       "      <td>5835.32</td>\n",
       "      <td>23</td>\n",
       "    </tr>\n",
       "    <tr>\n",
       "      <th>174</th>\n",
       "      <td>175</td>\n",
       "      <td>Product D</td>\n",
       "      <td>Current</td>\n",
       "      <td>Won</td>\n",
       "      <td>6377.50</td>\n",
       "      <td>12</td>\n",
       "    </tr>\n",
       "    <tr>\n",
       "      <th>175</th>\n",
       "      <td>176</td>\n",
       "      <td>Product D</td>\n",
       "      <td>Current</td>\n",
       "      <td>Won</td>\n",
       "      <td>3537.61</td>\n",
       "      <td>28</td>\n",
       "    </tr>\n",
       "    <tr>\n",
       "      <th>176</th>\n",
       "      <td>177</td>\n",
       "      <td>Product A</td>\n",
       "      <td>Current</td>\n",
       "      <td>Won</td>\n",
       "      <td>6448.07</td>\n",
       "      <td>34</td>\n",
       "    </tr>\n",
       "    <tr>\n",
       "      <th>177</th>\n",
       "      <td>178</td>\n",
       "      <td>Product D</td>\n",
       "      <td>New</td>\n",
       "      <td>Lost</td>\n",
       "      <td>7320.05</td>\n",
       "      <td>72</td>\n",
       "    </tr>\n",
       "  </tbody>\n",
       "</table>\n",
       "<p>178 rows × 6 columns</p>\n",
       "</div>"
      ],
      "text/plain": [
       "     Unnamed: 0    product   client status   amount  num_users\n",
       "0             1  Product F  Current    Won  7389.52         19\n",
       "1             2  Product C      New    Won  4493.01         43\n",
       "2             3  Product B      New    Won  5738.09         87\n",
       "3             4  Product I  Current    Won  2591.24         83\n",
       "4             5  Product E  Current    Won  6622.97         17\n",
       "..          ...        ...      ...    ...      ...        ...\n",
       "173         174  Product A  Current   Lost  5835.32         23\n",
       "174         175  Product D  Current    Won  6377.50         12\n",
       "175         176  Product D  Current    Won  3537.61         28\n",
       "176         177  Product A  Current    Won  6448.07         34\n",
       "177         178  Product D      New   Lost  7320.05         72\n",
       "\n",
       "[178 rows x 6 columns]"
      ]
     },
     "execution_count": 56,
     "metadata": {},
     "output_type": "execute_result"
    }
   ],
   "source": [
    "amir_deals"
   ]
  },
  {
   "cell_type": "code",
   "execution_count": 57,
   "id": "25b0f664-9075-4c1b-acfa-98802bb2361f",
   "metadata": {},
   "outputs": [
    {
     "data": {
      "image/png": "[encoded data removed]",
      "text/plain": [
       "<Figure size 640x480 with 1 Axes>"
      ]
     },
     "metadata": {},
     "output_type": "display_data"
    }
   ],
   "source": [
    "amir_deals['amount'].hist(bins = 10)\n",
    "plt.show()"
   ]
  },
  {
   "cell_type": "code",
   "execution_count": 58,
   "id": "076bc5b6-dca4-4f07-9636-c87327593b1c",
   "metadata": {},
   "outputs": [
    {
     "name": "stdout",
     "output_type": "stream",
     "text": [
      "Object `Series.hist` not found.\n"
     ]
    }
   ],
   "source": [
    "Series.hist?"
   ]
  },
  {
   "cell_type": "code",
   "execution_count": 59,
   "id": "fc1277e6-44d7-48fb-a54e-629a82b6a516",
   "metadata": {},
   "outputs": [
    {
     "data": {
      "text/plain": [
       "4812.000337078652"
      ]
     },
     "execution_count": 59,
     "metadata": {},
     "output_type": "execute_result"
    }
   ],
   "source": [
    "np.mean(amir_deals['amount'])"
   ]
  },
  {
   "cell_type": "code",
   "execution_count": 60,
   "id": "8961cac5-11f9-442d-9b63-01e88bb54c1c",
   "metadata": {},
   "outputs": [
    {
     "data": {
      "text/plain": [
       "2052.383697078496"
      ]
     },
     "execution_count": 60,
     "metadata": {},
     "output_type": "execute_result"
    }
   ],
   "source": [
    "np.std(amir_deals['amount'])"
   ]
  },
  {
   "cell_type": "code",
   "execution_count": 61,
   "id": "2761e765-2ee7-453a-bbfc-381c8cd1fc48",
   "metadata": {},
   "outputs": [
    {
     "data": {
      "text/plain": [
       "162"
      ]
     },
     "execution_count": 61,
     "metadata": {},
     "output_type": "execute_result"
    }
   ],
   "source": [
    "deals_less_than_75K = amir_deals[amir_deals['amount'] < 7500]\n",
    "len(deals_less_than_75K)"
   ]
  },
  {
   "cell_type": "code",
   "execution_count": 62,
   "id": "caf01fa4-71dc-4fe8-adbe-f357e092405f",
   "metadata": {},
   "outputs": [
    {
     "data": {
      "text/plain": [
       "178"
      ]
     },
     "execution_count": 62,
     "metadata": {},
     "output_type": "execute_result"
    }
   ],
   "source": [
    "len(amir_deals['amount'])"
   ]
  },
  {
   "cell_type": "code",
   "execution_count": 63,
   "id": "ba0233ff-4f26-44ff-a0fa-8ae25cca2f19",
   "metadata": {},
   "outputs": [
    {
     "data": {
      "text/plain": [
       "0      7389.52\n",
       "1      4493.01\n",
       "2      5738.09\n",
       "3      2591.24\n",
       "4      6622.97\n",
       "        ...   \n",
       "173    5835.32\n",
       "174    6377.50\n",
       "175    3537.61\n",
       "176    6448.07\n",
       "177    7320.05\n",
       "Name: amount, Length: 178, dtype: float64"
      ]
     },
     "execution_count": 63,
     "metadata": {},
     "output_type": "execute_result"
    }
   ],
   "source": [
    "amir_deals['amount']"
   ]
  },
  {
   "cell_type": "code",
   "execution_count": 64,
   "id": "c3e72008-61af-415f-99cb-00a3a04a2449",
   "metadata": {},
   "outputs": [
    {
     "data": {
      "text/html": [
       "<div>\n",
       "<style scoped>\n",
       "    .dataframe tbody tr th:only-of-type {\n",
       "        vertical-align: middle;\n",
       "    }\n",
       "\n",
       "    .dataframe tbody tr th {\n",
       "        vertical-align: top;\n",
       "    }\n",
       "\n",
       "    .dataframe thead th {\n",
       "        text-align: right;\n",
       "    }\n",
       "</style>\n",
       "<table border=\"1\" class=\"dataframe\">\n",
       "  <thead>\n",
       "    <tr style=\"text-align: right;\">\n",
       "      <th></th>\n",
       "      <th>Unnamed: 0</th>\n",
       "      <th>product</th>\n",
       "      <th>client</th>\n",
       "      <th>status</th>\n",
       "      <th>amount</th>\n",
       "      <th>num_users</th>\n",
       "    </tr>\n",
       "  </thead>\n",
       "  <tbody>\n",
       "    <tr>\n",
       "      <th>0</th>\n",
       "      <td>1</td>\n",
       "      <td>Product F</td>\n",
       "      <td>Current</td>\n",
       "      <td>Won</td>\n",
       "      <td>7389.52</td>\n",
       "      <td>19</td>\n",
       "    </tr>\n",
       "    <tr>\n",
       "      <th>1</th>\n",
       "      <td>2</td>\n",
       "      <td>Product C</td>\n",
       "      <td>New</td>\n",
       "      <td>Won</td>\n",
       "      <td>4493.01</td>\n",
       "      <td>43</td>\n",
       "    </tr>\n",
       "    <tr>\n",
       "      <th>2</th>\n",
       "      <td>3</td>\n",
       "      <td>Product B</td>\n",
       "      <td>New</td>\n",
       "      <td>Won</td>\n",
       "      <td>5738.09</td>\n",
       "      <td>87</td>\n",
       "    </tr>\n",
       "    <tr>\n",
       "      <th>3</th>\n",
       "      <td>4</td>\n",
       "      <td>Product I</td>\n",
       "      <td>Current</td>\n",
       "      <td>Won</td>\n",
       "      <td>2591.24</td>\n",
       "      <td>83</td>\n",
       "    </tr>\n",
       "    <tr>\n",
       "      <th>4</th>\n",
       "      <td>5</td>\n",
       "      <td>Product E</td>\n",
       "      <td>Current</td>\n",
       "      <td>Won</td>\n",
       "      <td>6622.97</td>\n",
       "      <td>17</td>\n",
       "    </tr>\n",
       "    <tr>\n",
       "      <th>...</th>\n",
       "      <td>...</td>\n",
       "      <td>...</td>\n",
       "      <td>...</td>\n",
       "      <td>...</td>\n",
       "      <td>...</td>\n",
       "      <td>...</td>\n",
       "    </tr>\n",
       "    <tr>\n",
       "      <th>173</th>\n",
       "      <td>174</td>\n",
       "      <td>Product A</td>\n",
       "      <td>Current</td>\n",
       "      <td>Lost</td>\n",
       "      <td>5835.32</td>\n",
       "      <td>23</td>\n",
       "    </tr>\n",
       "    <tr>\n",
       "      <th>174</th>\n",
       "      <td>175</td>\n",
       "      <td>Product D</td>\n",
       "      <td>Current</td>\n",
       "      <td>Won</td>\n",
       "      <td>6377.50</td>\n",
       "      <td>12</td>\n",
       "    </tr>\n",
       "    <tr>\n",
       "      <th>175</th>\n",
       "      <td>176</td>\n",
       "      <td>Product D</td>\n",
       "      <td>Current</td>\n",
       "      <td>Won</td>\n",
       "      <td>3537.61</td>\n",
       "      <td>28</td>\n",
       "    </tr>\n",
       "    <tr>\n",
       "      <th>176</th>\n",
       "      <td>177</td>\n",
       "      <td>Product A</td>\n",
       "      <td>Current</td>\n",
       "      <td>Won</td>\n",
       "      <td>6448.07</td>\n",
       "      <td>34</td>\n",
       "    </tr>\n",
       "    <tr>\n",
       "      <th>177</th>\n",
       "      <td>178</td>\n",
       "      <td>Product D</td>\n",
       "      <td>New</td>\n",
       "      <td>Lost</td>\n",
       "      <td>7320.05</td>\n",
       "      <td>72</td>\n",
       "    </tr>\n",
       "  </tbody>\n",
       "</table>\n",
       "<p>162 rows × 6 columns</p>\n",
       "</div>"
      ],
      "text/plain": [
       "     Unnamed: 0    product   client status   amount  num_users\n",
       "0             1  Product F  Current    Won  7389.52         19\n",
       "1             2  Product C      New    Won  4493.01         43\n",
       "2             3  Product B      New    Won  5738.09         87\n",
       "3             4  Product I  Current    Won  2591.24         83\n",
       "4             5  Product E  Current    Won  6622.97         17\n",
       "..          ...        ...      ...    ...      ...        ...\n",
       "173         174  Product A  Current   Lost  5835.32         23\n",
       "174         175  Product D  Current    Won  6377.50         12\n",
       "175         176  Product D  Current    Won  3537.61         28\n",
       "176         177  Product A  Current    Won  6448.07         34\n",
       "177         178  Product D      New   Lost  7320.05         72\n",
       "\n",
       "[162 rows x 6 columns]"
      ]
     },
     "execution_count": 64,
     "metadata": {},
     "output_type": "execute_result"
    }
   ],
   "source": [
    "deals_less_than_75K"
   ]
  },
  {
   "cell_type": "code",
   "execution_count": 65,
   "id": "40be2f68-9de3-4128-bfb5-9a3121e13bbe",
   "metadata": {},
   "outputs": [],
   "source": [
    "from scipy.stats import norm"
   ]
  },
  {
   "cell_type": "code",
   "execution_count": 66,
   "id": "d9755fc2-5e15-48ae-87cb-e9cde9d6c98a",
   "metadata": {},
   "outputs": [
    {
     "data": {
      "text/plain": [
       "0.8943502263331446"
      ]
     },
     "execution_count": 66,
     "metadata": {},
     "output_type": "execute_result"
    }
   ],
   "source": [
    "norm.cdf(7500, 5000,2000)"
   ]
  },
  {
   "cell_type": "code",
   "execution_count": 67,
   "id": "56c58712-c88c-47b2-b74e-71d47b6eed3d",
   "metadata": {},
   "outputs": [
    {
     "data": {
      "text/plain": [
       "6000.0"
      ]
     },
     "execution_count": 67,
     "metadata": {},
     "output_type": "execute_result"
    }
   ],
   "source": [
    "new_mean = 5000 * 1.2\n",
    "new_mean"
   ]
  },
  {
   "cell_type": "code",
   "execution_count": 68,
   "id": "5b85f91f-3364-4492-ac47-e869b017bb58",
   "metadata": {},
   "outputs": [
    {
     "data": {
      "text/plain": [
       "2600.0"
      ]
     },
     "execution_count": 68,
     "metadata": {},
     "output_type": "execute_result"
    }
   ],
   "source": [
    "new_sd = 2000 * 1.3\n",
    "new_sd"
   ]
  },
  {
   "cell_type": "code",
   "execution_count": 69,
   "id": "1e5bf550-8a59-4cbc-aa97-b1c358a8b5d1",
   "metadata": {},
   "outputs": [
    {
     "data": {
      "text/plain": [
       "array([ 7469.39694111,  5616.70732991,  5932.64612428,  6751.64492989,\n",
       "        4596.31441453,  7841.21605181,  8189.78431979,  6529.31007305,\n",
       "       12226.2295287 ,  8385.39323753,  5708.0915749 ,  5058.33083743,\n",
       "        5396.32613455,  4695.50486105,  8934.84139809,  4185.69392077,\n",
       "        5789.08232208,  4623.8301894 ,  8720.0754277 ,  2311.75432402,\n",
       "        5057.5021238 ,  5683.04520298,  6830.32669484,  7198.34754435,\n",
       "        5438.94627994,  8571.5883895 ,  6818.35982491, 12415.89274673,\n",
       "        2078.36413338,  7613.56172382,  3282.65540246,  3925.17707405,\n",
       "       11161.21993771, 10536.51678568,  1173.91775041,  5420.78838233])"
      ]
     },
     "execution_count": 69,
     "metadata": {},
     "output_type": "execute_result"
    }
   ],
   "source": [
    "new_sales = norm.rvs(loc = new_mean, scale = new_sd, size = 36)\n",
    "new_sales"
   ]
  },
  {
   "cell_type": "code",
   "execution_count": 70,
   "id": "abca8e2d-5879-4731-aae1-08c02fd405b4",
   "metadata": {},
   "outputs": [
    {
     "data": {
      "image/png": "[encoded data removed]",
      "text/plain": [
       "<Figure size 640x480 with 1 Axes>"
      ]
     },
     "metadata": {},
     "output_type": "display_data"
    }
   ],
   "source": [
    "plt.hist(new_sales)\n",
    "plt.show()"
   ]
  },
  {
   "cell_type": "code",
   "execution_count": 71,
   "id": "9d50288e-85b4-4783-b3e3-be28e89d44bc",
   "metadata": {},
   "outputs": [
    {
     "data": {
      "text/plain": [
       "0.9719101123595506"
      ]
     },
     "execution_count": 71,
     "metadata": {},
     "output_type": "execute_result"
    }
   ],
   "source": [
    "len(amir_deals[amir_deals['amount'] >1000])/len(amir_deals['amount'])"
   ]
  },
  {
   "cell_type": "code",
   "execution_count": 72,
   "id": "e90ef931-9e2f-46d3-b84d-36545349368b",
   "metadata": {},
   "outputs": [
    {
     "data": {
      "text/plain": [
       "232168.38393746642"
      ]
     },
     "execution_count": 72,
     "metadata": {},
     "output_type": "execute_result"
    }
   ],
   "source": [
    "sum(new_sales[new_sales >1000])"
   ]
  },
  {
   "cell_type": "code",
   "execution_count": 73,
   "id": "8f5f56ff-093b-4b56-9ab2-352819d79ae5",
   "metadata": {},
   "outputs": [
    {
     "data": {
      "text/plain": [
       "36"
      ]
     },
     "execution_count": 73,
     "metadata": {},
     "output_type": "execute_result"
    }
   ],
   "source": [
    "len(new_sales)"
   ]
  },
  {
   "cell_type": "code",
   "execution_count": 74,
   "id": "1047b6e0-bd32-4429-bb3e-31616b4689bb",
   "metadata": {},
   "outputs": [
    {
     "data": {
      "text/plain": [
       "36"
      ]
     },
     "execution_count": 74,
     "metadata": {},
     "output_type": "execute_result"
    }
   ],
   "source": [
    "len(new_sales[new_sales >1000])"
   ]
  },
  {
   "cell_type": "code",
   "execution_count": 75,
   "id": "6838299a-729a-4cfd-b52b-ec67e8f8fc73",
   "metadata": {},
   "outputs": [
    {
     "data": {
      "text/html": [
       "<div>\n",
       "<style scoped>\n",
       "    .dataframe tbody tr th:only-of-type {\n",
       "        vertical-align: middle;\n",
       "    }\n",
       "\n",
       "    .dataframe tbody tr th {\n",
       "        vertical-align: top;\n",
       "    }\n",
       "\n",
       "    .dataframe thead th {\n",
       "        text-align: right;\n",
       "    }\n",
       "</style>\n",
       "<table border=\"1\" class=\"dataframe\">\n",
       "  <thead>\n",
       "    <tr style=\"text-align: right;\">\n",
       "      <th></th>\n",
       "      <th>Unnamed: 0</th>\n",
       "      <th>product</th>\n",
       "      <th>client</th>\n",
       "      <th>status</th>\n",
       "      <th>amount</th>\n",
       "      <th>num_users</th>\n",
       "    </tr>\n",
       "  </thead>\n",
       "  <tbody>\n",
       "    <tr>\n",
       "      <th>0</th>\n",
       "      <td>1</td>\n",
       "      <td>Product F</td>\n",
       "      <td>Current</td>\n",
       "      <td>Won</td>\n",
       "      <td>7389.52</td>\n",
       "      <td>19</td>\n",
       "    </tr>\n",
       "    <tr>\n",
       "      <th>1</th>\n",
       "      <td>2</td>\n",
       "      <td>Product C</td>\n",
       "      <td>New</td>\n",
       "      <td>Won</td>\n",
       "      <td>4493.01</td>\n",
       "      <td>43</td>\n",
       "    </tr>\n",
       "    <tr>\n",
       "      <th>2</th>\n",
       "      <td>3</td>\n",
       "      <td>Product B</td>\n",
       "      <td>New</td>\n",
       "      <td>Won</td>\n",
       "      <td>5738.09</td>\n",
       "      <td>87</td>\n",
       "    </tr>\n",
       "    <tr>\n",
       "      <th>3</th>\n",
       "      <td>4</td>\n",
       "      <td>Product I</td>\n",
       "      <td>Current</td>\n",
       "      <td>Won</td>\n",
       "      <td>2591.24</td>\n",
       "      <td>83</td>\n",
       "    </tr>\n",
       "    <tr>\n",
       "      <th>4</th>\n",
       "      <td>5</td>\n",
       "      <td>Product E</td>\n",
       "      <td>Current</td>\n",
       "      <td>Won</td>\n",
       "      <td>6622.97</td>\n",
       "      <td>17</td>\n",
       "    </tr>\n",
       "    <tr>\n",
       "      <th>...</th>\n",
       "      <td>...</td>\n",
       "      <td>...</td>\n",
       "      <td>...</td>\n",
       "      <td>...</td>\n",
       "      <td>...</td>\n",
       "      <td>...</td>\n",
       "    </tr>\n",
       "    <tr>\n",
       "      <th>173</th>\n",
       "      <td>174</td>\n",
       "      <td>Product A</td>\n",
       "      <td>Current</td>\n",
       "      <td>Lost</td>\n",
       "      <td>5835.32</td>\n",
       "      <td>23</td>\n",
       "    </tr>\n",
       "    <tr>\n",
       "      <th>174</th>\n",
       "      <td>175</td>\n",
       "      <td>Product D</td>\n",
       "      <td>Current</td>\n",
       "      <td>Won</td>\n",
       "      <td>6377.50</td>\n",
       "      <td>12</td>\n",
       "    </tr>\n",
       "    <tr>\n",
       "      <th>175</th>\n",
       "      <td>176</td>\n",
       "      <td>Product D</td>\n",
       "      <td>Current</td>\n",
       "      <td>Won</td>\n",
       "      <td>3537.61</td>\n",
       "      <td>28</td>\n",
       "    </tr>\n",
       "    <tr>\n",
       "      <th>176</th>\n",
       "      <td>177</td>\n",
       "      <td>Product A</td>\n",
       "      <td>Current</td>\n",
       "      <td>Won</td>\n",
       "      <td>6448.07</td>\n",
       "      <td>34</td>\n",
       "    </tr>\n",
       "    <tr>\n",
       "      <th>177</th>\n",
       "      <td>178</td>\n",
       "      <td>Product D</td>\n",
       "      <td>New</td>\n",
       "      <td>Lost</td>\n",
       "      <td>7320.05</td>\n",
       "      <td>72</td>\n",
       "    </tr>\n",
       "  </tbody>\n",
       "</table>\n",
       "<p>178 rows × 6 columns</p>\n",
       "</div>"
      ],
      "text/plain": [
       "     Unnamed: 0    product   client status   amount  num_users\n",
       "0             1  Product F  Current    Won  7389.52         19\n",
       "1             2  Product C      New    Won  4493.01         43\n",
       "2             3  Product B      New    Won  5738.09         87\n",
       "3             4  Product I  Current    Won  2591.24         83\n",
       "4             5  Product E  Current    Won  6622.97         17\n",
       "..          ...        ...      ...    ...      ...        ...\n",
       "173         174  Product A  Current   Lost  5835.32         23\n",
       "174         175  Product D  Current    Won  6377.50         12\n",
       "175         176  Product D  Current    Won  3537.61         28\n",
       "176         177  Product A  Current    Won  6448.07         34\n",
       "177         178  Product D      New   Lost  7320.05         72\n",
       "\n",
       "[178 rows x 6 columns]"
      ]
     },
     "execution_count": 75,
     "metadata": {},
     "output_type": "execute_result"
    }
   ],
   "source": [
    "amir_deals"
   ]
  },
  {
   "cell_type": "code",
   "execution_count": 77,
   "id": "9378013a-39e5-460b-b481-9b8d89c82123",
   "metadata": {},
   "outputs": [
    {
     "data": {
      "image/png": "[encoded data removed]",
      "text/plain": [
       "<Figure size 640x480 with 1 Axes>"
      ]
     },
     "metadata": {},
     "output_type": "display_data"
    }
   ],
   "source": [
    "amir_deals['num_users'].hist()\n",
    "plt.show()"
   ]
  },
  {
   "cell_type": "code",
   "execution_count": 78,
   "id": "252ded4a-bf4e-45d2-990d-19a96eb0e80a",
   "metadata": {},
   "outputs": [],
   "source": [
    "np.random.seed(104)\n",
    "sample_20 = amir_deals['num_users'].sample(20, replace = True)"
   ]
  },
  {
   "cell_type": "code",
   "execution_count": 79,
   "id": "e144f8cd-2994-4dde-ad4b-79df5b009595",
   "metadata": {},
   "outputs": [
    {
     "data": {
      "text/plain": [
       "32.0"
      ]
     },
     "execution_count": 79,
     "metadata": {},
     "output_type": "execute_result"
    }
   ],
   "source": [
    "np.mean(sample_20)"
   ]
  },
  {
   "cell_type": "code",
   "execution_count": 80,
   "id": "5fa6dfcb-c4f6-4cd4-acdf-92c34be58bd4",
   "metadata": {},
   "outputs": [
    {
     "name": "stdout",
     "output_type": "stream",
     "text": [
      "[31.35, 45.05, 33.55, 38.15, 50.85, 31.85, 34.65, 36.25, 38.9, 44.05, 35.45, 37.6, 37.95, 28.85, 33.3, 31.65, 45.5, 43.2, 24.4, 41.05, 37.2, 39.3, 29.45, 33.55, 45.3, 45.1, 30.95, 36.25, 37.65, 42.55, 34.55, 41.1, 36.9, 42.45, 38.45, 45.9, 42.7, 38.4, 32.55, 30.25, 38.0, 38.75, 49.3, 39.55, 49.05, 42.05, 41.0, 40.6, 58.25, 34.55, 51.2, 34.15, 36.95, 42.45, 41.85, 33.2, 36.15, 37.55, 34.2, 29.75, 42.35, 43.75, 29.0, 32.05, 31.65, 44.6, 30.85, 29.6, 37.7, 33.1, 36.35, 40.65, 45.7, 33.8, 40.1, 39.9, 33.5, 32.65, 32.85, 42.85, 35.4, 31.7, 32.0, 33.85, 36.6, 44.35, 39.9, 37.0, 37.3, 42.5, 38.35, 42.8, 44.55, 30.3, 50.45, 42.35, 40.65, 29.85, 39.3, 33.1]\n"
     ]
    }
   ],
   "source": [
    "sample_mean = []\n",
    "for i in range(100):\n",
    "    samp_20 = amir_deals['num_users'].sample(20, replace = True)\n",
    "    samp_20_mean = np.mean(samp_20)\n",
    "    sample_mean.append(samp_20_mean)\n",
    "print(sample_mean)\n"
   ]
  },
  {
   "cell_type": "code",
   "execution_count": 82,
   "id": "b17ca640-bce2-4d39-b24e-bfa3209e2497",
   "metadata": {},
   "outputs": [
    {
     "data": {
      "text/plain": [
       "0.1562934518505317"
      ]
     },
     "execution_count": 82,
     "metadata": {},
     "output_type": "execute_result"
    }
   ],
   "source": [
    "from scipy.stats import poisson\n",
    "poisson.pmf(5, 4)"
   ]
  },
  {
   "cell_type": "code",
   "execution_count": 83,
   "id": "386b35fa-664c-4f3a-9ffc-99244b697b14",
   "metadata": {},
   "outputs": [
    {
     "data": {
      "text/plain": [
       "0.23810330555354436"
      ]
     },
     "execution_count": 83,
     "metadata": {},
     "output_type": "execute_result"
    }
   ],
   "source": [
    "poisson.cdf(2, 4)"
   ]
  },
  {
   "cell_type": "code",
   "execution_count": 84,
   "id": "f0178a15-98ee-403b-a04b-eca529690f86",
   "metadata": {},
   "outputs": [
    {
     "data": {
      "text/plain": [
       "0.00813224279693392"
      ]
     },
     "execution_count": 84,
     "metadata": {},
     "output_type": "execute_result"
    }
   ],
   "source": [
    "1 - poisson.cdf(9, 4)"
   ]
  },
  {
   "cell_type": "code",
   "execution_count": 87,
   "id": "572dc5da-e4a3-4c57-8239-a02be0d2cd86",
   "metadata": {},
   "outputs": [
    {
     "data": {
      "text/plain": [
       "0.3296799539643607"
      ]
     },
     "execution_count": 87,
     "metadata": {},
     "output_type": "execute_result"
    }
   ],
   "source": [
    "from scipy.stats import expon\n",
    "expon.cdf(1, scale = 2.5)"
   ]
  },
  {
   "cell_type": "code",
   "execution_count": 88,
   "id": "2f548845-4747-41fd-a289-2572809ab2b8",
   "metadata": {},
   "outputs": [
    {
     "data": {
      "text/plain": [
       "0.20189651799465536"
      ]
     },
     "execution_count": 88,
     "metadata": {},
     "output_type": "execute_result"
    }
   ],
   "source": [
    "1 - expon.cdf(4, scale = 2.5)"
   ]
  },
  {
   "cell_type": "code",
   "execution_count": 89,
   "id": "af7254f5-cfef-477e-b38c-80eecf88615b",
   "metadata": {},
   "outputs": [
    {
     "data": {
      "text/plain": [
       "0.09929769391754684"
      ]
     },
     "execution_count": 89,
     "metadata": {},
     "output_type": "execute_result"
    }
   ],
   "source": [
    "expon.cdf(4, scale = 2.5) - expon.cdf(3, scale = 2.5)"
   ]
  },
  {
   "cell_type": "code",
   "execution_count": 91,
   "id": "71ff80c0-f657-499c-9160-1a4a8c79e6be",
   "metadata": {},
   "outputs": [],
   "source": [
    "import seaborn as sns"
   ]
  },
  {
   "cell_type": "code",
   "execution_count": 93,
   "id": "83d7537f-fbb2-453c-91df-8e33199e9c01",
   "metadata": {},
   "outputs": [
    {
     "data": {
      "text/html": [
       "<div>\n",
       "<style scoped>\n",
       "    .dataframe tbody tr th:only-of-type {\n",
       "        vertical-align: middle;\n",
       "    }\n",
       "\n",
       "    .dataframe tbody tr th {\n",
       "        vertical-align: top;\n",
       "    }\n",
       "\n",
       "    .dataframe thead th {\n",
       "        text-align: right;\n",
       "    }\n",
       "</style>\n",
       "<table border=\"1\" class=\"dataframe\">\n",
       "  <thead>\n",
       "    <tr style=\"text-align: right;\">\n",
       "      <th></th>\n",
       "      <th>Unnamed: 0</th>\n",
       "      <th>country</th>\n",
       "      <th>social_support</th>\n",
       "      <th>freedom</th>\n",
       "      <th>corruption</th>\n",
       "      <th>generosity</th>\n",
       "      <th>gdp_per_cap</th>\n",
       "      <th>life_exp</th>\n",
       "      <th>happiness_score</th>\n",
       "    </tr>\n",
       "  </thead>\n",
       "  <tbody>\n",
       "    <tr>\n",
       "      <th>0</th>\n",
       "      <td>1</td>\n",
       "      <td>Finland</td>\n",
       "      <td>2.0</td>\n",
       "      <td>5.0</td>\n",
       "      <td>4.0</td>\n",
       "      <td>47.0</td>\n",
       "      <td>42400</td>\n",
       "      <td>81.8</td>\n",
       "      <td>155</td>\n",
       "    </tr>\n",
       "    <tr>\n",
       "      <th>1</th>\n",
       "      <td>2</td>\n",
       "      <td>Denmark</td>\n",
       "      <td>4.0</td>\n",
       "      <td>6.0</td>\n",
       "      <td>3.0</td>\n",
       "      <td>22.0</td>\n",
       "      <td>48300</td>\n",
       "      <td>81.0</td>\n",
       "      <td>154</td>\n",
       "    </tr>\n",
       "    <tr>\n",
       "      <th>2</th>\n",
       "      <td>3</td>\n",
       "      <td>Norway</td>\n",
       "      <td>3.0</td>\n",
       "      <td>3.0</td>\n",
       "      <td>8.0</td>\n",
       "      <td>11.0</td>\n",
       "      <td>66300</td>\n",
       "      <td>82.6</td>\n",
       "      <td>153</td>\n",
       "    </tr>\n",
       "    <tr>\n",
       "      <th>3</th>\n",
       "      <td>4</td>\n",
       "      <td>Iceland</td>\n",
       "      <td>1.0</td>\n",
       "      <td>7.0</td>\n",
       "      <td>45.0</td>\n",
       "      <td>3.0</td>\n",
       "      <td>47900</td>\n",
       "      <td>83.0</td>\n",
       "      <td>152</td>\n",
       "    </tr>\n",
       "    <tr>\n",
       "      <th>4</th>\n",
       "      <td>5</td>\n",
       "      <td>Netherlands</td>\n",
       "      <td>15.0</td>\n",
       "      <td>19.0</td>\n",
       "      <td>12.0</td>\n",
       "      <td>7.0</td>\n",
       "      <td>50500</td>\n",
       "      <td>81.8</td>\n",
       "      <td>151</td>\n",
       "    </tr>\n",
       "    <tr>\n",
       "      <th>...</th>\n",
       "      <td>...</td>\n",
       "      <td>...</td>\n",
       "      <td>...</td>\n",
       "      <td>...</td>\n",
       "      <td>...</td>\n",
       "      <td>...</td>\n",
       "      <td>...</td>\n",
       "      <td>...</td>\n",
       "      <td>...</td>\n",
       "    </tr>\n",
       "    <tr>\n",
       "      <th>138</th>\n",
       "      <td>139</td>\n",
       "      <td>Rwanda</td>\n",
       "      <td>144.0</td>\n",
       "      <td>21.0</td>\n",
       "      <td>2.0</td>\n",
       "      <td>90.0</td>\n",
       "      <td>2110</td>\n",
       "      <td>69.1</td>\n",
       "      <td>4</td>\n",
       "    </tr>\n",
       "    <tr>\n",
       "      <th>139</th>\n",
       "      <td>140</td>\n",
       "      <td>Tanzania</td>\n",
       "      <td>131.0</td>\n",
       "      <td>78.0</td>\n",
       "      <td>34.0</td>\n",
       "      <td>49.0</td>\n",
       "      <td>2980</td>\n",
       "      <td>67.7</td>\n",
       "      <td>3</td>\n",
       "    </tr>\n",
       "    <tr>\n",
       "      <th>140</th>\n",
       "      <td>141</td>\n",
       "      <td>Afghanistan</td>\n",
       "      <td>151.0</td>\n",
       "      <td>155.0</td>\n",
       "      <td>136.0</td>\n",
       "      <td>137.0</td>\n",
       "      <td>1760</td>\n",
       "      <td>64.1</td>\n",
       "      <td>2</td>\n",
       "    </tr>\n",
       "    <tr>\n",
       "      <th>141</th>\n",
       "      <td>142</td>\n",
       "      <td>Central African Republic</td>\n",
       "      <td>155.0</td>\n",
       "      <td>133.0</td>\n",
       "      <td>122.0</td>\n",
       "      <td>113.0</td>\n",
       "      <td>794</td>\n",
       "      <td>52.9</td>\n",
       "      <td>1</td>\n",
       "    </tr>\n",
       "    <tr>\n",
       "      <th>142</th>\n",
       "      <td>143</td>\n",
       "      <td>South Sudan</td>\n",
       "      <td>148.0</td>\n",
       "      <td>154.0</td>\n",
       "      <td>61.0</td>\n",
       "      <td>85.0</td>\n",
       "      <td>1860</td>\n",
       "      <td>59.7</td>\n",
       "      <td>0</td>\n",
       "    </tr>\n",
       "  </tbody>\n",
       "</table>\n",
       "<p>143 rows × 9 columns</p>\n",
       "</div>"
      ],
      "text/plain": [
       "     Unnamed: 0                   country  social_support  freedom  \\\n",
       "0             1                   Finland             2.0      5.0   \n",
       "1             2                   Denmark             4.0      6.0   \n",
       "2             3                    Norway             3.0      3.0   \n",
       "3             4                   Iceland             1.0      7.0   \n",
       "4             5               Netherlands            15.0     19.0   \n",
       "..          ...                       ...             ...      ...   \n",
       "138         139                    Rwanda           144.0     21.0   \n",
       "139         140                  Tanzania           131.0     78.0   \n",
       "140         141               Afghanistan           151.0    155.0   \n",
       "141         142  Central African Republic           155.0    133.0   \n",
       "142         143               South Sudan           148.0    154.0   \n",
       "\n",
       "     corruption  generosity  gdp_per_cap  life_exp  happiness_score  \n",
       "0           4.0        47.0        42400      81.8              155  \n",
       "1           3.0        22.0        48300      81.0              154  \n",
       "2           8.0        11.0        66300      82.6              153  \n",
       "3          45.0         3.0        47900      83.0              152  \n",
       "4          12.0         7.0        50500      81.8              151  \n",
       "..          ...         ...          ...       ...              ...  \n",
       "138         2.0        90.0         2110      69.1                4  \n",
       "139        34.0        49.0         2980      67.7                3  \n",
       "140       136.0       137.0         1760      64.1                2  \n",
       "141       122.0       113.0          794      52.9                1  \n",
       "142        61.0        85.0         1860      59.7                0  \n",
       "\n",
       "[143 rows x 9 columns]"
      ]
     },
     "execution_count": 93,
     "metadata": {},
     "output_type": "execute_result"
    }
   ],
   "source": [
    "world_happiness"
   ]
  },
  {
   "cell_type": "code",
   "execution_count": 95,
   "id": "acc77457-324e-4b61-a080-0626a5063fd8",
   "metadata": {},
   "outputs": [
    {
     "data": {
      "image/png": "[encoded data removed]",
      "text/plain": [
       "<Figure size 640x480 with 1 Axes>"
      ]
     },
     "metadata": {},
     "output_type": "display_data"
    }
   ],
   "source": [
    "sns.scatterplot(y =\"happiness_score\", x=\"life_exp\", data = world_happiness)\n",
    "plt.show()"
   ]
  },
  {
   "cell_type": "code",
   "execution_count": 96,
   "id": "f8055dd9-82ed-4562-955b-08ae5e1ab9c4",
   "metadata": {},
   "outputs": [
    {
     "data": {
      "image/png": "[encoded data removed]",
      "text/plain": [
       "<Figure size 500x500 with 1 Axes>"
      ]
     },
     "metadata": {},
     "output_type": "display_data"
    }
   ],
   "source": [
    "sns.lmplot(y =\"happiness_score\", x=\"life_exp\", data = world_happiness, ci = None)\n",
    "plt.show()"
   ]
  },
  {
   "cell_type": "code",
   "execution_count": 99,
   "id": "57812cd7-8cb1-4c11-b9ba-83133df55c17",
   "metadata": {},
   "outputs": [
    {
     "data": {
      "text/plain": [
       "0.7802249053272062"
      ]
     },
     "execution_count": 99,
     "metadata": {},
     "output_type": "execute_result"
    }
   ],
   "source": [
    "world_happiness['life_exp'].corr(world_happiness['happiness_score'])"
   ]
  },
  {
   "cell_type": "code",
   "execution_count": 103,
   "id": "0fd67361-2a0d-48ae-9b3c-f0569fc3dc42",
   "metadata": {},
   "outputs": [
    {
     "data": {
      "image/png": "[encoded data removed]",
      "text/plain": [
       "<Figure size 640x480 with 1 Axes>"
      ]
     },
     "metadata": {},
     "output_type": "display_data"
    }
   ],
   "source": [
    "sns.scatterplot(x = \"gdp_per_cap\", y = \"life_exp\", data = world_happiness)\n",
    "plt.show()"
   ]
  },
  {
   "cell_type": "code",
   "execution_count": 106,
   "id": "ca0251a7-3fc7-4af2-8fd9-2fab6b0a2279",
   "metadata": {},
   "outputs": [
    {
     "data": {
      "text/plain": [
       "0.7019547642148012"
      ]
     },
     "execution_count": 106,
     "metadata": {},
     "output_type": "execute_result"
    }
   ],
   "source": [
    "world_happiness['gdp_per_cap'].corr(world_happiness['life_exp'])"
   ]
  },
  {
   "cell_type": "code",
   "execution_count": 107,
   "id": "38affe02-5f90-4fdd-9787-d86428abad0d",
   "metadata": {},
   "outputs": [
    {
     "data": {
      "text/plain": [
       "<Axes: xlabel='gdp_per_cap', ylabel='happiness_score'>"
      ]
     },
     "execution_count": 107,
     "metadata": {},
     "output_type": "execute_result"
    },
    {
     "data": {
      "image/png": "[encoded data removed]",
      "text/plain": [
       "<Figure size 640x480 with 1 Axes>"
      ]
     },
     "metadata": {},
     "output_type": "display_data"
    }
   ],
   "source": [
    "sns.scatterplot(x = \"gdp_per_cap\", y = \"happiness_score\", data = world_happiness)\n"
   ]
  },
  {
   "cell_type": "code",
   "execution_count": 108,
   "id": "b56c3a35-84dd-4652-ae80-140926c23680",
   "metadata": {},
   "outputs": [
    {
     "data": {
      "text/plain": [
       "0.727973301222298"
      ]
     },
     "execution_count": 108,
     "metadata": {},
     "output_type": "execute_result"
    }
   ],
   "source": [
    "world_happiness['gdp_per_cap'].corr(world_happiness['happiness_score'])"
   ]
  },
  {
   "cell_type": "code",
   "execution_count": 110,
   "id": "e544a446-3df6-4550-b822-dc00a5a16627",
   "metadata": {},
   "outputs": [],
   "source": [
    "world_happiness['log_gdp_per_cap'] = np.log(world_happiness['gdp_per_cap'])"
   ]
  },
  {
   "cell_type": "code",
   "execution_count": 111,
   "id": "f1f6a970-d556-4239-a015-1c0ef2a97d4f",
   "metadata": {},
   "outputs": [
    {
     "data": {
      "text/plain": [
       "<Axes: xlabel='log_gdp_per_cap', ylabel='happiness_score'>"
      ]
     },
     "execution_count": 111,
     "metadata": {},
     "output_type": "execute_result"
    },
    {
     "data": {
      "image/png": "[encoded data removed]",
      "text/plain": [
       "<Figure size 640x480 with 1 Axes>"
      ]
     },
     "metadata": {},
     "output_type": "display_data"
    }
   ],
   "source": [
    "sns.scatterplot(x = \"log_gdp_per_cap\", y = \"happiness_score\", data = world_happiness)\n"
   ]
  },
  {
   "cell_type": "code",
   "execution_count": 112,
   "id": "4e4eab9d-3d07-42ff-9b81-93888438b6d3",
   "metadata": {},
   "outputs": [
    {
     "data": {
      "text/plain": [
       "0.8043146004918288"
      ]
     },
     "execution_count": 112,
     "metadata": {},
     "output_type": "execute_result"
    }
   ],
   "source": [
    "world_happiness['log_gdp_per_cap'].corr(world_happiness['happiness_score'])"
   ]
  },
  {
   "cell_type": "code",
   "execution_count": null,
   "id": "e2bf6d53-d521-4c93-ae28-da47336a30a5",
   "metadata": {},
   "outputs": [],
   "source": []
  }
 ],
 "metadata": {
  "kernelspec": {
   "display_name": "Python 3 (ipykernel)",
   "language": "python",
   "name": "python3"
  },
  "language_info": {
   "codemirror_mode": {
    "name": "ipython",
    "version": 3
   },
   "file_extension": ".py",
   "mimetype": "text/x-python",
   "name": "python",
   "nbconvert_exporter": "python",
   "pygments_lexer": "ipython3",
   "version": "3.12.7"
  }
 },
 "nbformat": 4,
 "nbformat_minor": 5
}
