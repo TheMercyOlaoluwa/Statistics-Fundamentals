{
 "cells": [
  {
   "cell_type": "code",
   "execution_count": 1,
   "id": "05899b0e-310f-48e7-8fb9-5bd3f417423f",
   "metadata": {},
   "outputs": [],
   "source": [
    "import seaborn as sns\n",
    "import numpy as np"
   ]
  },
  {
   "cell_type": "code",
   "execution_count": 2,
   "id": "6cae431c-8624-4737-bc8b-2216e07f3d3d",
   "metadata": {},
   "outputs": [],
   "source": [
    "import matplotlib.pyplot as plt\n",
    "import pandas as pd"
   ]
  },
  {
   "cell_type": "code",
   "execution_count": 3,
   "id": "a4ac9623-aedf-4f45-9714-88d1539ca84d",
   "metadata": {},
   "outputs": [
    {
     "data": {
      "text/html": [
       "<div>\n",
       "<style scoped>\n",
       "    .dataframe tbody tr th:only-of-type {\n",
       "        vertical-align: middle;\n",
       "    }\n",
       "\n",
       "    .dataframe tbody tr th {\n",
       "        vertical-align: top;\n",
       "    }\n",
       "\n",
       "    .dataframe thead th {\n",
       "        text-align: right;\n",
       "    }\n",
       "</style>\n",
       "<table border=\"1\" class=\"dataframe\">\n",
       "  <thead>\n",
       "    <tr style=\"text-align: right;\">\n",
       "      <th></th>\n",
       "      <th>dist_to_mrt_m</th>\n",
       "      <th>n_convenience</th>\n",
       "      <th>house_age_years</th>\n",
       "      <th>price_twd_msq</th>\n",
       "    </tr>\n",
       "  </thead>\n",
       "  <tbody>\n",
       "    <tr>\n",
       "      <th>0</th>\n",
       "      <td>84.87882</td>\n",
       "      <td>10</td>\n",
       "      <td>30 to 45</td>\n",
       "      <td>11.467474</td>\n",
       "    </tr>\n",
       "    <tr>\n",
       "      <th>1</th>\n",
       "      <td>306.59470</td>\n",
       "      <td>9</td>\n",
       "      <td>15 to 30</td>\n",
       "      <td>12.768533</td>\n",
       "    </tr>\n",
       "    <tr>\n",
       "      <th>2</th>\n",
       "      <td>561.98450</td>\n",
       "      <td>5</td>\n",
       "      <td>0 to 15</td>\n",
       "      <td>14.311649</td>\n",
       "    </tr>\n",
       "    <tr>\n",
       "      <th>3</th>\n",
       "      <td>561.98450</td>\n",
       "      <td>5</td>\n",
       "      <td>0 to 15</td>\n",
       "      <td>16.580938</td>\n",
       "    </tr>\n",
       "    <tr>\n",
       "      <th>4</th>\n",
       "      <td>390.56840</td>\n",
       "      <td>5</td>\n",
       "      <td>0 to 15</td>\n",
       "      <td>13.040847</td>\n",
       "    </tr>\n",
       "    <tr>\n",
       "      <th>...</th>\n",
       "      <td>...</td>\n",
       "      <td>...</td>\n",
       "      <td>...</td>\n",
       "      <td>...</td>\n",
       "    </tr>\n",
       "    <tr>\n",
       "      <th>409</th>\n",
       "      <td>4082.01500</td>\n",
       "      <td>0</td>\n",
       "      <td>0 to 15</td>\n",
       "      <td>4.659607</td>\n",
       "    </tr>\n",
       "    <tr>\n",
       "      <th>410</th>\n",
       "      <td>90.45606</td>\n",
       "      <td>9</td>\n",
       "      <td>0 to 15</td>\n",
       "      <td>15.128593</td>\n",
       "    </tr>\n",
       "    <tr>\n",
       "      <th>411</th>\n",
       "      <td>390.96960</td>\n",
       "      <td>7</td>\n",
       "      <td>15 to 30</td>\n",
       "      <td>12.284418</td>\n",
       "    </tr>\n",
       "    <tr>\n",
       "      <th>412</th>\n",
       "      <td>104.81010</td>\n",
       "      <td>5</td>\n",
       "      <td>0 to 15</td>\n",
       "      <td>15.885023</td>\n",
       "    </tr>\n",
       "    <tr>\n",
       "      <th>413</th>\n",
       "      <td>90.45606</td>\n",
       "      <td>9</td>\n",
       "      <td>0 to 15</td>\n",
       "      <td>19.334342</td>\n",
       "    </tr>\n",
       "  </tbody>\n",
       "</table>\n",
       "<p>414 rows × 4 columns</p>\n",
       "</div>"
      ],
      "text/plain": [
       "     dist_to_mrt_m  n_convenience house_age_years  price_twd_msq\n",
       "0         84.87882             10        30 to 45      11.467474\n",
       "1        306.59470              9        15 to 30      12.768533\n",
       "2        561.98450              5         0 to 15      14.311649\n",
       "3        561.98450              5         0 to 15      16.580938\n",
       "4        390.56840              5         0 to 15      13.040847\n",
       "..             ...            ...             ...            ...\n",
       "409     4082.01500              0         0 to 15       4.659607\n",
       "410       90.45606              9         0 to 15      15.128593\n",
       "411      390.96960              7        15 to 30      12.284418\n",
       "412      104.81010              5         0 to 15      15.885023\n",
       "413       90.45606              9         0 to 15      19.334342\n",
       "\n",
       "[414 rows x 4 columns]"
      ]
     },
     "execution_count": 3,
     "metadata": {},
     "output_type": "execute_result"
    }
   ],
   "source": [
    "taiwan_real_estate = pd.read_csv(r\"C:\\Users\\PC\\Desktop\\Oluwatobi\\Python\\Statistics in Python\\taiwan_real_estate2.csv\")\n",
    "taiwan_real_estate"
   ]
  },
  {
   "cell_type": "code",
   "execution_count": 4,
   "id": "2eb5122d-07aa-48a5-a15c-719a5db0154d",
   "metadata": {},
   "outputs": [
    {
     "data": {
      "text/plain": [
       "<Axes: xlabel='n_convenience', ylabel='price_twd_msq'>"
      ]
     },
     "execution_count": 4,
     "metadata": {},
     "output_type": "execute_result"
    },
    {
     "data": {
      "image/png": "[encoded data removed]",
      "text/plain": [
       "<Figure size 640x480 with 1 Axes>"
      ]
     },
     "metadata": {},
     "output_type": "display_data"
    }
   ],
   "source": [
    "sns.scatterplot(y = 'price_twd_msq',\n",
    "                x = 'n_convenience',\n",
    "                data = taiwan_real_estate\n",
    "               )"
   ]
  },
  {
   "cell_type": "code",
   "execution_count": 5,
   "id": "b98f40c0-bb34-4c3b-84be-019c7c3900dc",
   "metadata": {},
   "outputs": [
    {
     "data": {
      "text/plain": [
       "<Axes: xlabel='n_convenience', ylabel='price_twd_msq'>"
      ]
     },
     "execution_count": 5,
     "metadata": {},
     "output_type": "execute_result"
    },
    {
     "data": {
      "image/png": "[encoded data removed]",
      "text/plain": [
       "<Figure size 640x480 with 1 Axes>"
      ]
     },
     "metadata": {},
     "output_type": "display_data"
    }
   ],
   "source": [
    "sns.regplot(x=\"n_convenience\",\n",
    "         y=\"price_twd_msq\",\n",
    "         data=taiwan_real_estate,\n",
    "         ci=None,\n",
    "         scatter_kws={'alpha': 0.5})"
   ]
  },
  {
   "cell_type": "code",
   "execution_count": 6,
   "id": "6d31b669-2b19-4fe3-bd4a-c9403144f4fb",
   "metadata": {},
   "outputs": [],
   "source": [
    "from statsmodels.formula.api import ols"
   ]
  },
  {
   "cell_type": "code",
   "execution_count": 7,
   "id": "5ef47e25-7dd3-4680-a1e6-cb14a55c10db",
   "metadata": {},
   "outputs": [],
   "source": [
    "mdl_price_vs_conv = ols(\"price_twd_msq ~ n_convenience\", data = taiwan_real_estate).fit()"
   ]
  },
  {
   "cell_type": "code",
   "execution_count": 8,
   "id": "d00219f0-a07f-459b-b85d-31b847824d02",
   "metadata": {},
   "outputs": [
    {
     "data": {
      "text/plain": [
       "Intercept        8.224237\n",
       "n_convenience    0.798080\n",
       "dtype: float64"
      ]
     },
     "execution_count": 8,
     "metadata": {},
     "output_type": "execute_result"
    }
   ],
   "source": [
    "mdl_price_vs_conv.params"
   ]
  },
  {
   "cell_type": "code",
   "execution_count": 9,
   "id": "962ffcb4-fdcf-4ee7-a39e-1d2d639141ef",
   "metadata": {},
   "outputs": [
    {
     "data": {
      "text/plain": [
       "<seaborn.axisgrid.FacetGrid at 0x18afe240350>"
      ]
     },
     "execution_count": 9,
     "metadata": {},
     "output_type": "execute_result"
    },
    {
     "data": {
      "image/png": "[encoded data removed]",
      "text/plain": [
       "<Figure size 1500x500 with 3 Axes>"
      ]
     },
     "metadata": {},
     "output_type": "display_data"
    }
   ],
   "source": [
    "sns.displot(data = taiwan_real_estate,\n",
    "            x = \"price_twd_msq\",\n",
    "            col = \"house_age_years\",\n",
    "            col_wrap = 3,\n",
    "            bins = 10)"
   ]
  },
  {
   "cell_type": "code",
   "execution_count": 10,
   "id": "b1d178d6-bbd7-436e-a397-e232f04f273d",
   "metadata": {},
   "outputs": [
    {
     "data": {
      "text/plain": [
       "house_age_years\n",
       "0 to 15     12.637471\n",
       "15 to 30     9.876743\n",
       "30 to 45    11.393264\n",
       "Name: price_twd_msq, dtype: float64"
      ]
     },
     "execution_count": 10,
     "metadata": {},
     "output_type": "execute_result"
    }
   ],
   "source": [
    "taiwan_real_estate.groupby(\"house_age_years\")[\"price_twd_msq\"].mean()"
   ]
  },
  {
   "cell_type": "code",
   "execution_count": 11,
   "id": "1933a940-fadb-4e89-aace-7f095127080f",
   "metadata": {},
   "outputs": [
    {
     "data": {
      "text/plain": [
       "<statsmodels.regression.linear_model.RegressionResultsWrapper at 0x18afe902840>"
      ]
     },
     "execution_count": 11,
     "metadata": {},
     "output_type": "execute_result"
    }
   ],
   "source": [
    "ols(\"price_twd_msq~house_age_years\", data = taiwan_real_estate).fit()"
   ]
  },
  {
   "cell_type": "code",
   "execution_count": 12,
   "id": "2a0e0bf6-c2ff-444d-857b-ab5ca0cfdfe9",
   "metadata": {},
   "outputs": [
    {
     "data": {
      "text/plain": [
       "Intercept                      12.637471\n",
       "house_age_years[T.15 to 30]    -2.760728\n",
       "house_age_years[T.30 to 45]    -1.244207\n",
       "dtype: float64"
      ]
     },
     "execution_count": 12,
     "metadata": {},
     "output_type": "execute_result"
    }
   ],
   "source": [
    "\n",
    "ols(\"price_twd_msq~house_age_years\", data = taiwan_real_estate).fit().params"
   ]
  },
  {
   "cell_type": "code",
   "execution_count": 13,
   "id": "187886ac-8f0f-4730-afa4-8bbf0cf5267a",
   "metadata": {},
   "outputs": [
    {
     "data": {
      "text/plain": [
       "house_age_years[0 to 15]     12.637471\n",
       "house_age_years[15 to 30]     9.876743\n",
       "house_age_years[30 to 45]    11.393264\n",
       "dtype: float64"
      ]
     },
     "execution_count": 13,
     "metadata": {},
     "output_type": "execute_result"
    }
   ],
   "source": [
    "ols(\"price_twd_msq~house_age_years + 0\", data = taiwan_real_estate).fit().params"
   ]
  },
  {
   "cell_type": "code",
   "execution_count": 14,
   "id": "059097fb-d114-4301-8737-a348d18b0672",
   "metadata": {},
   "outputs": [
    {
     "data": {
      "text/html": [
       "<div>\n",
       "<style scoped>\n",
       "    .dataframe tbody tr th:only-of-type {\n",
       "        vertical-align: middle;\n",
       "    }\n",
       "\n",
       "    .dataframe tbody tr th {\n",
       "        vertical-align: top;\n",
       "    }\n",
       "\n",
       "    .dataframe thead th {\n",
       "        text-align: right;\n",
       "    }\n",
       "</style>\n",
       "<table border=\"1\" class=\"dataframe\">\n",
       "  <thead>\n",
       "    <tr style=\"text-align: right;\">\n",
       "      <th></th>\n",
       "      <th>n_convenience</th>\n",
       "    </tr>\n",
       "  </thead>\n",
       "  <tbody>\n",
       "    <tr>\n",
       "      <th>0</th>\n",
       "      <td>0</td>\n",
       "    </tr>\n",
       "    <tr>\n",
       "      <th>1</th>\n",
       "      <td>1</td>\n",
       "    </tr>\n",
       "    <tr>\n",
       "      <th>2</th>\n",
       "      <td>2</td>\n",
       "    </tr>\n",
       "    <tr>\n",
       "      <th>3</th>\n",
       "      <td>3</td>\n",
       "    </tr>\n",
       "    <tr>\n",
       "      <th>4</th>\n",
       "      <td>4</td>\n",
       "    </tr>\n",
       "    <tr>\n",
       "      <th>5</th>\n",
       "      <td>5</td>\n",
       "    </tr>\n",
       "    <tr>\n",
       "      <th>6</th>\n",
       "      <td>6</td>\n",
       "    </tr>\n",
       "    <tr>\n",
       "      <th>7</th>\n",
       "      <td>7</td>\n",
       "    </tr>\n",
       "    <tr>\n",
       "      <th>8</th>\n",
       "      <td>8</td>\n",
       "    </tr>\n",
       "    <tr>\n",
       "      <th>9</th>\n",
       "      <td>9</td>\n",
       "    </tr>\n",
       "    <tr>\n",
       "      <th>10</th>\n",
       "      <td>10</td>\n",
       "    </tr>\n",
       "  </tbody>\n",
       "</table>\n",
       "</div>"
      ],
      "text/plain": [
       "    n_convenience\n",
       "0               0\n",
       "1               1\n",
       "2               2\n",
       "3               3\n",
       "4               4\n",
       "5               5\n",
       "6               6\n",
       "7               7\n",
       "8               8\n",
       "9               9\n",
       "10             10"
      ]
     },
     "execution_count": 14,
     "metadata": {},
     "output_type": "execute_result"
    }
   ],
   "source": [
    "explanatory_data = pd.DataFrame({\"n_convenience\": np.arange(0, 11)})\n",
    "explanatory_data"
   ]
  },
  {
   "cell_type": "code",
   "execution_count": 15,
   "id": "2ebbf5af-5960-4358-b1f0-c6a9e07d00e9",
   "metadata": {},
   "outputs": [
    {
     "data": {
      "text/plain": [
       "0      8.224237\n",
       "1      9.022317\n",
       "2      9.820397\n",
       "3     10.618477\n",
       "4     11.416556\n",
       "5     12.214636\n",
       "6     13.012716\n",
       "7     13.810795\n",
       "8     14.608875\n",
       "9     15.406955\n",
       "10    16.205035\n",
       "dtype: float64"
      ]
     },
     "execution_count": 15,
     "metadata": {},
     "output_type": "execute_result"
    }
   ],
   "source": [
    "mdl_price_vs_conv.predict(explanatory_data)"
   ]
  },
  {
   "cell_type": "code",
   "execution_count": 16,
   "id": "ed28c9ea-aad9-4ca8-a88c-7571065a5a96",
   "metadata": {},
   "outputs": [
    {
     "data": {
      "text/html": [
       "<div>\n",
       "<style scoped>\n",
       "    .dataframe tbody tr th:only-of-type {\n",
       "        vertical-align: middle;\n",
       "    }\n",
       "\n",
       "    .dataframe tbody tr th {\n",
       "        vertical-align: top;\n",
       "    }\n",
       "\n",
       "    .dataframe thead th {\n",
       "        text-align: right;\n",
       "    }\n",
       "</style>\n",
       "<table border=\"1\" class=\"dataframe\">\n",
       "  <thead>\n",
       "    <tr style=\"text-align: right;\">\n",
       "      <th></th>\n",
       "      <th>n_convenience</th>\n",
       "      <th>price_twd_msq</th>\n",
       "    </tr>\n",
       "  </thead>\n",
       "  <tbody>\n",
       "    <tr>\n",
       "      <th>0</th>\n",
       "      <td>0</td>\n",
       "      <td>8.224237</td>\n",
       "    </tr>\n",
       "    <tr>\n",
       "      <th>1</th>\n",
       "      <td>1</td>\n",
       "      <td>9.022317</td>\n",
       "    </tr>\n",
       "    <tr>\n",
       "      <th>2</th>\n",
       "      <td>2</td>\n",
       "      <td>9.820397</td>\n",
       "    </tr>\n",
       "    <tr>\n",
       "      <th>3</th>\n",
       "      <td>3</td>\n",
       "      <td>10.618477</td>\n",
       "    </tr>\n",
       "    <tr>\n",
       "      <th>4</th>\n",
       "      <td>4</td>\n",
       "      <td>11.416556</td>\n",
       "    </tr>\n",
       "    <tr>\n",
       "      <th>5</th>\n",
       "      <td>5</td>\n",
       "      <td>12.214636</td>\n",
       "    </tr>\n",
       "    <tr>\n",
       "      <th>6</th>\n",
       "      <td>6</td>\n",
       "      <td>13.012716</td>\n",
       "    </tr>\n",
       "    <tr>\n",
       "      <th>7</th>\n",
       "      <td>7</td>\n",
       "      <td>13.810795</td>\n",
       "    </tr>\n",
       "    <tr>\n",
       "      <th>8</th>\n",
       "      <td>8</td>\n",
       "      <td>14.608875</td>\n",
       "    </tr>\n",
       "    <tr>\n",
       "      <th>9</th>\n",
       "      <td>9</td>\n",
       "      <td>15.406955</td>\n",
       "    </tr>\n",
       "    <tr>\n",
       "      <th>10</th>\n",
       "      <td>10</td>\n",
       "      <td>16.205035</td>\n",
       "    </tr>\n",
       "  </tbody>\n",
       "</table>\n",
       "</div>"
      ],
      "text/plain": [
       "    n_convenience  price_twd_msq\n",
       "0               0       8.224237\n",
       "1               1       9.022317\n",
       "2               2       9.820397\n",
       "3               3      10.618477\n",
       "4               4      11.416556\n",
       "5               5      12.214636\n",
       "6               6      13.012716\n",
       "7               7      13.810795\n",
       "8               8      14.608875\n",
       "9               9      15.406955\n",
       "10             10      16.205035"
      ]
     },
     "execution_count": 16,
     "metadata": {},
     "output_type": "execute_result"
    }
   ],
   "source": [
    "prediction_data = explanatory_data.assign(price_twd_msq = mdl_price_vs_conv.predict(explanatory_data))\n",
    "prediction_data"
   ]
  },
  {
   "cell_type": "code",
   "execution_count": 17,
   "id": "d493501a-1b34-4136-968f-78fd426ceccb",
   "metadata": {},
   "outputs": [
    {
     "data": {
      "image/png": "[encoded data removed]",
      "text/plain": [
       "<Figure size 640x480 with 1 Axes>"
      ]
     },
     "metadata": {},
     "output_type": "display_data"
    }
   ],
   "source": [
    "plt.figure()\n",
    "sns.regplot(x=\"n_convenience\",\n",
    "            y=\"price_twd_msq\",\n",
    "            data=taiwan_real_estate,\n",
    "            ci=None)\n",
    "# Add a scatter plot layer to the regplot\n",
    "sns.scatterplot(x=\"n_convenience\",\n",
    "            y=\"price_twd_msq\",\n",
    "           data = prediction_data,\n",
    "           color = \"red\",\n",
    "           marker = \"s\")\n",
    "\n",
    "# Show the layered plot\n",
    "plt.show()"
   ]
  },
  {
   "cell_type": "code",
   "execution_count": 18,
   "id": "6c8d018b-dd34-418a-96d0-0987e002aba8",
   "metadata": {},
   "outputs": [
    {
     "data": {
      "text/plain": [
       "Intercept        8.224237\n",
       "n_convenience    0.798080\n",
       "dtype: float64"
      ]
     },
     "execution_count": 18,
     "metadata": {},
     "output_type": "execute_result"
    }
   ],
   "source": [
    "mdl_price_vs_conv.params"
   ]
  },
  {
   "cell_type": "code",
   "execution_count": 19,
   "id": "7a10bd06-69e1-4d2c-a95a-b2accc10d0c2",
   "metadata": {},
   "outputs": [
    {
     "data": {
      "text/plain": [
       "0      16.205035\n",
       "1      15.406955\n",
       "2      12.214636\n",
       "3      12.214636\n",
       "4      12.214636\n",
       "         ...    \n",
       "409     8.224237\n",
       "410    15.406955\n",
       "411    13.810795\n",
       "412    12.214636\n",
       "413    15.406955\n",
       "Length: 414, dtype: float64"
      ]
     },
     "execution_count": 19,
     "metadata": {},
     "output_type": "execute_result"
    }
   ],
   "source": [
    "mdl_price_vs_conv.fittedvalues"
   ]
  },
  {
   "cell_type": "code",
   "execution_count": 20,
   "id": "e4a06c96-4dd8-4e62-8fe8-a9c72007844d",
   "metadata": {},
   "outputs": [
    {
     "data": {
      "text/plain": [
       "0     -4.737561\n",
       "1     -2.638422\n",
       "2      2.097013\n",
       "3      4.366302\n",
       "4      0.826211\n",
       "         ...   \n",
       "409   -3.564631\n",
       "410   -0.278362\n",
       "411   -1.526378\n",
       "412    3.670387\n",
       "413    3.927387\n",
       "Length: 414, dtype: float64"
      ]
     },
     "execution_count": 20,
     "metadata": {},
     "output_type": "execute_result"
    }
   ],
   "source": [
    "mdl_price_vs_conv.resid"
   ]
  },
  {
   "cell_type": "code",
   "execution_count": 21,
   "id": "4f532afa-74ac-4469-bb16-09ab6b125753",
   "metadata": {},
   "outputs": [
    {
     "data": {
      "text/html": [
       "<table class=\"simpletable\">\n",
       "<caption>OLS Regression Results</caption>\n",
       "<tr>\n",
       "  <th>Dep. Variable:</th>      <td>price_twd_msq</td>  <th>  R-squared:         </th> <td>   0.326</td>\n",
       "</tr>\n",
       "<tr>\n",
       "  <th>Model:</th>                   <td>OLS</td>       <th>  Adj. R-squared:    </th> <td>   0.324</td>\n",
       "</tr>\n",
       "<tr>\n",
       "  <th>Method:</th>             <td>Least Squares</td>  <th>  F-statistic:       </th> <td>   199.3</td>\n",
       "</tr>\n",
       "<tr>\n",
       "  <th>Date:</th>             <td>Tue, 21 Oct 2025</td> <th>  Prob (F-statistic):</th> <td>3.41e-37</td>\n",
       "</tr>\n",
       "<tr>\n",
       "  <th>Time:</th>                 <td>13:16:26</td>     <th>  Log-Likelihood:    </th> <td> -1091.1</td>\n",
       "</tr>\n",
       "<tr>\n",
       "  <th>No. Observations:</th>      <td>   414</td>      <th>  AIC:               </th> <td>   2186.</td>\n",
       "</tr>\n",
       "<tr>\n",
       "  <th>Df Residuals:</th>          <td>   412</td>      <th>  BIC:               </th> <td>   2194.</td>\n",
       "</tr>\n",
       "<tr>\n",
       "  <th>Df Model:</th>              <td>     1</td>      <th>                     </th>     <td> </td>   \n",
       "</tr>\n",
       "<tr>\n",
       "  <th>Covariance Type:</th>      <td>nonrobust</td>    <th>                     </th>     <td> </td>   \n",
       "</tr>\n",
       "</table>\n",
       "<table class=\"simpletable\">\n",
       "<tr>\n",
       "        <td></td>           <th>coef</th>     <th>std err</th>      <th>t</th>      <th>P>|t|</th>  <th>[0.025</th>    <th>0.975]</th>  \n",
       "</tr>\n",
       "<tr>\n",
       "  <th>Intercept</th>     <td>    8.2242</td> <td>    0.285</td> <td>   28.857</td> <td> 0.000</td> <td>    7.664</td> <td>    8.784</td>\n",
       "</tr>\n",
       "<tr>\n",
       "  <th>n_convenience</th> <td>    0.7981</td> <td>    0.057</td> <td>   14.118</td> <td> 0.000</td> <td>    0.687</td> <td>    0.909</td>\n",
       "</tr>\n",
       "</table>\n",
       "<table class=\"simpletable\">\n",
       "<tr>\n",
       "  <th>Omnibus:</th>       <td>171.927</td> <th>  Durbin-Watson:     </th> <td>   1.993</td> \n",
       "</tr>\n",
       "<tr>\n",
       "  <th>Prob(Omnibus):</th> <td> 0.000</td>  <th>  Jarque-Bera (JB):  </th> <td>1417.242</td> \n",
       "</tr>\n",
       "<tr>\n",
       "  <th>Skew:</th>          <td> 1.553</td>  <th>  Prob(JB):          </th> <td>1.78e-308</td>\n",
       "</tr>\n",
       "<tr>\n",
       "  <th>Kurtosis:</th>      <td>11.516</td>  <th>  Cond. No.          </th> <td>    8.87</td> \n",
       "</tr>\n",
       "</table><br/><br/>Notes:<br/>[1] Standard Errors assume that the covariance matrix of the errors is correctly specified."
      ],
      "text/latex": [
       "\\begin{center}\n",
       "\\begin{tabular}{lclc}\n",
       "\\toprule\n",
       "\\textbf{Dep. Variable:}    & price\\_twd\\_msq  & \\textbf{  R-squared:         } &     0.326   \\\\\n",
       "\\textbf{Model:}            &       OLS        & \\textbf{  Adj. R-squared:    } &     0.324   \\\\\n",
       "\\textbf{Method:}           &  Least Squares   & \\textbf{  F-statistic:       } &     199.3   \\\\\n",
       "\\textbf{Date:}             & Tue, 21 Oct 2025 & \\textbf{  Prob (F-statistic):} &  3.41e-37   \\\\\n",
       "\\textbf{Time:}             &     13:16:26     & \\textbf{  Log-Likelihood:    } &   -1091.1   \\\\\n",
       "\\textbf{No. Observations:} &         414      & \\textbf{  AIC:               } &     2186.   \\\\\n",
       "\\textbf{Df Residuals:}     &         412      & \\textbf{  BIC:               } &     2194.   \\\\\n",
       "\\textbf{Df Model:}         &           1      & \\textbf{                     } &             \\\\\n",
       "\\textbf{Covariance Type:}  &    nonrobust     & \\textbf{                     } &             \\\\\n",
       "\\bottomrule\n",
       "\\end{tabular}\n",
       "\\begin{tabular}{lcccccc}\n",
       "                        & \\textbf{coef} & \\textbf{std err} & \\textbf{t} & \\textbf{P$> |$t$|$} & \\textbf{[0.025} & \\textbf{0.975]}  \\\\\n",
       "\\midrule\n",
       "\\textbf{Intercept}      &       8.2242  &        0.285     &    28.857  &         0.000        &        7.664    &        8.784     \\\\\n",
       "\\textbf{n\\_convenience} &       0.7981  &        0.057     &    14.118  &         0.000        &        0.687    &        0.909     \\\\\n",
       "\\bottomrule\n",
       "\\end{tabular}\n",
       "\\begin{tabular}{lclc}\n",
       "\\textbf{Omnibus:}       & 171.927 & \\textbf{  Durbin-Watson:     } &     1.993  \\\\\n",
       "\\textbf{Prob(Omnibus):} &   0.000 & \\textbf{  Jarque-Bera (JB):  } &  1417.242  \\\\\n",
       "\\textbf{Skew:}          &   1.553 & \\textbf{  Prob(JB):          } & 1.78e-308  \\\\\n",
       "\\textbf{Kurtosis:}      &  11.516 & \\textbf{  Cond. No.          } &      8.87  \\\\\n",
       "\\bottomrule\n",
       "\\end{tabular}\n",
       "%\\caption{OLS Regression Results}\n",
       "\\end{center}\n",
       "\n",
       "Notes: \\newline\n",
       " [1] Standard Errors assume that the covariance matrix of the errors is correctly specified."
      ],
      "text/plain": [
       "<class 'statsmodels.iolib.summary.Summary'>\n",
       "\"\"\"\n",
       "                            OLS Regression Results                            \n",
       "==============================================================================\n",
       "Dep. Variable:          price_twd_msq   R-squared:                       0.326\n",
       "Model:                            OLS   Adj. R-squared:                  0.324\n",
       "Method:                 Least Squares   F-statistic:                     199.3\n",
       "Date:                Tue, 21 Oct 2025   Prob (F-statistic):           3.41e-37\n",
       "Time:                        13:16:26   Log-Likelihood:                -1091.1\n",
       "No. Observations:                 414   AIC:                             2186.\n",
       "Df Residuals:                     412   BIC:                             2194.\n",
       "Df Model:                           1                                         \n",
       "Covariance Type:            nonrobust                                         \n",
       "=================================================================================\n",
       "                    coef    std err          t      P>|t|      [0.025      0.975]\n",
       "---------------------------------------------------------------------------------\n",
       "Intercept         8.2242      0.285     28.857      0.000       7.664       8.784\n",
       "n_convenience     0.7981      0.057     14.118      0.000       0.687       0.909\n",
       "==============================================================================\n",
       "Omnibus:                      171.927   Durbin-Watson:                   1.993\n",
       "Prob(Omnibus):                  0.000   Jarque-Bera (JB):             1417.242\n",
       "Skew:                           1.553   Prob(JB):                    1.78e-308\n",
       "Kurtosis:                      11.516   Cond. No.                         8.87\n",
       "==============================================================================\n",
       "\n",
       "Notes:\n",
       "[1] Standard Errors assume that the covariance matrix of the errors is correctly specified.\n",
       "\"\"\""
      ]
     },
     "execution_count": 21,
     "metadata": {},
     "output_type": "execute_result"
    }
   ],
   "source": [
    "mdl_price_vs_conv.summary()"
   ]
  },
  {
   "cell_type": "code",
   "execution_count": 22,
   "id": "479ab29e-eedf-4f50-9b17-beeb4df41cf8",
   "metadata": {},
   "outputs": [
    {
     "data": {
      "text/html": [
       "<div>\n",
       "<style scoped>\n",
       "    .dataframe tbody tr th:only-of-type {\n",
       "        vertical-align: middle;\n",
       "    }\n",
       "\n",
       "    .dataframe tbody tr th {\n",
       "        vertical-align: top;\n",
       "    }\n",
       "\n",
       "    .dataframe thead th {\n",
       "        text-align: right;\n",
       "    }\n",
       "</style>\n",
       "<table border=\"1\" class=\"dataframe\">\n",
       "  <thead>\n",
       "    <tr style=\"text-align: right;\">\n",
       "      <th></th>\n",
       "      <th>symbol</th>\n",
       "      <th>return_2018</th>\n",
       "      <th>return_2019</th>\n",
       "    </tr>\n",
       "  </thead>\n",
       "  <tbody>\n",
       "    <tr>\n",
       "      <th>0</th>\n",
       "      <td>AAPL</td>\n",
       "      <td>-0.053902</td>\n",
       "      <td>0.889578</td>\n",
       "    </tr>\n",
       "    <tr>\n",
       "      <th>1</th>\n",
       "      <td>MSFT</td>\n",
       "      <td>0.207953</td>\n",
       "      <td>0.575581</td>\n",
       "    </tr>\n",
       "    <tr>\n",
       "      <th>2</th>\n",
       "      <td>AMZN</td>\n",
       "      <td>0.284317</td>\n",
       "      <td>0.230278</td>\n",
       "    </tr>\n",
       "    <tr>\n",
       "      <th>3</th>\n",
       "      <td>FB</td>\n",
       "      <td>-0.257112</td>\n",
       "      <td>0.565718</td>\n",
       "    </tr>\n",
       "    <tr>\n",
       "      <th>4</th>\n",
       "      <td>GOOGL</td>\n",
       "      <td>-0.008012</td>\n",
       "      <td>0.281762</td>\n",
       "    </tr>\n",
       "    <tr>\n",
       "      <th>...</th>\n",
       "      <td>...</td>\n",
       "      <td>...</td>\n",
       "      <td>...</td>\n",
       "    </tr>\n",
       "    <tr>\n",
       "      <th>488</th>\n",
       "      <td>HFC</td>\n",
       "      <td>0.019944</td>\n",
       "      <td>0.019407</td>\n",
       "    </tr>\n",
       "    <tr>\n",
       "      <th>489</th>\n",
       "      <td>FTI</td>\n",
       "      <td>-0.363155</td>\n",
       "      <td>0.120931</td>\n",
       "    </tr>\n",
       "    <tr>\n",
       "      <th>490</th>\n",
       "      <td>UAA</td>\n",
       "      <td>0.224532</td>\n",
       "      <td>0.222411</td>\n",
       "    </tr>\n",
       "    <tr>\n",
       "      <th>491</th>\n",
       "      <td>UA</td>\n",
       "      <td>0.213964</td>\n",
       "      <td>0.186147</td>\n",
       "    </tr>\n",
       "    <tr>\n",
       "      <th>492</th>\n",
       "      <td>NWS</td>\n",
       "      <td>-0.294658</td>\n",
       "      <td>0.274442</td>\n",
       "    </tr>\n",
       "  </tbody>\n",
       "</table>\n",
       "<p>493 rows × 3 columns</p>\n",
       "</div>"
      ],
      "text/plain": [
       "    symbol  return_2018  return_2019\n",
       "0     AAPL    -0.053902     0.889578\n",
       "1     MSFT     0.207953     0.575581\n",
       "2     AMZN     0.284317     0.230278\n",
       "3       FB    -0.257112     0.565718\n",
       "4    GOOGL    -0.008012     0.281762\n",
       "..     ...          ...          ...\n",
       "488    HFC     0.019944     0.019407\n",
       "489    FTI    -0.363155     0.120931\n",
       "490    UAA     0.224532     0.222411\n",
       "491     UA     0.213964     0.186147\n",
       "492    NWS    -0.294658     0.274442\n",
       "\n",
       "[493 rows x 3 columns]"
      ]
     },
     "execution_count": 22,
     "metadata": {},
     "output_type": "execute_result"
    }
   ],
   "source": [
    "sp500_yearly_returns = pd.read_csv(r\"C:\\Users\\PC\\Desktop\\Oluwatobi\\Python\\Statistics in Python\\sp500_yearly_returns.csv\")\n",
    "sp500_yearly_returns"
   ]
  },
  {
   "cell_type": "code",
   "execution_count": 23,
   "id": "5befd602-f55e-4b86-8a4b-6c6c96abf298",
   "metadata": {},
   "outputs": [
    {
     "data": {
      "image/png": "[encoded data removed]",
      "text/plain": [
       "<Figure size 640x480 with 1 Axes>"
      ]
     },
     "metadata": {},
     "output_type": "display_data"
    }
   ],
   "source": [
    "fig = plt.figure()\n",
    "plt.axline(xy1=(0,0), slope=1, linewidth=2, color=\"green\")\n",
    "\n",
    "sns.regplot(x = \"return_2018\", y = \"return_2019\", data = sp500_yearly_returns)\n",
    "\n",
    "plt.axis(\"equal\")\n",
    "plt.show()"
   ]
  },
  {
   "cell_type": "code",
   "execution_count": 24,
   "id": "e3fec258-294b-446f-89cd-21d1e4ba61eb",
   "metadata": {},
   "outputs": [],
   "source": [
    "mdl_returns = ols(\"return_2019 ~ return_2018\", data = sp500_yearly_returns ).fit()"
   ]
  },
  {
   "cell_type": "code",
   "execution_count": 25,
   "id": "e1896d33-17cf-4e19-acea-6cd2d4a37261",
   "metadata": {},
   "outputs": [
    {
     "data": {
      "text/plain": [
       "Intercept      0.321321\n",
       "return_2018    0.020069\n",
       "dtype: float64"
      ]
     },
     "execution_count": 25,
     "metadata": {},
     "output_type": "execute_result"
    }
   ],
   "source": [
    "mdl_returns.params"
   ]
  },
  {
   "cell_type": "code",
   "execution_count": 26,
   "id": "d6dc2a48-ef5d-40d5-8e6a-bd4bdaa6768d",
   "metadata": {},
   "outputs": [
    {
     "data": {
      "text/html": [
       "<div>\n",
       "<style scoped>\n",
       "    .dataframe tbody tr th:only-of-type {\n",
       "        vertical-align: middle;\n",
       "    }\n",
       "\n",
       "    .dataframe tbody tr th {\n",
       "        vertical-align: top;\n",
       "    }\n",
       "\n",
       "    .dataframe thead th {\n",
       "        text-align: right;\n",
       "    }\n",
       "</style>\n",
       "<table border=\"1\" class=\"dataframe\">\n",
       "  <thead>\n",
       "    <tr style=\"text-align: right;\">\n",
       "      <th></th>\n",
       "      <th>return_2018</th>\n",
       "    </tr>\n",
       "  </thead>\n",
       "  <tbody>\n",
       "    <tr>\n",
       "      <th>0</th>\n",
       "      <td>-1</td>\n",
       "    </tr>\n",
       "    <tr>\n",
       "      <th>1</th>\n",
       "      <td>0</td>\n",
       "    </tr>\n",
       "    <tr>\n",
       "      <th>2</th>\n",
       "      <td>1</td>\n",
       "    </tr>\n",
       "  </tbody>\n",
       "</table>\n",
       "</div>"
      ],
      "text/plain": [
       "   return_2018\n",
       "0           -1\n",
       "1            0\n",
       "2            1"
      ]
     },
     "execution_count": 26,
     "metadata": {},
     "output_type": "execute_result"
    }
   ],
   "source": [
    "explanatory_data = pd.DataFrame({\"return_2018\": [-1, 0, 1]})\n",
    "explanatory_data"
   ]
  },
  {
   "cell_type": "code",
   "execution_count": 27,
   "id": "14bbfe8b-ba02-4f86-a993-4afe3b295203",
   "metadata": {},
   "outputs": [
    {
     "data": {
      "text/plain": [
       "0    0.301251\n",
       "1    0.321321\n",
       "2    0.341390\n",
       "dtype: float64"
      ]
     },
     "execution_count": 27,
     "metadata": {},
     "output_type": "execute_result"
    }
   ],
   "source": [
    "mdl_returns.predict(explanatory_data)"
   ]
  },
  {
   "cell_type": "code",
   "execution_count": 28,
   "id": "2ac8fce7-5357-4444-82d9-f7cff12d9ca9",
   "metadata": {},
   "outputs": [],
   "source": [
    "taiwan_real_estate[\"sqrt_dist_to_mrt_m\"] = np.sqrt(taiwan_real_estate[\"dist_to_mrt_m\"])"
   ]
  },
  {
   "cell_type": "code",
   "execution_count": 29,
   "id": "85987af4-e6c6-4157-8e3f-14541d174878",
   "metadata": {},
   "outputs": [
    {
     "data": {
      "text/plain": [
       "<Axes: xlabel='sqrt_dist_to_mrt_m', ylabel='price_twd_msq'>"
      ]
     },
     "execution_count": 29,
     "metadata": {},
     "output_type": "execute_result"
    },
    {
     "data": {
      "image/png": "[encoded data removed]",
      "text/plain": [
       "<Figure size 640x480 with 1 Axes>"
      ]
     },
     "metadata": {},
     "output_type": "display_data"
    }
   ],
   "source": [
    "sns.regplot(x = \"sqrt_dist_to_mrt_m\", y= \"price_twd_msq\", data =taiwan_real_estate, ci = None)"
   ]
  },
  {
   "cell_type": "code",
   "execution_count": 30,
   "id": "289dbd55-483e-44ac-85de-653cfbf6df1f",
   "metadata": {},
   "outputs": [
    {
     "data": {
      "text/plain": [
       "Intercept             16.709799\n",
       "sqrt_dist_to_mrt_m    -0.182843\n",
       "dtype: float64"
      ]
     },
     "execution_count": 30,
     "metadata": {},
     "output_type": "execute_result"
    }
   ],
   "source": [
    "mdl_price_vs_dist = ols(\"price_twd_msq ~ sqrt_dist_to_mrt_m\", data = taiwan_real_estate).fit()\n",
    "mdl_price_vs_dist.params"
   ]
  },
  {
   "cell_type": "code",
   "execution_count": 31,
   "id": "4a9f2dd5-39fb-4e1c-980b-b60c93d3105a",
   "metadata": {},
   "outputs": [
    {
     "data": {
      "text/html": [
       "<div>\n",
       "<style scoped>\n",
       "    .dataframe tbody tr th:only-of-type {\n",
       "        vertical-align: middle;\n",
       "    }\n",
       "\n",
       "    .dataframe tbody tr th {\n",
       "        vertical-align: top;\n",
       "    }\n",
       "\n",
       "    .dataframe thead th {\n",
       "        text-align: right;\n",
       "    }\n",
       "</style>\n",
       "<table border=\"1\" class=\"dataframe\">\n",
       "  <thead>\n",
       "    <tr style=\"text-align: right;\">\n",
       "      <th></th>\n",
       "      <th>sqrt_dist_to_mrt_m</th>\n",
       "      <th>dist_to_mrt_m</th>\n",
       "    </tr>\n",
       "  </thead>\n",
       "  <tbody>\n",
       "    <tr>\n",
       "      <th>0</th>\n",
       "      <td>0.0</td>\n",
       "      <td>0</td>\n",
       "    </tr>\n",
       "    <tr>\n",
       "      <th>1</th>\n",
       "      <td>10.0</td>\n",
       "      <td>100</td>\n",
       "    </tr>\n",
       "    <tr>\n",
       "      <th>2</th>\n",
       "      <td>20.0</td>\n",
       "      <td>400</td>\n",
       "    </tr>\n",
       "    <tr>\n",
       "      <th>3</th>\n",
       "      <td>30.0</td>\n",
       "      <td>900</td>\n",
       "    </tr>\n",
       "    <tr>\n",
       "      <th>4</th>\n",
       "      <td>40.0</td>\n",
       "      <td>1600</td>\n",
       "    </tr>\n",
       "    <tr>\n",
       "      <th>5</th>\n",
       "      <td>50.0</td>\n",
       "      <td>2500</td>\n",
       "    </tr>\n",
       "    <tr>\n",
       "      <th>6</th>\n",
       "      <td>60.0</td>\n",
       "      <td>3600</td>\n",
       "    </tr>\n",
       "    <tr>\n",
       "      <th>7</th>\n",
       "      <td>70.0</td>\n",
       "      <td>4900</td>\n",
       "    </tr>\n",
       "    <tr>\n",
       "      <th>8</th>\n",
       "      <td>80.0</td>\n",
       "      <td>6400</td>\n",
       "    </tr>\n",
       "  </tbody>\n",
       "</table>\n",
       "</div>"
      ],
      "text/plain": [
       "   sqrt_dist_to_mrt_m  dist_to_mrt_m\n",
       "0                 0.0              0\n",
       "1                10.0            100\n",
       "2                20.0            400\n",
       "3                30.0            900\n",
       "4                40.0           1600\n",
       "5                50.0           2500\n",
       "6                60.0           3600\n",
       "7                70.0           4900\n",
       "8                80.0           6400"
      ]
     },
     "execution_count": 31,
     "metadata": {},
     "output_type": "execute_result"
    }
   ],
   "source": [
    "explanatory_data = pd.DataFrame({\"sqrt_dist_to_mrt_m\": np.sqrt(np.arange(0, 81, 10) ** 2),\n",
    "                                \"dist_to_mrt_m\": np.arange(0, 81, 10) ** 2})\n",
    "explanatory_data"
   ]
  },
  {
   "cell_type": "code",
   "execution_count": 32,
   "id": "16a89706-7419-4394-aaec-8705d2f47ace",
   "metadata": {},
   "outputs": [],
   "source": [
    "prediction_data = explanatory_data.assign(price_twd_msq = mdl_price_vs_dist.predict(explanatory_data))"
   ]
  },
  {
   "cell_type": "code",
   "execution_count": 33,
   "id": "b7984344-be66-44d0-a822-89ce36bbf7e7",
   "metadata": {},
   "outputs": [
    {
     "data": {
      "image/png": "[encoded data removed]",
      "text/plain": [
       "<Figure size 640x480 with 1 Axes>"
      ]
     },
     "metadata": {},
     "output_type": "display_data"
    }
   ],
   "source": [
    "fig = plt.figure()\n",
    "sns.regplot(x=\"sqrt_dist_to_mrt_m\", y=\"price_twd_msq\", data=taiwan_real_estate, ci=None)\n",
    "\n",
    "# Add a layer of your prediction points\n",
    "sns.scatterplot(x = \"sqrt_dist_to_mrt_m\", y = \"price_twd_msq\", data = prediction_data, color=\"red\")\n",
    "plt.show()"
   ]
  },
  {
   "cell_type": "code",
   "execution_count": 34,
   "id": "dd9ee06c-613b-4299-8891-bd6cc734d421",
   "metadata": {},
   "outputs": [
    {
     "data": {
      "text/html": [
       "<table class=\"simpletable\">\n",
       "<caption>OLS Regression Results</caption>\n",
       "<tr>\n",
       "  <th>Dep. Variable:</th>      <td>price_twd_msq</td>  <th>  R-squared:         </th> <td>   0.533</td>\n",
       "</tr>\n",
       "<tr>\n",
       "  <th>Model:</th>                   <td>OLS</td>       <th>  Adj. R-squared:    </th> <td>   0.532</td>\n",
       "</tr>\n",
       "<tr>\n",
       "  <th>Method:</th>             <td>Least Squares</td>  <th>  F-statistic:       </th> <td>   469.7</td>\n",
       "</tr>\n",
       "<tr>\n",
       "  <th>Date:</th>             <td>Tue, 21 Oct 2025</td> <th>  Prob (F-statistic):</th> <td>4.55e-70</td>\n",
       "</tr>\n",
       "<tr>\n",
       "  <th>Time:</th>                 <td>13:16:28</td>     <th>  Log-Likelihood:    </th> <td> -1015.3</td>\n",
       "</tr>\n",
       "<tr>\n",
       "  <th>No. Observations:</th>      <td>   414</td>      <th>  AIC:               </th> <td>   2035.</td>\n",
       "</tr>\n",
       "<tr>\n",
       "  <th>Df Residuals:</th>          <td>   412</td>      <th>  BIC:               </th> <td>   2043.</td>\n",
       "</tr>\n",
       "<tr>\n",
       "  <th>Df Model:</th>              <td>     1</td>      <th>                     </th>     <td> </td>   \n",
       "</tr>\n",
       "<tr>\n",
       "  <th>Covariance Type:</th>      <td>nonrobust</td>    <th>                     </th>     <td> </td>   \n",
       "</tr>\n",
       "</table>\n",
       "<table class=\"simpletable\">\n",
       "<tr>\n",
       "           <td></td>             <th>coef</th>     <th>std err</th>      <th>t</th>      <th>P>|t|</th>  <th>[0.025</th>    <th>0.975]</th>  \n",
       "</tr>\n",
       "<tr>\n",
       "  <th>Intercept</th>          <td>   16.7098</td> <td>    0.278</td> <td>   60.163</td> <td> 0.000</td> <td>   16.164</td> <td>   17.256</td>\n",
       "</tr>\n",
       "<tr>\n",
       "  <th>sqrt_dist_to_mrt_m</th> <td>   -0.1828</td> <td>    0.008</td> <td>  -21.674</td> <td> 0.000</td> <td>   -0.199</td> <td>   -0.166</td>\n",
       "</tr>\n",
       "</table>\n",
       "<table class=\"simpletable\">\n",
       "<tr>\n",
       "  <th>Omnibus:</th>       <td>169.655</td> <th>  Durbin-Watson:     </th> <td>   2.166</td>\n",
       "</tr>\n",
       "<tr>\n",
       "  <th>Prob(Omnibus):</th> <td> 0.000</td>  <th>  Jarque-Bera (JB):  </th> <td>1645.827</td>\n",
       "</tr>\n",
       "<tr>\n",
       "  <th>Skew:</th>          <td> 1.470</td>  <th>  Prob(JB):          </th> <td>    0.00</td>\n",
       "</tr>\n",
       "<tr>\n",
       "  <th>Kurtosis:</th>      <td>12.315</td>  <th>  Cond. No.          </th> <td>    66.1</td>\n",
       "</tr>\n",
       "</table><br/><br/>Notes:<br/>[1] Standard Errors assume that the covariance matrix of the errors is correctly specified."
      ],
      "text/latex": [
       "\\begin{center}\n",
       "\\begin{tabular}{lclc}\n",
       "\\toprule\n",
       "\\textbf{Dep. Variable:}         & price\\_twd\\_msq  & \\textbf{  R-squared:         } &     0.533   \\\\\n",
       "\\textbf{Model:}                 &       OLS        & \\textbf{  Adj. R-squared:    } &     0.532   \\\\\n",
       "\\textbf{Method:}                &  Least Squares   & \\textbf{  F-statistic:       } &     469.7   \\\\\n",
       "\\textbf{Date:}                  & Tue, 21 Oct 2025 & \\textbf{  Prob (F-statistic):} &  4.55e-70   \\\\\n",
       "\\textbf{Time:}                  &     13:16:28     & \\textbf{  Log-Likelihood:    } &   -1015.3   \\\\\n",
       "\\textbf{No. Observations:}      &         414      & \\textbf{  AIC:               } &     2035.   \\\\\n",
       "\\textbf{Df Residuals:}          &         412      & \\textbf{  BIC:               } &     2043.   \\\\\n",
       "\\textbf{Df Model:}              &           1      & \\textbf{                     } &             \\\\\n",
       "\\textbf{Covariance Type:}       &    nonrobust     & \\textbf{                     } &             \\\\\n",
       "\\bottomrule\n",
       "\\end{tabular}\n",
       "\\begin{tabular}{lcccccc}\n",
       "                                & \\textbf{coef} & \\textbf{std err} & \\textbf{t} & \\textbf{P$> |$t$|$} & \\textbf{[0.025} & \\textbf{0.975]}  \\\\\n",
       "\\midrule\n",
       "\\textbf{Intercept}              &      16.7098  &        0.278     &    60.163  &         0.000        &       16.164    &       17.256     \\\\\n",
       "\\textbf{sqrt\\_dist\\_to\\_mrt\\_m} &      -0.1828  &        0.008     &   -21.674  &         0.000        &       -0.199    &       -0.166     \\\\\n",
       "\\bottomrule\n",
       "\\end{tabular}\n",
       "\\begin{tabular}{lclc}\n",
       "\\textbf{Omnibus:}       & 169.655 & \\textbf{  Durbin-Watson:     } &    2.166  \\\\\n",
       "\\textbf{Prob(Omnibus):} &   0.000 & \\textbf{  Jarque-Bera (JB):  } & 1645.827  \\\\\n",
       "\\textbf{Skew:}          &   1.470 & \\textbf{  Prob(JB):          } &     0.00  \\\\\n",
       "\\textbf{Kurtosis:}      &  12.315 & \\textbf{  Cond. No.          } &     66.1  \\\\\n",
       "\\bottomrule\n",
       "\\end{tabular}\n",
       "%\\caption{OLS Regression Results}\n",
       "\\end{center}\n",
       "\n",
       "Notes: \\newline\n",
       " [1] Standard Errors assume that the covariance matrix of the errors is correctly specified."
      ],
      "text/plain": [
       "<class 'statsmodels.iolib.summary.Summary'>\n",
       "\"\"\"\n",
       "                            OLS Regression Results                            \n",
       "==============================================================================\n",
       "Dep. Variable:          price_twd_msq   R-squared:                       0.533\n",
       "Model:                            OLS   Adj. R-squared:                  0.532\n",
       "Method:                 Least Squares   F-statistic:                     469.7\n",
       "Date:                Tue, 21 Oct 2025   Prob (F-statistic):           4.55e-70\n",
       "Time:                        13:16:28   Log-Likelihood:                -1015.3\n",
       "No. Observations:                 414   AIC:                             2035.\n",
       "Df Residuals:                     412   BIC:                             2043.\n",
       "Df Model:                           1                                         \n",
       "Covariance Type:            nonrobust                                         \n",
       "======================================================================================\n",
       "                         coef    std err          t      P>|t|      [0.025      0.975]\n",
       "--------------------------------------------------------------------------------------\n",
       "Intercept             16.7098      0.278     60.163      0.000      16.164      17.256\n",
       "sqrt_dist_to_mrt_m    -0.1828      0.008    -21.674      0.000      -0.199      -0.166\n",
       "==============================================================================\n",
       "Omnibus:                      169.655   Durbin-Watson:                   2.166\n",
       "Prob(Omnibus):                  0.000   Jarque-Bera (JB):             1645.827\n",
       "Skew:                           1.470   Prob(JB):                         0.00\n",
       "Kurtosis:                      12.315   Cond. No.                         66.1\n",
       "==============================================================================\n",
       "\n",
       "Notes:\n",
       "[1] Standard Errors assume that the covariance matrix of the errors is correctly specified.\n",
       "\"\"\""
      ]
     },
     "execution_count": 34,
     "metadata": {},
     "output_type": "execute_result"
    }
   ],
   "source": [
    "mdl_price_vs_dist.summary()"
   ]
  },
  {
   "cell_type": "code",
   "execution_count": 35,
   "id": "56bf39d5-1fe9-4933-bfd1-38952cda5667",
   "metadata": {},
   "outputs": [
    {
     "data": {
      "text/html": [
       "<div>\n",
       "<style scoped>\n",
       "    .dataframe tbody tr th:only-of-type {\n",
       "        vertical-align: middle;\n",
       "    }\n",
       "\n",
       "    .dataframe tbody tr th {\n",
       "        vertical-align: top;\n",
       "    }\n",
       "\n",
       "    .dataframe thead th {\n",
       "        text-align: right;\n",
       "    }\n",
       "</style>\n",
       "<table border=\"1\" class=\"dataframe\">\n",
       "  <thead>\n",
       "    <tr style=\"text-align: right;\">\n",
       "      <th></th>\n",
       "      <th>spent_usd</th>\n",
       "      <th>n_impressions</th>\n",
       "      <th>n_clicks</th>\n",
       "    </tr>\n",
       "  </thead>\n",
       "  <tbody>\n",
       "    <tr>\n",
       "      <th>0</th>\n",
       "      <td>1.430000</td>\n",
       "      <td>7350</td>\n",
       "      <td>1</td>\n",
       "    </tr>\n",
       "    <tr>\n",
       "      <th>1</th>\n",
       "      <td>1.820000</td>\n",
       "      <td>17861</td>\n",
       "      <td>2</td>\n",
       "    </tr>\n",
       "    <tr>\n",
       "      <th>2</th>\n",
       "      <td>1.250000</td>\n",
       "      <td>4259</td>\n",
       "      <td>1</td>\n",
       "    </tr>\n",
       "    <tr>\n",
       "      <th>3</th>\n",
       "      <td>1.290000</td>\n",
       "      <td>4133</td>\n",
       "      <td>1</td>\n",
       "    </tr>\n",
       "    <tr>\n",
       "      <th>4</th>\n",
       "      <td>4.770000</td>\n",
       "      <td>15615</td>\n",
       "      <td>3</td>\n",
       "    </tr>\n",
       "    <tr>\n",
       "      <th>...</th>\n",
       "      <td>...</td>\n",
       "      <td>...</td>\n",
       "      <td>...</td>\n",
       "    </tr>\n",
       "    <tr>\n",
       "      <th>931</th>\n",
       "      <td>358.189997</td>\n",
       "      <td>1129773</td>\n",
       "      <td>252</td>\n",
       "    </tr>\n",
       "    <tr>\n",
       "      <th>932</th>\n",
       "      <td>173.880003</td>\n",
       "      <td>637549</td>\n",
       "      <td>120</td>\n",
       "    </tr>\n",
       "    <tr>\n",
       "      <th>933</th>\n",
       "      <td>40.289999</td>\n",
       "      <td>151531</td>\n",
       "      <td>28</td>\n",
       "    </tr>\n",
       "    <tr>\n",
       "      <th>934</th>\n",
       "      <td>198.710001</td>\n",
       "      <td>790253</td>\n",
       "      <td>135</td>\n",
       "    </tr>\n",
       "    <tr>\n",
       "      <th>935</th>\n",
       "      <td>165.609999</td>\n",
       "      <td>513161</td>\n",
       "      <td>114</td>\n",
       "    </tr>\n",
       "  </tbody>\n",
       "</table>\n",
       "<p>936 rows × 3 columns</p>\n",
       "</div>"
      ],
      "text/plain": [
       "      spent_usd  n_impressions  n_clicks\n",
       "0      1.430000           7350         1\n",
       "1      1.820000          17861         2\n",
       "2      1.250000           4259         1\n",
       "3      1.290000           4133         1\n",
       "4      4.770000          15615         3\n",
       "..          ...            ...       ...\n",
       "931  358.189997        1129773       252\n",
       "932  173.880003         637549       120\n",
       "933   40.289999         151531        28\n",
       "934  198.710001         790253       135\n",
       "935  165.609999         513161       114\n",
       "\n",
       "[936 rows x 3 columns]"
      ]
     },
     "execution_count": 35,
     "metadata": {},
     "output_type": "execute_result"
    }
   ],
   "source": [
    "ad_conversion= pd.read_csv(r\"C:\\Users\\PC\\Desktop\\Oluwatobi\\Python\\Statistics in Python\\ad_conversion.csv\")\n",
    "ad_conversion"
   ]
  },
  {
   "cell_type": "code",
   "execution_count": 36,
   "id": "1091676c-5181-4cd7-861a-22ebc5e3a0b3",
   "metadata": {},
   "outputs": [],
   "source": [
    "ad_conversion[\"qdrt_n_impressions\"] = ad_conversion[\"n_impressions\"] ** 0.25"
   ]
  },
  {
   "cell_type": "code",
   "execution_count": 37,
   "id": "504df1c8-e05d-4f05-a1eb-52fdf7bbc929",
   "metadata": {},
   "outputs": [],
   "source": [
    "ad_conversion[\"qdrt_n_clicks\"] = ad_conversion[\"n_clicks\"] ** 0.25"
   ]
  },
  {
   "cell_type": "code",
   "execution_count": 38,
   "id": "8e30eea0-644b-40bf-b91c-9c792c573b68",
   "metadata": {},
   "outputs": [
    {
     "data": {
      "text/plain": [
       "<Axes: xlabel='qdrt_n_impressions', ylabel='qdrt_n_clicks'>"
      ]
     },
     "execution_count": 38,
     "metadata": {},
     "output_type": "execute_result"
    },
    {
     "data": {
      "image/png": "[encoded data removed]",
      "text/plain": [
       "<Figure size 640x480 with 1 Axes>"
      ]
     },
     "metadata": {},
     "output_type": "display_data"
    }
   ],
   "source": [
    "sns.regplot(x = \"qdrt_n_impressions\", y = \"qdrt_n_clicks\", data = ad_conversion)"
   ]
  },
  {
   "cell_type": "code",
   "execution_count": 39,
   "id": "e53512af-b97a-4d3d-bed5-0ebd9d103e4b",
   "metadata": {},
   "outputs": [],
   "source": [
    "mdl_click_vs_impression_orig = ols(\"n_clicks~n_impressions\", data = ad_conversion).fit()"
   ]
  },
  {
   "cell_type": "code",
   "execution_count": 40,
   "id": "c02bdb8b-a462-4850-9fda-25d1b30871dc",
   "metadata": {},
   "outputs": [
    {
     "data": {
      "text/plain": [
       "Intercept        1.682896\n",
       "n_impressions    0.000172\n",
       "dtype: float64"
      ]
     },
     "execution_count": 40,
     "metadata": {},
     "output_type": "execute_result"
    }
   ],
   "source": [
    "mdl_click_vs_impression_orig.params"
   ]
  },
  {
   "cell_type": "code",
   "execution_count": 41,
   "id": "a02395b7-2654-4273-a7aa-8824aa3be767",
   "metadata": {},
   "outputs": [
    {
     "data": {
      "text/html": [
       "<table class=\"simpletable\">\n",
       "<caption>OLS Regression Results</caption>\n",
       "<tr>\n",
       "  <th>Dep. Variable:</th>        <td>n_clicks</td>     <th>  R-squared:         </th> <td>   0.892</td>\n",
       "</tr>\n",
       "<tr>\n",
       "  <th>Model:</th>                   <td>OLS</td>       <th>  Adj. R-squared:    </th> <td>   0.891</td>\n",
       "</tr>\n",
       "<tr>\n",
       "  <th>Method:</th>             <td>Least Squares</td>  <th>  F-statistic:       </th> <td>   7683.</td>\n",
       "</tr>\n",
       "<tr>\n",
       "  <th>Date:</th>             <td>Tue, 21 Oct 2025</td> <th>  Prob (F-statistic):</th>  <td>  0.00</td> \n",
       "</tr>\n",
       "<tr>\n",
       "  <th>Time:</th>                 <td>13:16:28</td>     <th>  Log-Likelihood:    </th> <td> -4126.7</td>\n",
       "</tr>\n",
       "<tr>\n",
       "  <th>No. Observations:</th>      <td>   936</td>      <th>  AIC:               </th> <td>   8257.</td>\n",
       "</tr>\n",
       "<tr>\n",
       "  <th>Df Residuals:</th>          <td>   934</td>      <th>  BIC:               </th> <td>   8267.</td>\n",
       "</tr>\n",
       "<tr>\n",
       "  <th>Df Model:</th>              <td>     1</td>      <th>                     </th>     <td> </td>   \n",
       "</tr>\n",
       "<tr>\n",
       "  <th>Covariance Type:</th>      <td>nonrobust</td>    <th>                     </th>     <td> </td>   \n",
       "</tr>\n",
       "</table>\n",
       "<table class=\"simpletable\">\n",
       "<tr>\n",
       "        <td></td>           <th>coef</th>     <th>std err</th>      <th>t</th>      <th>P>|t|</th>  <th>[0.025</th>    <th>0.975]</th>  \n",
       "</tr>\n",
       "<tr>\n",
       "  <th>Intercept</th>     <td>    1.6829</td> <td>    0.789</td> <td>    2.133</td> <td> 0.033</td> <td>    0.135</td> <td>    3.231</td>\n",
       "</tr>\n",
       "<tr>\n",
       "  <th>n_impressions</th> <td>    0.0002</td> <td> 1.96e-06</td> <td>   87.654</td> <td> 0.000</td> <td>    0.000</td> <td>    0.000</td>\n",
       "</tr>\n",
       "</table>\n",
       "<table class=\"simpletable\">\n",
       "<tr>\n",
       "  <th>Omnibus:</th>       <td>247.038</td> <th>  Durbin-Watson:     </th> <td>   0.870</td> \n",
       "</tr>\n",
       "<tr>\n",
       "  <th>Prob(Omnibus):</th> <td> 0.000</td>  <th>  Jarque-Bera (JB):  </th> <td>13215.277</td>\n",
       "</tr>\n",
       "<tr>\n",
       "  <th>Skew:</th>          <td>-0.258</td>  <th>  Prob(JB):          </th> <td>    0.00</td> \n",
       "</tr>\n",
       "<tr>\n",
       "  <th>Kurtosis:</th>      <td>21.401</td>  <th>  Cond. No.          </th> <td>4.88e+05</td> \n",
       "</tr>\n",
       "</table><br/><br/>Notes:<br/>[1] Standard Errors assume that the covariance matrix of the errors is correctly specified.<br/>[2] The condition number is large, 4.88e+05. This might indicate that there are<br/>strong multicollinearity or other numerical problems."
      ],
      "text/latex": [
       "\\begin{center}\n",
       "\\begin{tabular}{lclc}\n",
       "\\toprule\n",
       "\\textbf{Dep. Variable:}    &    n\\_clicks     & \\textbf{  R-squared:         } &     0.892   \\\\\n",
       "\\textbf{Model:}            &       OLS        & \\textbf{  Adj. R-squared:    } &     0.891   \\\\\n",
       "\\textbf{Method:}           &  Least Squares   & \\textbf{  F-statistic:       } &     7683.   \\\\\n",
       "\\textbf{Date:}             & Tue, 21 Oct 2025 & \\textbf{  Prob (F-statistic):} &     0.00    \\\\\n",
       "\\textbf{Time:}             &     13:16:28     & \\textbf{  Log-Likelihood:    } &   -4126.7   \\\\\n",
       "\\textbf{No. Observations:} &         936      & \\textbf{  AIC:               } &     8257.   \\\\\n",
       "\\textbf{Df Residuals:}     &         934      & \\textbf{  BIC:               } &     8267.   \\\\\n",
       "\\textbf{Df Model:}         &           1      & \\textbf{                     } &             \\\\\n",
       "\\textbf{Covariance Type:}  &    nonrobust     & \\textbf{                     } &             \\\\\n",
       "\\bottomrule\n",
       "\\end{tabular}\n",
       "\\begin{tabular}{lcccccc}\n",
       "                        & \\textbf{coef} & \\textbf{std err} & \\textbf{t} & \\textbf{P$> |$t$|$} & \\textbf{[0.025} & \\textbf{0.975]}  \\\\\n",
       "\\midrule\n",
       "\\textbf{Intercept}      &       1.6829  &        0.789     &     2.133  &         0.033        &        0.135    &        3.231     \\\\\n",
       "\\textbf{n\\_impressions} &       0.0002  &     1.96e-06     &    87.654  &         0.000        &        0.000    &        0.000     \\\\\n",
       "\\bottomrule\n",
       "\\end{tabular}\n",
       "\\begin{tabular}{lclc}\n",
       "\\textbf{Omnibus:}       & 247.038 & \\textbf{  Durbin-Watson:     } &     0.870  \\\\\n",
       "\\textbf{Prob(Omnibus):} &   0.000 & \\textbf{  Jarque-Bera (JB):  } & 13215.277  \\\\\n",
       "\\textbf{Skew:}          &  -0.258 & \\textbf{  Prob(JB):          } &      0.00  \\\\\n",
       "\\textbf{Kurtosis:}      &  21.401 & \\textbf{  Cond. No.          } &  4.88e+05  \\\\\n",
       "\\bottomrule\n",
       "\\end{tabular}\n",
       "%\\caption{OLS Regression Results}\n",
       "\\end{center}\n",
       "\n",
       "Notes: \\newline\n",
       " [1] Standard Errors assume that the covariance matrix of the errors is correctly specified. \\newline\n",
       " [2] The condition number is large, 4.88e+05. This might indicate that there are \\newline\n",
       " strong multicollinearity or other numerical problems."
      ],
      "text/plain": [
       "<class 'statsmodels.iolib.summary.Summary'>\n",
       "\"\"\"\n",
       "                            OLS Regression Results                            \n",
       "==============================================================================\n",
       "Dep. Variable:               n_clicks   R-squared:                       0.892\n",
       "Model:                            OLS   Adj. R-squared:                  0.891\n",
       "Method:                 Least Squares   F-statistic:                     7683.\n",
       "Date:                Tue, 21 Oct 2025   Prob (F-statistic):               0.00\n",
       "Time:                        13:16:28   Log-Likelihood:                -4126.7\n",
       "No. Observations:                 936   AIC:                             8257.\n",
       "Df Residuals:                     934   BIC:                             8267.\n",
       "Df Model:                           1                                         \n",
       "Covariance Type:            nonrobust                                         \n",
       "=================================================================================\n",
       "                    coef    std err          t      P>|t|      [0.025      0.975]\n",
       "---------------------------------------------------------------------------------\n",
       "Intercept         1.6829      0.789      2.133      0.033       0.135       3.231\n",
       "n_impressions     0.0002   1.96e-06     87.654      0.000       0.000       0.000\n",
       "==============================================================================\n",
       "Omnibus:                      247.038   Durbin-Watson:                   0.870\n",
       "Prob(Omnibus):                  0.000   Jarque-Bera (JB):            13215.277\n",
       "Skew:                          -0.258   Prob(JB):                         0.00\n",
       "Kurtosis:                      21.401   Cond. No.                     4.88e+05\n",
       "==============================================================================\n",
       "\n",
       "Notes:\n",
       "[1] Standard Errors assume that the covariance matrix of the errors is correctly specified.\n",
       "[2] The condition number is large, 4.88e+05. This might indicate that there are\n",
       "strong multicollinearity or other numerical problems.\n",
       "\"\"\""
      ]
     },
     "execution_count": 41,
     "metadata": {},
     "output_type": "execute_result"
    }
   ],
   "source": [
    "mdl_click_vs_impression_orig.summary()"
   ]
  },
  {
   "cell_type": "code",
   "execution_count": 42,
   "id": "b2c2619d-172c-4229-b182-65d9884815e4",
   "metadata": {},
   "outputs": [],
   "source": [
    "mdl_click_vs_impression_trans = ols(\"qdrt_n_clicks~qdrt_n_impressions\", data = ad_conversion).fit()"
   ]
  },
  {
   "cell_type": "code",
   "execution_count": 43,
   "id": "dec866ac-0974-4655-b07b-e52728777522",
   "metadata": {},
   "outputs": [
    {
     "data": {
      "text/plain": [
       "Intercept             0.071748\n",
       "qdrt_n_impressions    0.111533\n",
       "dtype: float64"
      ]
     },
     "execution_count": 43,
     "metadata": {},
     "output_type": "execute_result"
    }
   ],
   "source": [
    "mdl_click_vs_impression_trans.params"
   ]
  },
  {
   "cell_type": "code",
   "execution_count": 44,
   "id": "651d13cb-b18f-4ba0-bcc7-4387f160ab51",
   "metadata": {},
   "outputs": [
    {
     "data": {
      "text/html": [
       "<table class=\"simpletable\">\n",
       "<caption>OLS Regression Results</caption>\n",
       "<tr>\n",
       "  <th>Dep. Variable:</th>      <td>qdrt_n_clicks</td>  <th>  R-squared:         </th> <td>   0.945</td> \n",
       "</tr>\n",
       "<tr>\n",
       "  <th>Model:</th>                   <td>OLS</td>       <th>  Adj. R-squared:    </th> <td>   0.944</td> \n",
       "</tr>\n",
       "<tr>\n",
       "  <th>Method:</th>             <td>Least Squares</td>  <th>  F-statistic:       </th> <td>1.590e+04</td>\n",
       "</tr>\n",
       "<tr>\n",
       "  <th>Date:</th>             <td>Tue, 21 Oct 2025</td> <th>  Prob (F-statistic):</th>  <td>  0.00</td>  \n",
       "</tr>\n",
       "<tr>\n",
       "  <th>Time:</th>                 <td>13:16:28</td>     <th>  Log-Likelihood:    </th> <td>  193.90</td> \n",
       "</tr>\n",
       "<tr>\n",
       "  <th>No. Observations:</th>      <td>   936</td>      <th>  AIC:               </th> <td>  -383.8</td> \n",
       "</tr>\n",
       "<tr>\n",
       "  <th>Df Residuals:</th>          <td>   934</td>      <th>  BIC:               </th> <td>  -374.1</td> \n",
       "</tr>\n",
       "<tr>\n",
       "  <th>Df Model:</th>              <td>     1</td>      <th>                     </th>     <td> </td>    \n",
       "</tr>\n",
       "<tr>\n",
       "  <th>Covariance Type:</th>      <td>nonrobust</td>    <th>                     </th>     <td> </td>    \n",
       "</tr>\n",
       "</table>\n",
       "<table class=\"simpletable\">\n",
       "<tr>\n",
       "           <td></td>             <th>coef</th>     <th>std err</th>      <th>t</th>      <th>P>|t|</th>  <th>[0.025</th>    <th>0.975]</th>  \n",
       "</tr>\n",
       "<tr>\n",
       "  <th>Intercept</th>          <td>    0.0717</td> <td>    0.017</td> <td>    4.171</td> <td> 0.000</td> <td>    0.038</td> <td>    0.106</td>\n",
       "</tr>\n",
       "<tr>\n",
       "  <th>qdrt_n_impressions</th> <td>    0.1115</td> <td>    0.001</td> <td>  126.108</td> <td> 0.000</td> <td>    0.110</td> <td>    0.113</td>\n",
       "</tr>\n",
       "</table>\n",
       "<table class=\"simpletable\">\n",
       "<tr>\n",
       "  <th>Omnibus:</th>       <td>11.447</td> <th>  Durbin-Watson:     </th> <td>   0.568</td>\n",
       "</tr>\n",
       "<tr>\n",
       "  <th>Prob(Omnibus):</th> <td> 0.003</td> <th>  Jarque-Bera (JB):  </th> <td>  10.637</td>\n",
       "</tr>\n",
       "<tr>\n",
       "  <th>Skew:</th>          <td>-0.216</td> <th>  Prob(JB):          </th> <td> 0.00490</td>\n",
       "</tr>\n",
       "<tr>\n",
       "  <th>Kurtosis:</th>      <td> 2.707</td> <th>  Cond. No.          </th> <td>    52.1</td>\n",
       "</tr>\n",
       "</table><br/><br/>Notes:<br/>[1] Standard Errors assume that the covariance matrix of the errors is correctly specified."
      ],
      "text/latex": [
       "\\begin{center}\n",
       "\\begin{tabular}{lclc}\n",
       "\\toprule\n",
       "\\textbf{Dep. Variable:}       & qdrt\\_n\\_clicks  & \\textbf{  R-squared:         } &     0.945   \\\\\n",
       "\\textbf{Model:}               &       OLS        & \\textbf{  Adj. R-squared:    } &     0.944   \\\\\n",
       "\\textbf{Method:}              &  Least Squares   & \\textbf{  F-statistic:       } & 1.590e+04   \\\\\n",
       "\\textbf{Date:}                & Tue, 21 Oct 2025 & \\textbf{  Prob (F-statistic):} &     0.00    \\\\\n",
       "\\textbf{Time:}                &     13:16:28     & \\textbf{  Log-Likelihood:    } &    193.90   \\\\\n",
       "\\textbf{No. Observations:}    &         936      & \\textbf{  AIC:               } &    -383.8   \\\\\n",
       "\\textbf{Df Residuals:}        &         934      & \\textbf{  BIC:               } &    -374.1   \\\\\n",
       "\\textbf{Df Model:}            &           1      & \\textbf{                     } &             \\\\\n",
       "\\textbf{Covariance Type:}     &    nonrobust     & \\textbf{                     } &             \\\\\n",
       "\\bottomrule\n",
       "\\end{tabular}\n",
       "\\begin{tabular}{lcccccc}\n",
       "                              & \\textbf{coef} & \\textbf{std err} & \\textbf{t} & \\textbf{P$> |$t$|$} & \\textbf{[0.025} & \\textbf{0.975]}  \\\\\n",
       "\\midrule\n",
       "\\textbf{Intercept}            &       0.0717  &        0.017     &     4.171  &         0.000        &        0.038    &        0.106     \\\\\n",
       "\\textbf{qdrt\\_n\\_impressions} &       0.1115  &        0.001     &   126.108  &         0.000        &        0.110    &        0.113     \\\\\n",
       "\\bottomrule\n",
       "\\end{tabular}\n",
       "\\begin{tabular}{lclc}\n",
       "\\textbf{Omnibus:}       & 11.447 & \\textbf{  Durbin-Watson:     } &    0.568  \\\\\n",
       "\\textbf{Prob(Omnibus):} &  0.003 & \\textbf{  Jarque-Bera (JB):  } &   10.637  \\\\\n",
       "\\textbf{Skew:}          & -0.216 & \\textbf{  Prob(JB):          } &  0.00490  \\\\\n",
       "\\textbf{Kurtosis:}      &  2.707 & \\textbf{  Cond. No.          } &     52.1  \\\\\n",
       "\\bottomrule\n",
       "\\end{tabular}\n",
       "%\\caption{OLS Regression Results}\n",
       "\\end{center}\n",
       "\n",
       "Notes: \\newline\n",
       " [1] Standard Errors assume that the covariance matrix of the errors is correctly specified."
      ],
      "text/plain": [
       "<class 'statsmodels.iolib.summary.Summary'>\n",
       "\"\"\"\n",
       "                            OLS Regression Results                            \n",
       "==============================================================================\n",
       "Dep. Variable:          qdrt_n_clicks   R-squared:                       0.945\n",
       "Model:                            OLS   Adj. R-squared:                  0.944\n",
       "Method:                 Least Squares   F-statistic:                 1.590e+04\n",
       "Date:                Tue, 21 Oct 2025   Prob (F-statistic):               0.00\n",
       "Time:                        13:16:28   Log-Likelihood:                 193.90\n",
       "No. Observations:                 936   AIC:                            -383.8\n",
       "Df Residuals:                     934   BIC:                            -374.1\n",
       "Df Model:                           1                                         \n",
       "Covariance Type:            nonrobust                                         \n",
       "======================================================================================\n",
       "                         coef    std err          t      P>|t|      [0.025      0.975]\n",
       "--------------------------------------------------------------------------------------\n",
       "Intercept              0.0717      0.017      4.171      0.000       0.038       0.106\n",
       "qdrt_n_impressions     0.1115      0.001    126.108      0.000       0.110       0.113\n",
       "==============================================================================\n",
       "Omnibus:                       11.447   Durbin-Watson:                   0.568\n",
       "Prob(Omnibus):                  0.003   Jarque-Bera (JB):               10.637\n",
       "Skew:                          -0.216   Prob(JB):                      0.00490\n",
       "Kurtosis:                       2.707   Cond. No.                         52.1\n",
       "==============================================================================\n",
       "\n",
       "Notes:\n",
       "[1] Standard Errors assume that the covariance matrix of the errors is correctly specified.\n",
       "\"\"\""
      ]
     },
     "execution_count": 44,
     "metadata": {},
     "output_type": "execute_result"
    }
   ],
   "source": [
    "mdl_click_vs_impression_trans.summary()"
   ]
  },
  {
   "cell_type": "code",
   "execution_count": 45,
   "id": "f2935b04-0ea8-445f-bb2f-92f2a4eaa79e",
   "metadata": {},
   "outputs": [
    {
     "data": {
      "text/plain": [
       "0.8916134973508041"
      ]
     },
     "execution_count": 45,
     "metadata": {},
     "output_type": "execute_result"
    }
   ],
   "source": [
    "mdl_click_vs_impression_orig.rsquared"
   ]
  },
  {
   "cell_type": "code",
   "execution_count": 46,
   "id": "d4f8d014-3130-4134-b6ec-385389c403d1",
   "metadata": {},
   "outputs": [
    {
     "data": {
      "text/plain": [
       "0.9445272817143905"
      ]
     },
     "execution_count": 46,
     "metadata": {},
     "output_type": "execute_result"
    }
   ],
   "source": [
    "mdl_click_vs_impression_trans.rsquared"
   ]
  },
  {
   "cell_type": "code",
   "execution_count": 47,
   "id": "d7904d6f-cc90-4282-815a-67d9e1d0e59f",
   "metadata": {},
   "outputs": [
    {
     "data": {
      "text/plain": [
       "396.24242081894494"
      ]
     },
     "execution_count": 47,
     "metadata": {},
     "output_type": "execute_result"
    }
   ],
   "source": [
    "mdl_click_vs_impression_orig.mse_resid"
   ]
  },
  {
   "cell_type": "code",
   "execution_count": 48,
   "id": "6c0986c4-d238-4e9a-b64a-942ca636d622",
   "metadata": {},
   "outputs": [
    {
     "data": {
      "text/plain": [
       "19.905838862478138"
      ]
     },
     "execution_count": 48,
     "metadata": {},
     "output_type": "execute_result"
    }
   ],
   "source": [
    "np.sqrt(mdl_click_vs_impression_orig.mse_resid)"
   ]
  },
  {
   "cell_type": "code",
   "execution_count": 49,
   "id": "3bc86107-7112-4bd7-801f-007d33657b76",
   "metadata": {},
   "outputs": [
    {
     "data": {
      "text/plain": [
       "0.038772133892971496"
      ]
     },
     "execution_count": 49,
     "metadata": {},
     "output_type": "execute_result"
    }
   ],
   "source": [
    "mdl_click_vs_impression_trans.mse_resid"
   ]
  },
  {
   "cell_type": "code",
   "execution_count": 50,
   "id": "6975ec71-da36-4749-884c-ab164a15d4fe",
   "metadata": {},
   "outputs": [
    {
     "data": {
      "text/plain": [
       "0.19690640896875727"
      ]
     },
     "execution_count": 50,
     "metadata": {},
     "output_type": "execute_result"
    }
   ],
   "source": [
    "np.sqrt(mdl_click_vs_impression_trans.mse_resid)"
   ]
  },
  {
   "cell_type": "code",
   "execution_count": 51,
   "id": "a0c0bc6e-9504-4b91-aa27-5592732933da",
   "metadata": {},
   "outputs": [
    {
     "data": {
      "text/html": [
       "<div>\n",
       "<style scoped>\n",
       "    .dataframe tbody tr th:only-of-type {\n",
       "        vertical-align: middle;\n",
       "    }\n",
       "\n",
       "    .dataframe tbody tr th {\n",
       "        vertical-align: top;\n",
       "    }\n",
       "\n",
       "    .dataframe thead th {\n",
       "        text-align: right;\n",
       "    }\n",
       "</style>\n",
       "<table border=\"1\" class=\"dataframe\">\n",
       "  <thead>\n",
       "    <tr style=\"text-align: right;\">\n",
       "      <th></th>\n",
       "      <th>dist_to_mrt_m</th>\n",
       "      <th>n_convenience</th>\n",
       "      <th>house_age_years</th>\n",
       "      <th>price_twd_msq</th>\n",
       "      <th>sqrt_dist_to_mrt_m</th>\n",
       "    </tr>\n",
       "  </thead>\n",
       "  <tbody>\n",
       "    <tr>\n",
       "      <th>0</th>\n",
       "      <td>84.87882</td>\n",
       "      <td>10</td>\n",
       "      <td>30 to 45</td>\n",
       "      <td>11.467474</td>\n",
       "      <td>9.212970</td>\n",
       "    </tr>\n",
       "    <tr>\n",
       "      <th>1</th>\n",
       "      <td>306.59470</td>\n",
       "      <td>9</td>\n",
       "      <td>15 to 30</td>\n",
       "      <td>12.768533</td>\n",
       "      <td>17.509846</td>\n",
       "    </tr>\n",
       "    <tr>\n",
       "      <th>2</th>\n",
       "      <td>561.98450</td>\n",
       "      <td>5</td>\n",
       "      <td>0 to 15</td>\n",
       "      <td>14.311649</td>\n",
       "      <td>23.706212</td>\n",
       "    </tr>\n",
       "    <tr>\n",
       "      <th>3</th>\n",
       "      <td>561.98450</td>\n",
       "      <td>5</td>\n",
       "      <td>0 to 15</td>\n",
       "      <td>16.580938</td>\n",
       "      <td>23.706212</td>\n",
       "    </tr>\n",
       "    <tr>\n",
       "      <th>4</th>\n",
       "      <td>390.56840</td>\n",
       "      <td>5</td>\n",
       "      <td>0 to 15</td>\n",
       "      <td>13.040847</td>\n",
       "      <td>19.762803</td>\n",
       "    </tr>\n",
       "    <tr>\n",
       "      <th>...</th>\n",
       "      <td>...</td>\n",
       "      <td>...</td>\n",
       "      <td>...</td>\n",
       "      <td>...</td>\n",
       "      <td>...</td>\n",
       "    </tr>\n",
       "    <tr>\n",
       "      <th>409</th>\n",
       "      <td>4082.01500</td>\n",
       "      <td>0</td>\n",
       "      <td>0 to 15</td>\n",
       "      <td>4.659607</td>\n",
       "      <td>63.890649</td>\n",
       "    </tr>\n",
       "    <tr>\n",
       "      <th>410</th>\n",
       "      <td>90.45606</td>\n",
       "      <td>9</td>\n",
       "      <td>0 to 15</td>\n",
       "      <td>15.128593</td>\n",
       "      <td>9.510839</td>\n",
       "    </tr>\n",
       "    <tr>\n",
       "      <th>411</th>\n",
       "      <td>390.96960</td>\n",
       "      <td>7</td>\n",
       "      <td>15 to 30</td>\n",
       "      <td>12.284418</td>\n",
       "      <td>19.772951</td>\n",
       "    </tr>\n",
       "    <tr>\n",
       "      <th>412</th>\n",
       "      <td>104.81010</td>\n",
       "      <td>5</td>\n",
       "      <td>0 to 15</td>\n",
       "      <td>15.885023</td>\n",
       "      <td>10.237680</td>\n",
       "    </tr>\n",
       "    <tr>\n",
       "      <th>413</th>\n",
       "      <td>90.45606</td>\n",
       "      <td>9</td>\n",
       "      <td>0 to 15</td>\n",
       "      <td>19.334342</td>\n",
       "      <td>9.510839</td>\n",
       "    </tr>\n",
       "  </tbody>\n",
       "</table>\n",
       "<p>414 rows × 5 columns</p>\n",
       "</div>"
      ],
      "text/plain": [
       "     dist_to_mrt_m  n_convenience house_age_years  price_twd_msq  \\\n",
       "0         84.87882             10        30 to 45      11.467474   \n",
       "1        306.59470              9        15 to 30      12.768533   \n",
       "2        561.98450              5         0 to 15      14.311649   \n",
       "3        561.98450              5         0 to 15      16.580938   \n",
       "4        390.56840              5         0 to 15      13.040847   \n",
       "..             ...            ...             ...            ...   \n",
       "409     4082.01500              0         0 to 15       4.659607   \n",
       "410       90.45606              9         0 to 15      15.128593   \n",
       "411      390.96960              7        15 to 30      12.284418   \n",
       "412      104.81010              5         0 to 15      15.885023   \n",
       "413       90.45606              9         0 to 15      19.334342   \n",
       "\n",
       "     sqrt_dist_to_mrt_m  \n",
       "0              9.212970  \n",
       "1             17.509846  \n",
       "2             23.706212  \n",
       "3             23.706212  \n",
       "4             19.762803  \n",
       "..                  ...  \n",
       "409           63.890649  \n",
       "410            9.510839  \n",
       "411           19.772951  \n",
       "412           10.237680  \n",
       "413            9.510839  \n",
       "\n",
       "[414 rows x 5 columns]"
      ]
     },
     "execution_count": 51,
     "metadata": {},
     "output_type": "execute_result"
    }
   ],
   "source": [
    "taiwan_real_estate"
   ]
  },
  {
   "cell_type": "code",
   "execution_count": 52,
   "id": "3e8ad857-49c7-4aaa-8ea3-c4781b923b58",
   "metadata": {},
   "outputs": [
    {
     "data": {
      "text/plain": [
       "<Axes: xlabel='n_convenience', ylabel='price_twd_msq'>"
      ]
     },
     "execution_count": 52,
     "metadata": {},
     "output_type": "execute_result"
    },
    {
     "data": {
      "image/png": "[encoded data removed]",
      "text/plain": [
       "<Figure size 640x480 with 1 Axes>"
      ]
     },
     "metadata": {},
     "output_type": "display_data"
    }
   ],
   "source": [
    "sns.residplot( x = \"n_convenience\", y = \"price_twd_msq\", data = taiwan_real_estate, lowess = True)"
   ]
  },
  {
   "cell_type": "code",
   "execution_count": 53,
   "id": "ca483830-7b5b-4707-88d9-abb1cc5156f3",
   "metadata": {},
   "outputs": [],
   "source": [
    "from statsmodels.api import  qqplot"
   ]
  },
  {
   "cell_type": "code",
   "execution_count": 54,
   "id": "8ac9a5d7-fa3c-4735-9194-d37adf55bdaf",
   "metadata": {},
   "outputs": [
    {
     "data": {
      "image/png": "[encoded data removed]",
      "text/plain": [
       "<Figure size 640x480 with 1 Axes>"
      ]
     },
     "execution_count": 54,
     "metadata": {},
     "output_type": "execute_result"
    },
    {
     "data": {
      "image/png": "[encoded data removed]",
      "text/plain": [
       "<Figure size 640x480 with 1 Axes>"
      ]
     },
     "metadata": {},
     "output_type": "display_data"
    }
   ],
   "source": [
    "qqplot(data = mdl_price_vs_conv.resid, fit = True, line = \"45\")"
   ]
  },
  {
   "cell_type": "code",
   "execution_count": 55,
   "id": "3d5d9174-19aa-43db-849f-8ead04e11fb8",
   "metadata": {},
   "outputs": [
    {
     "data": {
      "text/plain": [
       "0     -4.737561\n",
       "1     -2.638422\n",
       "2      2.097013\n",
       "3      4.366302\n",
       "4      0.826211\n",
       "         ...   \n",
       "409   -3.564631\n",
       "410   -0.278362\n",
       "411   -1.526378\n",
       "412    3.670387\n",
       "413    3.927387\n",
       "Length: 414, dtype: float64"
      ]
     },
     "execution_count": 55,
     "metadata": {},
     "output_type": "execute_result"
    }
   ],
   "source": [
    "mdl_price_vs_conv.resid"
   ]
  },
  {
   "cell_type": "code",
   "execution_count": 56,
   "id": "d8f87290-9db9-46fc-ad1d-ac123e01d340",
   "metadata": {},
   "outputs": [
    {
     "data": {
      "text/html": [
       "<div>\n",
       "<style scoped>\n",
       "    .dataframe tbody tr th:only-of-type {\n",
       "        vertical-align: middle;\n",
       "    }\n",
       "\n",
       "    .dataframe tbody tr th {\n",
       "        vertical-align: top;\n",
       "    }\n",
       "\n",
       "    .dataframe thead th {\n",
       "        text-align: right;\n",
       "    }\n",
       "</style>\n",
       "<table border=\"1\" class=\"dataframe\">\n",
       "  <thead>\n",
       "    <tr style=\"text-align: right;\">\n",
       "      <th></th>\n",
       "      <th>dfb_Intercept</th>\n",
       "      <th>dfb_sqrt_dist_to_mrt_m</th>\n",
       "      <th>cooks_d</th>\n",
       "      <th>standard_resid</th>\n",
       "      <th>hat_diag</th>\n",
       "      <th>dffits_internal</th>\n",
       "      <th>student_resid</th>\n",
       "      <th>dffits</th>\n",
       "    </tr>\n",
       "  </thead>\n",
       "  <tbody>\n",
       "    <tr>\n",
       "      <th>0</th>\n",
       "      <td>-0.094893</td>\n",
       "      <td>0.073542</td>\n",
       "      <td>4.648246e-03</td>\n",
       "      <td>-1.266363</td>\n",
       "      <td>0.005764</td>\n",
       "      <td>-0.096418</td>\n",
       "      <td>-1.267294</td>\n",
       "      <td>-0.096489</td>\n",
       "    </tr>\n",
       "    <tr>\n",
       "      <th>1</th>\n",
       "      <td>-0.013981</td>\n",
       "      <td>0.008690</td>\n",
       "      <td>1.216711e-04</td>\n",
       "      <td>-0.262996</td>\n",
       "      <td>0.003506</td>\n",
       "      <td>-0.015599</td>\n",
       "      <td>-0.262699</td>\n",
       "      <td>-0.015582</td>\n",
       "    </tr>\n",
       "    <tr>\n",
       "      <th>2</th>\n",
       "      <td>0.025510</td>\n",
       "      <td>-0.009963</td>\n",
       "      <td>6.231096e-04</td>\n",
       "      <td>0.688143</td>\n",
       "      <td>0.002625</td>\n",
       "      <td>0.035302</td>\n",
       "      <td>0.687703</td>\n",
       "      <td>0.035279</td>\n",
       "    </tr>\n",
       "    <tr>\n",
       "      <th>3</th>\n",
       "      <td>0.055525</td>\n",
       "      <td>-0.021686</td>\n",
       "      <td>2.939394e-03</td>\n",
       "      <td>1.494602</td>\n",
       "      <td>0.002625</td>\n",
       "      <td>0.076673</td>\n",
       "      <td>1.496850</td>\n",
       "      <td>0.076789</td>\n",
       "    </tr>\n",
       "    <tr>\n",
       "      <th>4</th>\n",
       "      <td>-0.000932</td>\n",
       "      <td>0.000518</td>\n",
       "      <td>6.055123e-07</td>\n",
       "      <td>-0.019716</td>\n",
       "      <td>0.003106</td>\n",
       "      <td>-0.001100</td>\n",
       "      <td>-0.019692</td>\n",
       "      <td>-0.001099</td>\n",
       "    </tr>\n",
       "    <tr>\n",
       "      <th>...</th>\n",
       "      <td>...</td>\n",
       "      <td>...</td>\n",
       "      <td>...</td>\n",
       "      <td>...</td>\n",
       "      <td>...</td>\n",
       "      <td>...</td>\n",
       "      <td>...</td>\n",
       "      <td>...</td>\n",
       "    </tr>\n",
       "    <tr>\n",
       "      <th>409</th>\n",
       "      <td>0.008900</td>\n",
       "      <td>-0.014008</td>\n",
       "      <td>1.195505e-04</td>\n",
       "      <td>-0.131593</td>\n",
       "      <td>0.013619</td>\n",
       "      <td>-0.015463</td>\n",
       "      <td>-0.131436</td>\n",
       "      <td>-0.015444</td>\n",
       "    </tr>\n",
       "    <tr>\n",
       "      <th>410</th>\n",
       "      <td>0.004156</td>\n",
       "      <td>-0.003205</td>\n",
       "      <td>8.977830e-06</td>\n",
       "      <td>0.056158</td>\n",
       "      <td>0.005661</td>\n",
       "      <td>0.004237</td>\n",
       "      <td>0.056090</td>\n",
       "      <td>0.004232</td>\n",
       "    </tr>\n",
       "    <tr>\n",
       "      <th>411</th>\n",
       "      <td>-0.013612</td>\n",
       "      <td>0.007560</td>\n",
       "      <td>1.290873e-04</td>\n",
       "      <td>-0.287940</td>\n",
       "      <td>0.003104</td>\n",
       "      <td>-0.016068</td>\n",
       "      <td>-0.287620</td>\n",
       "      <td>-0.016050</td>\n",
       "    </tr>\n",
       "    <tr>\n",
       "      <th>412</th>\n",
       "      <td>0.026876</td>\n",
       "      <td>-0.020453</td>\n",
       "      <td>3.782254e-04</td>\n",
       "      <td>0.372644</td>\n",
       "      <td>0.005418</td>\n",
       "      <td>0.027504</td>\n",
       "      <td>0.372254</td>\n",
       "      <td>0.027475</td>\n",
       "    </tr>\n",
       "    <tr>\n",
       "      <th>413</th>\n",
       "      <td>0.115280</td>\n",
       "      <td>-0.088885</td>\n",
       "      <td>6.866358e-03</td>\n",
       "      <td>1.553075</td>\n",
       "      <td>0.005661</td>\n",
       "      <td>0.117187</td>\n",
       "      <td>1.555750</td>\n",
       "      <td>0.117389</td>\n",
       "    </tr>\n",
       "  </tbody>\n",
       "</table>\n",
       "<p>414 rows × 8 columns</p>\n",
       "</div>"
      ],
      "text/plain": [
       "     dfb_Intercept  dfb_sqrt_dist_to_mrt_m       cooks_d  standard_resid  \\\n",
       "0        -0.094893                0.073542  4.648246e-03       -1.266363   \n",
       "1        -0.013981                0.008690  1.216711e-04       -0.262996   \n",
       "2         0.025510               -0.009963  6.231096e-04        0.688143   \n",
       "3         0.055525               -0.021686  2.939394e-03        1.494602   \n",
       "4        -0.000932                0.000518  6.055123e-07       -0.019716   \n",
       "..             ...                     ...           ...             ...   \n",
       "409       0.008900               -0.014008  1.195505e-04       -0.131593   \n",
       "410       0.004156               -0.003205  8.977830e-06        0.056158   \n",
       "411      -0.013612                0.007560  1.290873e-04       -0.287940   \n",
       "412       0.026876               -0.020453  3.782254e-04        0.372644   \n",
       "413       0.115280               -0.088885  6.866358e-03        1.553075   \n",
       "\n",
       "     hat_diag  dffits_internal  student_resid    dffits  \n",
       "0    0.005764        -0.096418      -1.267294 -0.096489  \n",
       "1    0.003506        -0.015599      -0.262699 -0.015582  \n",
       "2    0.002625         0.035302       0.687703  0.035279  \n",
       "3    0.002625         0.076673       1.496850  0.076789  \n",
       "4    0.003106        -0.001100      -0.019692 -0.001099  \n",
       "..        ...              ...            ...       ...  \n",
       "409  0.013619        -0.015463      -0.131436 -0.015444  \n",
       "410  0.005661         0.004237       0.056090  0.004232  \n",
       "411  0.003104        -0.016068      -0.287620 -0.016050  \n",
       "412  0.005418         0.027504       0.372254  0.027475  \n",
       "413  0.005661         0.117187       1.555750  0.117389  \n",
       "\n",
       "[414 rows x 8 columns]"
      ]
     },
     "execution_count": 56,
     "metadata": {},
     "output_type": "execute_result"
    }
   ],
   "source": [
    "summary_info = mdl_price_vs_dist.get_influence().summary_frame()\n",
    "summary_info"
   ]
  },
  {
   "cell_type": "code",
   "execution_count": 57,
   "id": "ffce00e5-6eea-4d43-a37f-2572c2315671",
   "metadata": {},
   "outputs": [],
   "source": [
    "taiwan_real_estate[\"leverage\"] = summary_info[\"hat_diag\"]"
   ]
  },
  {
   "cell_type": "code",
   "execution_count": 58,
   "id": "0f164382-4b1c-4547-bdc1-d1277de69ff0",
   "metadata": {},
   "outputs": [
    {
     "data": {
      "text/html": [
       "<div>\n",
       "<style scoped>\n",
       "    .dataframe tbody tr th:only-of-type {\n",
       "        vertical-align: middle;\n",
       "    }\n",
       "\n",
       "    .dataframe tbody tr th {\n",
       "        vertical-align: top;\n",
       "    }\n",
       "\n",
       "    .dataframe thead th {\n",
       "        text-align: right;\n",
       "    }\n",
       "</style>\n",
       "<table border=\"1\" class=\"dataframe\">\n",
       "  <thead>\n",
       "    <tr style=\"text-align: right;\">\n",
       "      <th></th>\n",
       "      <th>dist_to_mrt_m</th>\n",
       "      <th>n_convenience</th>\n",
       "      <th>house_age_years</th>\n",
       "      <th>price_twd_msq</th>\n",
       "      <th>sqrt_dist_to_mrt_m</th>\n",
       "      <th>leverage</th>\n",
       "    </tr>\n",
       "  </thead>\n",
       "  <tbody>\n",
       "    <tr>\n",
       "      <th>347</th>\n",
       "      <td>6488.0210</td>\n",
       "      <td>1</td>\n",
       "      <td>15 to 30</td>\n",
       "      <td>3.388805</td>\n",
       "      <td>80.548253</td>\n",
       "      <td>0.026665</td>\n",
       "    </tr>\n",
       "    <tr>\n",
       "      <th>116</th>\n",
       "      <td>6396.2830</td>\n",
       "      <td>1</td>\n",
       "      <td>30 to 45</td>\n",
       "      <td>3.691377</td>\n",
       "      <td>79.976765</td>\n",
       "      <td>0.026135</td>\n",
       "    </tr>\n",
       "    <tr>\n",
       "      <th>249</th>\n",
       "      <td>6306.1530</td>\n",
       "      <td>1</td>\n",
       "      <td>15 to 30</td>\n",
       "      <td>4.538578</td>\n",
       "      <td>79.411290</td>\n",
       "      <td>0.025617</td>\n",
       "    </tr>\n",
       "    <tr>\n",
       "      <th>255</th>\n",
       "      <td>5512.0380</td>\n",
       "      <td>1</td>\n",
       "      <td>30 to 45</td>\n",
       "      <td>5.264750</td>\n",
       "      <td>74.243101</td>\n",
       "      <td>0.021142</td>\n",
       "    </tr>\n",
       "    <tr>\n",
       "      <th>8</th>\n",
       "      <td>5512.0380</td>\n",
       "      <td>1</td>\n",
       "      <td>30 to 45</td>\n",
       "      <td>5.688351</td>\n",
       "      <td>74.243101</td>\n",
       "      <td>0.021142</td>\n",
       "    </tr>\n",
       "    <tr>\n",
       "      <th>...</th>\n",
       "      <td>...</td>\n",
       "      <td>...</td>\n",
       "      <td>...</td>\n",
       "      <td>...</td>\n",
       "      <td>...</td>\n",
       "      <td>...</td>\n",
       "    </tr>\n",
       "    <tr>\n",
       "      <th>269</th>\n",
       "      <td>837.7233</td>\n",
       "      <td>0</td>\n",
       "      <td>15 to 30</td>\n",
       "      <td>6.959153</td>\n",
       "      <td>28.943450</td>\n",
       "      <td>0.002417</td>\n",
       "    </tr>\n",
       "    <tr>\n",
       "      <th>126</th>\n",
       "      <td>804.6897</td>\n",
       "      <td>4</td>\n",
       "      <td>30 to 45</td>\n",
       "      <td>19.031770</td>\n",
       "      <td>28.367053</td>\n",
       "      <td>0.002416</td>\n",
       "    </tr>\n",
       "    <tr>\n",
       "      <th>265</th>\n",
       "      <td>815.9314</td>\n",
       "      <td>4</td>\n",
       "      <td>15 to 30</td>\n",
       "      <td>11.527988</td>\n",
       "      <td>28.564513</td>\n",
       "      <td>0.002415</td>\n",
       "    </tr>\n",
       "    <tr>\n",
       "      <th>159</th>\n",
       "      <td>815.9314</td>\n",
       "      <td>4</td>\n",
       "      <td>15 to 30</td>\n",
       "      <td>11.316188</td>\n",
       "      <td>28.564513</td>\n",
       "      <td>0.002415</td>\n",
       "    </tr>\n",
       "    <tr>\n",
       "      <th>157</th>\n",
       "      <td>815.9314</td>\n",
       "      <td>4</td>\n",
       "      <td>15 to 30</td>\n",
       "      <td>10.771558</td>\n",
       "      <td>28.564513</td>\n",
       "      <td>0.002415</td>\n",
       "    </tr>\n",
       "  </tbody>\n",
       "</table>\n",
       "<p>414 rows × 6 columns</p>\n",
       "</div>"
      ],
      "text/plain": [
       "     dist_to_mrt_m  n_convenience house_age_years  price_twd_msq  \\\n",
       "347      6488.0210              1        15 to 30       3.388805   \n",
       "116      6396.2830              1        30 to 45       3.691377   \n",
       "249      6306.1530              1        15 to 30       4.538578   \n",
       "255      5512.0380              1        30 to 45       5.264750   \n",
       "8        5512.0380              1        30 to 45       5.688351   \n",
       "..             ...            ...             ...            ...   \n",
       "269       837.7233              0        15 to 30       6.959153   \n",
       "126       804.6897              4        30 to 45      19.031770   \n",
       "265       815.9314              4        15 to 30      11.527988   \n",
       "159       815.9314              4        15 to 30      11.316188   \n",
       "157       815.9314              4        15 to 30      10.771558   \n",
       "\n",
       "     sqrt_dist_to_mrt_m  leverage  \n",
       "347           80.548253  0.026665  \n",
       "116           79.976765  0.026135  \n",
       "249           79.411290  0.025617  \n",
       "255           74.243101  0.021142  \n",
       "8             74.243101  0.021142  \n",
       "..                  ...       ...  \n",
       "269           28.943450  0.002417  \n",
       "126           28.367053  0.002416  \n",
       "265           28.564513  0.002415  \n",
       "159           28.564513  0.002415  \n",
       "157           28.564513  0.002415  \n",
       "\n",
       "[414 rows x 6 columns]"
      ]
     },
     "execution_count": 58,
     "metadata": {},
     "output_type": "execute_result"
    }
   ],
   "source": [
    "taiwan_real_estate.sort_values(by = 'leverage',ascending = False)"
   ]
  },
  {
   "cell_type": "code",
   "execution_count": 61,
   "id": "96a510eb-a086-477e-b488-07edf793f3a7",
   "metadata": {},
   "outputs": [],
   "source": [
    "taiwan_real_estate[\"cooks_d\"] = summary_info[\"cooks_d\"]"
   ]
  },
  {
   "cell_type": "code",
   "execution_count": 64,
   "id": "613398e3-c24a-43aa-8b35-a55629b6ed03",
   "metadata": {},
   "outputs": [
    {
     "data": {
      "text/html": [
       "<div>\n",
       "<style scoped>\n",
       "    .dataframe tbody tr th:only-of-type {\n",
       "        vertical-align: middle;\n",
       "    }\n",
       "\n",
       "    .dataframe tbody tr th {\n",
       "        vertical-align: top;\n",
       "    }\n",
       "\n",
       "    .dataframe thead th {\n",
       "        text-align: right;\n",
       "    }\n",
       "</style>\n",
       "<table border=\"1\" class=\"dataframe\">\n",
       "  <thead>\n",
       "    <tr style=\"text-align: right;\">\n",
       "      <th></th>\n",
       "      <th>dist_to_mrt_m</th>\n",
       "      <th>n_convenience</th>\n",
       "      <th>house_age_years</th>\n",
       "      <th>price_twd_msq</th>\n",
       "      <th>sqrt_dist_to_mrt_m</th>\n",
       "      <th>leverage</th>\n",
       "      <th>cooks_d</th>\n",
       "    </tr>\n",
       "  </thead>\n",
       "  <tbody>\n",
       "    <tr>\n",
       "      <th>270</th>\n",
       "      <td>252.5822</td>\n",
       "      <td>1</td>\n",
       "      <td>0 to 15</td>\n",
       "      <td>35.552194</td>\n",
       "      <td>15.892835</td>\n",
       "      <td>0.003849</td>\n",
       "      <td>1.155487e-01</td>\n",
       "    </tr>\n",
       "    <tr>\n",
       "      <th>148</th>\n",
       "      <td>3780.5900</td>\n",
       "      <td>0</td>\n",
       "      <td>15 to 30</td>\n",
       "      <td>13.645991</td>\n",
       "      <td>61.486503</td>\n",
       "      <td>0.012147</td>\n",
       "      <td>5.244008e-02</td>\n",
       "    </tr>\n",
       "    <tr>\n",
       "      <th>228</th>\n",
       "      <td>3171.3290</td>\n",
       "      <td>0</td>\n",
       "      <td>0 to 15</td>\n",
       "      <td>14.099849</td>\n",
       "      <td>56.314554</td>\n",
       "      <td>0.009332</td>\n",
       "      <td>3.538436e-02</td>\n",
       "    </tr>\n",
       "    <tr>\n",
       "      <th>220</th>\n",
       "      <td>186.5101</td>\n",
       "      <td>9</td>\n",
       "      <td>30 to 45</td>\n",
       "      <td>23.691377</td>\n",
       "      <td>13.656870</td>\n",
       "      <td>0.004401</td>\n",
       "      <td>2.512289e-02</td>\n",
       "    </tr>\n",
       "    <tr>\n",
       "      <th>113</th>\n",
       "      <td>393.2606</td>\n",
       "      <td>6</td>\n",
       "      <td>0 to 15</td>\n",
       "      <td>2.299546</td>\n",
       "      <td>19.830799</td>\n",
       "      <td>0.003095</td>\n",
       "      <td>2.281295e-02</td>\n",
       "    </tr>\n",
       "    <tr>\n",
       "      <th>...</th>\n",
       "      <td>...</td>\n",
       "      <td>...</td>\n",
       "      <td>...</td>\n",
       "      <td>...</td>\n",
       "      <td>...</td>\n",
       "      <td>...</td>\n",
       "      <td>...</td>\n",
       "    </tr>\n",
       "    <tr>\n",
       "      <th>298</th>\n",
       "      <td>4082.0150</td>\n",
       "      <td>0</td>\n",
       "      <td>15 to 30</td>\n",
       "      <td>5.052950</td>\n",
       "      <td>63.890649</td>\n",
       "      <td>0.013619</td>\n",
       "      <td>5.554280e-07</td>\n",
       "    </tr>\n",
       "    <tr>\n",
       "      <th>6</th>\n",
       "      <td>623.4731</td>\n",
       "      <td>7</td>\n",
       "      <td>30 to 45</td>\n",
       "      <td>12.193646</td>\n",
       "      <td>24.969443</td>\n",
       "      <td>0.002530</td>\n",
       "      <td>3.896928e-07</td>\n",
       "    </tr>\n",
       "    <tr>\n",
       "      <th>265</th>\n",
       "      <td>815.9314</td>\n",
       "      <td>4</td>\n",
       "      <td>15 to 30</td>\n",
       "      <td>11.527988</td>\n",
       "      <td>28.564513</td>\n",
       "      <td>0.002415</td>\n",
       "      <td>2.570474e-07</td>\n",
       "    </tr>\n",
       "    <tr>\n",
       "      <th>237</th>\n",
       "      <td>732.8528</td>\n",
       "      <td>0</td>\n",
       "      <td>0 to 15</td>\n",
       "      <td>11.800303</td>\n",
       "      <td>27.071254</td>\n",
       "      <td>0.002435</td>\n",
       "      <td>2.501281e-07</td>\n",
       "    </tr>\n",
       "    <tr>\n",
       "      <th>179</th>\n",
       "      <td>438.8513</td>\n",
       "      <td>1</td>\n",
       "      <td>0 to 15</td>\n",
       "      <td>12.889561</td>\n",
       "      <td>20.948778</td>\n",
       "      <td>0.002932</td>\n",
       "      <td>1.893547e-08</td>\n",
       "    </tr>\n",
       "  </tbody>\n",
       "</table>\n",
       "<p>414 rows × 7 columns</p>\n",
       "</div>"
      ],
      "text/plain": [
       "     dist_to_mrt_m  n_convenience house_age_years  price_twd_msq  \\\n",
       "270       252.5822              1         0 to 15      35.552194   \n",
       "148      3780.5900              0        15 to 30      13.645991   \n",
       "228      3171.3290              0         0 to 15      14.099849   \n",
       "220       186.5101              9        30 to 45      23.691377   \n",
       "113       393.2606              6         0 to 15       2.299546   \n",
       "..             ...            ...             ...            ...   \n",
       "298      4082.0150              0        15 to 30       5.052950   \n",
       "6         623.4731              7        30 to 45      12.193646   \n",
       "265       815.9314              4        15 to 30      11.527988   \n",
       "237       732.8528              0         0 to 15      11.800303   \n",
       "179       438.8513              1         0 to 15      12.889561   \n",
       "\n",
       "     sqrt_dist_to_mrt_m  leverage       cooks_d  \n",
       "270           15.892835  0.003849  1.155487e-01  \n",
       "148           61.486503  0.012147  5.244008e-02  \n",
       "228           56.314554  0.009332  3.538436e-02  \n",
       "220           13.656870  0.004401  2.512289e-02  \n",
       "113           19.830799  0.003095  2.281295e-02  \n",
       "..                  ...       ...           ...  \n",
       "298           63.890649  0.013619  5.554280e-07  \n",
       "6             24.969443  0.002530  3.896928e-07  \n",
       "265           28.564513  0.002415  2.570474e-07  \n",
       "237           27.071254  0.002435  2.501281e-07  \n",
       "179           20.948778  0.002932  1.893547e-08  \n",
       "\n",
       "[414 rows x 7 columns]"
      ]
     },
     "execution_count": 64,
     "metadata": {},
     "output_type": "execute_result"
    }
   ],
   "source": [
    "taiwan_real_estate.sort_values(by = \"cooks_d\", ascending = False)"
   ]
  },
  {
   "cell_type": "code",
   "execution_count": 65,
   "id": "73c759e5-d467-4d06-9eed-636b7880455f",
   "metadata": {},
   "outputs": [
    {
     "data": {
      "text/html": [
       "<div>\n",
       "<style scoped>\n",
       "    .dataframe tbody tr th:only-of-type {\n",
       "        vertical-align: middle;\n",
       "    }\n",
       "\n",
       "    .dataframe tbody tr th {\n",
       "        vertical-align: top;\n",
       "    }\n",
       "\n",
       "    .dataframe thead th {\n",
       "        text-align: right;\n",
       "    }\n",
       "</style>\n",
       "<table border=\"1\" class=\"dataframe\">\n",
       "  <thead>\n",
       "    <tr style=\"text-align: right;\">\n",
       "      <th></th>\n",
       "      <th>has_churned</th>\n",
       "      <th>time_since_first_purchase</th>\n",
       "      <th>time_since_last_purchase</th>\n",
       "    </tr>\n",
       "  </thead>\n",
       "  <tbody>\n",
       "    <tr>\n",
       "      <th>0</th>\n",
       "      <td>0</td>\n",
       "      <td>-1.089221</td>\n",
       "      <td>-0.721322</td>\n",
       "    </tr>\n",
       "    <tr>\n",
       "      <th>1</th>\n",
       "      <td>0</td>\n",
       "      <td>1.182983</td>\n",
       "      <td>3.634435</td>\n",
       "    </tr>\n",
       "    <tr>\n",
       "      <th>2</th>\n",
       "      <td>0</td>\n",
       "      <td>-0.846156</td>\n",
       "      <td>-0.427582</td>\n",
       "    </tr>\n",
       "    <tr>\n",
       "      <th>3</th>\n",
       "      <td>0</td>\n",
       "      <td>0.086942</td>\n",
       "      <td>-0.535672</td>\n",
       "    </tr>\n",
       "    <tr>\n",
       "      <th>4</th>\n",
       "      <td>0</td>\n",
       "      <td>-1.166642</td>\n",
       "      <td>-0.672640</td>\n",
       "    </tr>\n",
       "    <tr>\n",
       "      <th>...</th>\n",
       "      <td>...</td>\n",
       "      <td>...</td>\n",
       "      <td>...</td>\n",
       "    </tr>\n",
       "    <tr>\n",
       "      <th>395</th>\n",
       "      <td>1</td>\n",
       "      <td>1.077655</td>\n",
       "      <td>0.878567</td>\n",
       "    </tr>\n",
       "    <tr>\n",
       "      <th>396</th>\n",
       "      <td>1</td>\n",
       "      <td>-1.273770</td>\n",
       "      <td>-0.869016</td>\n",
       "    </tr>\n",
       "    <tr>\n",
       "      <th>397</th>\n",
       "      <td>1</td>\n",
       "      <td>-0.426195</td>\n",
       "      <td>0.684666</td>\n",
       "    </tr>\n",
       "    <tr>\n",
       "      <th>398</th>\n",
       "      <td>1</td>\n",
       "      <td>0.818836</td>\n",
       "      <td>1.428091</td>\n",
       "    </tr>\n",
       "    <tr>\n",
       "      <th>399</th>\n",
       "      <td>1</td>\n",
       "      <td>0.691452</td>\n",
       "      <td>1.346405</td>\n",
       "    </tr>\n",
       "  </tbody>\n",
       "</table>\n",
       "<p>400 rows × 3 columns</p>\n",
       "</div>"
      ],
      "text/plain": [
       "     has_churned  time_since_first_purchase  time_since_last_purchase\n",
       "0              0                  -1.089221                 -0.721322\n",
       "1              0                   1.182983                  3.634435\n",
       "2              0                  -0.846156                 -0.427582\n",
       "3              0                   0.086942                 -0.535672\n",
       "4              0                  -1.166642                 -0.672640\n",
       "..           ...                        ...                       ...\n",
       "395            1                   1.077655                  0.878567\n",
       "396            1                  -1.273770                 -0.869016\n",
       "397            1                  -0.426195                  0.684666\n",
       "398            1                   0.818836                  1.428091\n",
       "399            1                   0.691452                  1.346405\n",
       "\n",
       "[400 rows x 3 columns]"
      ]
     },
     "execution_count": 65,
     "metadata": {},
     "output_type": "execute_result"
    }
   ],
   "source": [
    "churn = pd.read_csv(r\"C:\\Users\\PC\\Desktop\\Oluwatobi\\Python\\Statistics in Python\\churn.csv\")\n",
    "churn"
   ]
  },
  {
   "cell_type": "code",
   "execution_count": 66,
   "id": "ea84f93e-c6b0-4b8b-b744-bb47db0d8fcb",
   "metadata": {},
   "outputs": [
    {
     "data": {
      "text/plain": [
       "<seaborn.axisgrid.FacetGrid at 0x18aff6f2990>"
      ]
     },
     "execution_count": 66,
     "metadata": {},
     "output_type": "execute_result"
    },
    {
     "data": {
      "image/png": "[encoded data removed]",
      "text/plain": [
       "<Figure size 1000x500 with 2 Axes>"
      ]
     },
     "metadata": {},
     "output_type": "display_data"
    }
   ],
   "source": [
    "sns.displot(data = churn, x = \"time_since_last_purchase\", col = \"has_churned\")"
   ]
  },
  {
   "cell_type": "code",
   "execution_count": 67,
   "id": "7d268c0d-cda2-43b9-b364-ed83afdcdb9b",
   "metadata": {},
   "outputs": [
    {
     "data": {
      "text/plain": [
       "<seaborn.axisgrid.FacetGrid at 0x18afff9aa50>"
      ]
     },
     "execution_count": 67,
     "metadata": {},
     "output_type": "execute_result"
    },
    {
     "data": {
      "image/png": "[encoded data removed]",
      "text/plain": [
       "<Figure size 1000x500 with 2 Axes>"
      ]
     },
     "metadata": {},
     "output_type": "display_data"
    }
   ],
   "source": [
    "sns.displot(data = churn, x = \"time_since_first_purchase\", col = \"has_churned\")"
   ]
  },
  {
   "cell_type": "code",
   "execution_count": 68,
   "id": "230cd6e9-38bb-4da9-8d85-ed045b782a12",
   "metadata": {},
   "outputs": [
    {
     "data": {
      "image/png": "[encoded data removed]",
      "text/plain": [
       "<Figure size 640x480 with 1 Axes>"
      ]
     },
     "metadata": {},
     "output_type": "display_data"
    }
   ],
   "source": [
    "sns.regplot(x=\"time_since_first_purchase\",\n",
    "            y=\"has_churned\",\n",
    "            data=churn,\n",
    "            ci=None,\n",
    "            line_kws={\"color\": \"red\"})\n",
    "\n",
    "plt.show()"
   ]
  },
  {
   "cell_type": "code",
   "execution_count": 76,
   "id": "418faff9-19e0-48a3-943f-e033c203f2b9",
   "metadata": {},
   "outputs": [
    {
     "data": {
      "text/plain": [
       "<Axes: xlabel='time_since_first_purchase', ylabel='has_churned'>"
      ]
     },
     "execution_count": 76,
     "metadata": {},
     "output_type": "execute_result"
    },
    {
     "data": {
      "image/png": "[encoded data removed]",
      "text/plain": [
       "<Figure size 640x480 with 1 Axes>"
      ]
     },
     "metadata": {},
     "output_type": "display_data"
    }
   ],
   "source": [
    "sns.regplot(x=\"time_since_first_purchase\",\n",
    "            y=\"has_churned\",\n",
    "            data=churn,\n",
    "            ci=None,\n",
    "            logistic=True,\n",
    "            line_kws={\"color\": \"blue\"})"
   ]
  },
  {
   "cell_type": "code",
   "execution_count": 70,
   "id": "d97ea4b8-ae5b-4e14-9027-1a19291717ce",
   "metadata": {},
   "outputs": [],
   "source": [
    "from statsmodels.formula.api import logit"
   ]
  },
  {
   "cell_type": "code",
   "execution_count": 73,
   "id": "1461a87b-1362-42be-9150-31379945ea53",
   "metadata": {},
   "outputs": [
    {
     "name": "stdout",
     "output_type": "stream",
     "text": [
      "Optimization terminated successfully.\n",
      "         Current function value: 0.679663\n",
      "         Iterations 4\n"
     ]
    }
   ],
   "source": [
    "mdl_churn_vs_relationship = logit(\"has_churned ~ time_since_first_purchase\", data = churn).fit()"
   ]
  },
  {
   "cell_type": "code",
   "execution_count": 74,
   "id": "1c305605-cf0d-4b26-9afd-fffeddfe7f65",
   "metadata": {},
   "outputs": [
    {
     "data": {
      "text/plain": [
       "Intercept                   -0.015185\n",
       "time_since_first_purchase   -0.354795\n",
       "dtype: float64"
      ]
     },
     "execution_count": 74,
     "metadata": {},
     "output_type": "execute_result"
    }
   ],
   "source": [
    "mdl_churn_vs_relationship.params"
   ]
  },
  {
   "cell_type": "code",
   "execution_count": null,
   "id": "92e9274f-7a4c-4f3b-b13f-daf17e40a90b",
   "metadata": {},
   "outputs": [],
   "source": []
  },
  {
   "cell_type": "code",
   "execution_count": 71,
   "id": "8509c95e-9b19-4fdb-96f4-0c71964954d0",
   "metadata": {},
   "outputs": [
    {
     "data": {
      "text/html": [
       "<div>\n",
       "<style scoped>\n",
       "    .dataframe tbody tr th:only-of-type {\n",
       "        vertical-align: middle;\n",
       "    }\n",
       "\n",
       "    .dataframe tbody tr th {\n",
       "        vertical-align: top;\n",
       "    }\n",
       "\n",
       "    .dataframe thead th {\n",
       "        text-align: right;\n",
       "    }\n",
       "</style>\n",
       "<table border=\"1\" class=\"dataframe\">\n",
       "  <thead>\n",
       "    <tr style=\"text-align: right;\">\n",
       "      <th></th>\n",
       "      <th>has_churned</th>\n",
       "      <th>time_since_first_purchase</th>\n",
       "      <th>time_since_last_purchase</th>\n",
       "    </tr>\n",
       "  </thead>\n",
       "  <tbody>\n",
       "    <tr>\n",
       "      <th>0</th>\n",
       "      <td>0</td>\n",
       "      <td>-1.089221</td>\n",
       "      <td>-0.721322</td>\n",
       "    </tr>\n",
       "    <tr>\n",
       "      <th>1</th>\n",
       "      <td>0</td>\n",
       "      <td>1.182983</td>\n",
       "      <td>3.634435</td>\n",
       "    </tr>\n",
       "    <tr>\n",
       "      <th>2</th>\n",
       "      <td>0</td>\n",
       "      <td>-0.846156</td>\n",
       "      <td>-0.427582</td>\n",
       "    </tr>\n",
       "    <tr>\n",
       "      <th>3</th>\n",
       "      <td>0</td>\n",
       "      <td>0.086942</td>\n",
       "      <td>-0.535672</td>\n",
       "    </tr>\n",
       "    <tr>\n",
       "      <th>4</th>\n",
       "      <td>0</td>\n",
       "      <td>-1.166642</td>\n",
       "      <td>-0.672640</td>\n",
       "    </tr>\n",
       "    <tr>\n",
       "      <th>...</th>\n",
       "      <td>...</td>\n",
       "      <td>...</td>\n",
       "      <td>...</td>\n",
       "    </tr>\n",
       "    <tr>\n",
       "      <th>395</th>\n",
       "      <td>1</td>\n",
       "      <td>1.077655</td>\n",
       "      <td>0.878567</td>\n",
       "    </tr>\n",
       "    <tr>\n",
       "      <th>396</th>\n",
       "      <td>1</td>\n",
       "      <td>-1.273770</td>\n",
       "      <td>-0.869016</td>\n",
       "    </tr>\n",
       "    <tr>\n",
       "      <th>397</th>\n",
       "      <td>1</td>\n",
       "      <td>-0.426195</td>\n",
       "      <td>0.684666</td>\n",
       "    </tr>\n",
       "    <tr>\n",
       "      <th>398</th>\n",
       "      <td>1</td>\n",
       "      <td>0.818836</td>\n",
       "      <td>1.428091</td>\n",
       "    </tr>\n",
       "    <tr>\n",
       "      <th>399</th>\n",
       "      <td>1</td>\n",
       "      <td>0.691452</td>\n",
       "      <td>1.346405</td>\n",
       "    </tr>\n",
       "  </tbody>\n",
       "</table>\n",
       "<p>400 rows × 3 columns</p>\n",
       "</div>"
      ],
      "text/plain": [
       "     has_churned  time_since_first_purchase  time_since_last_purchase\n",
       "0              0                  -1.089221                 -0.721322\n",
       "1              0                   1.182983                  3.634435\n",
       "2              0                  -0.846156                 -0.427582\n",
       "3              0                   0.086942                 -0.535672\n",
       "4              0                  -1.166642                 -0.672640\n",
       "..           ...                        ...                       ...\n",
       "395            1                   1.077655                  0.878567\n",
       "396            1                  -1.273770                 -0.869016\n",
       "397            1                  -0.426195                  0.684666\n",
       "398            1                   0.818836                  1.428091\n",
       "399            1                   0.691452                  1.346405\n",
       "\n",
       "[400 rows x 3 columns]"
      ]
     },
     "execution_count": 71,
     "metadata": {},
     "output_type": "execute_result"
    }
   ],
   "source": [
    "churn"
   ]
  },
  {
   "cell_type": "code",
   "execution_count": null,
   "id": "d19f29aa-70bd-4830-bded-7773ef7ffaab",
   "metadata": {},
   "outputs": [],
   "source": []
  }
 ],
 "metadata": {
  "kernelspec": {
   "display_name": "Python 3 (ipykernel)",
   "language": "python",
   "name": "python3"
  },
  "language_info": {
   "codemirror_mode": {
    "name": "ipython",
    "version": 3
   },
   "file_extension": ".py",
   "mimetype": "text/x-python",
   "name": "python",
   "nbconvert_exporter": "python",
   "pygments_lexer": "ipython3",
   "version": "3.12.7"
  }
 },
 "nbformat": 4,
 "nbformat_minor": 5
}
